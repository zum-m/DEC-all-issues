{
  "nbformat": 4,
  "nbformat_minor": 0,
  "metadata": {
    "colab": {
      "name": "analytics_01.ipynb",
      "provenance": [],
      "toc_visible": true,
      "authorship_tag": "ABX9TyNAE+X6+Sm1Gl+psPkVXIVw",
      "include_colab_link": true
    },
    "kernelspec": {
      "name": "python3",
      "display_name": "Python 3"
    },
    "language_info": {
      "name": "python"
    }
  },
  "cells": [
    {
      "cell_type": "markdown",
      "metadata": {
        "id": "view-in-github",
        "colab_type": "text"
      },
      "source": [
        "<a href=\"https://colab.research.google.com/github/zum-m/DEC-all-issues/blob/main/analytics_01.ipynb\" target=\"_parent\"><img src=\"https://colab.research.google.com/assets/colab-badge.svg\" alt=\"Open In Colab\"/></a>"
      ]
    },
    {
      "cell_type": "markdown",
      "metadata": {
        "id": "FXivJKwBEaKR"
      },
      "source": [
        "# 0.データの取り込み\n"
      ]
    },
    {
      "cell_type": "code",
      "metadata": {
        "id": "2beYhvDADPGL"
      },
      "source": [
        "# ライブラリをインポート\n",
        "import os\n",
        "import pandas as pd\n",
        "from pandas import DataFrame\n",
        "import numpy as np\n",
        "import matplotlib.pyplot as plt\n",
        "import seaborn as sns\n",
        "%matplotlib inline\n"
      ],
      "execution_count": 1,
      "outputs": []
    },
    {
      "cell_type": "markdown",
      "metadata": {
        "id": "V9JZl5fVDfEJ"
      },
      "source": [
        "## 0-0.inportの説明\n",
        "\n",
        "\n",
        "\n",
        "```\n",
        "# import os\n",
        "\n",
        "```\n",
        "\n",
        "\n",
        "これはOSライブラリをインポートするコマンドです。\n",
        "OSライブラリによってOSに依存しているさまざまな機能を利用できます。\n",
        "主にファイルやディレクトリ操作が可能で、ファイルの一覧やpathを取得できたり、新規にファイル・ディレクトリを作成できます。\n",
        "後ほど説明しますが、取り込む対象であるデータセットの保存先ファイルのパスを指定する際に、OSライブラリを活用します。\n",
        "\n",
        "\n",
        "```\n",
        "# import pandas as pd\n",
        "\n",
        "```\n",
        "\n",
        "これはPandasライブラリをインポートするコマンドです。\n",
        "Pandasを使うと、データの読み込みや欠損値の補完、正規化、統計量の表示、グラフ化といったデータ分析に関する作業を簡単に行うことができるようになります。\n",
        "またas pdはインポートしたPandasをpdと名付ける命令文です。これによってPandasのメソッドを利用する際にpandas.メソッド名とタイピングが必要なところをpd.メソッド名とタイピングするだけでOKとなります。\n",
        "\n",
        "\n",
        "\n",
        "```\n",
        "# from pandas import DataFrame\n",
        "\n",
        "```\n",
        "\n",
        "これはPandasライブラリの中でも使用頻度が高いDataFrameライブラリを個別でインポートしています。これによってDataFrameのメソッドを利用する際にpd.DataFrameとタイピングが必要なところをDataFrameとタイピングするだけでOKとなります。\n",
        "\n",
        "\n",
        "```\n",
        "# import numpy as np\n",
        "```\n",
        "これはNumpyライブラリをインポートするコマンドです。データ分析の計算は複雑だったり、データ数が大きいので大きな負荷がかかってしまいます。Numpyを使うとその計算が高速になったり、より簡単なコマンドで計算処理を実行できます。\n",
        "\n",
        "\n",
        "```\n",
        "# import matplotlib.pyplot as plt\n",
        "```\n",
        "これはMatplotlibライブラリの中のpyplotをインポートしています。Pyplotによってグラフを作るための様々なメソッドが利用できます。\n",
        "\n",
        "\n",
        "```\n",
        "# import seaborn as sns\n",
        "```\n",
        "これはSeabornライブラリをインポートするコマンドです。Seabornはグラフを作るためのライブラリです。matplotlibで作れるグラフを更にかっこよくしてくれる機能もあります。matplotlibはカスタマイズ性が高く、Seabornは手軽に作成できるというそれぞれのメリットがあります。\n",
        "\n",
        "\n",
        "```\n",
        "# %matplotlib inline\n",
        "```\n",
        "MatplotlibやSeabornでグラフを作成する時、通常ですと画像ファイルが指定したフォルダに保管されます。%matplotlib inlineを実行することで、Google Colaboratory内に表示されます。\n",
        "（このコマンドだけライブラリのインポートの処理ではありません。）\n",
        "\n",
        "これらのライブラリは機能が非常に多いです。すべて理解するのは難しく、最初はそういうものがあるんだなぁという程度の理解度で構いません。\n",
        "\n"
      ]
    },
    {
      "cell_type": "markdown",
      "metadata": {
        "id": "waWcFkhNIxAY"
      },
      "source": [
        "## 1-1データセットの取得"
      ]
    },
    {
      "cell_type": "code",
      "metadata": {
        "colab": {
          "base_uri": "https://localhost:8080/"
        },
        "id": "XXnQZsB5Ik8A",
        "outputId": "f2b0082d-e4b2-4426-8314-f623d90ed23a"
      },
      "source": [
        "from google.colab import drive\n",
        "drive.mount('/content/drive')\n"
      ],
      "execution_count": null,
      "outputs": [
        {
          "output_type": "stream",
          "name": "stdout",
          "text": [
            "Mounted at /content/drive\n"
          ]
        }
      ]
    },
    {
      "cell_type": "markdown",
      "metadata": {
        "id": "NKgVUGanGlyB"
      },
      "source": [
        "### データセットの説明\n",
        "\n",
        "[Kickstarter Projects](https://www.kaggle.com/kemical/kickstarter-projects)より\n",
        "\n",
        "**コンテクスト** \n",
        "\n",
        "私はクラウドファンディングの愛好家で、初期の頃からキックスターターを見ていました。今はただデータを集めているだけで、作ったアプリはプロジェクトがマイルストーンに到達したときにツイートするツイッターボットだけです。@bloomwatcher です。他にもたくさんのアイデアがありますが、残念ながら開発するには時間が足りません...でも、あなたならできるはずです \n",
        "\n",
        "**コンテンツ** \n",
        "\n",
        "プロジェクトの分析に最も役立つデータを見ることができます。コラムの内容は以下の通りです。\n",
        "\n",
        " usd_pledged:プレッド数の米ドル換算値（kickstarterで変換されます）。 \n",
        " \n",
        " usd pledge real: プレッジ欄の米ドル換算値(Fixer.io APIによる換算値) \n",
        " \n",
        " usd goal real: 目標欄の米ドルでの換算値(Fixer.io APIからの換算値)\n",
        "\n",
        "\n",
        "**謝辞**\n",
        "\n",
        " データはKickstarterのプラットフォームから収集しています。 米ドルへの換算（usdpledgedreal列とusdgoalreal列）は、tonyplaysguitar氏による「Convert ks pledges to usd」スクリプトから生成されました。\n",
        "\n",
        " \n",
        "\n",
        "素晴らしいインスピレーションプロジェクトを期待しています。\n",
        "プロジェクトが成功するかどうかをリリース前に予測するモデルがあってもいいのではないでしょうか？）\"\""
      ]
    },
    {
      "cell_type": "markdown",
      "metadata": {
        "id": "cHoEZZCQJiSo"
      },
      "source": [
        "## 1-2.パスの指定"
      ]
    },
    {
      "cell_type": "code",
      "metadata": {
        "id": "9OYy2yxtJp2c"
      },
      "source": [
        "os.chdir('/content/drive/Shareddrives/dec_phase03/02_assignment/23_三浦一眞/00mydataset/archive')"
      ],
      "execution_count": null,
      "outputs": []
    },
    {
      "cell_type": "markdown",
      "metadata": {
        "id": "n9az7VFRJ2iw"
      },
      "source": [
        "## 1-3.データの取り込み"
      ]
    },
    {
      "cell_type": "markdown",
      "metadata": {
        "id": "fPkuxwRmAauq"
      },
      "source": [
        "### データの概要と解説"
      ]
    },
    {
      "cell_type": "code",
      "metadata": {
        "id": "P-1a_e8tJ7CT",
        "colab": {
          "base_uri": "https://localhost:8080/",
          "height": 964
        },
        "outputId": "5a8d0ee5-5aba-4fae-b26b-836df0f0d4aa"
      },
      "source": [
        "df = pd.read_csv('ks-projects-201801.csv')\n",
        "df"
      ],
      "execution_count": null,
      "outputs": [
        {
          "output_type": "execute_result",
          "data": {
            "text/html": [
              "<div>\n",
              "<style scoped>\n",
              "    .dataframe tbody tr th:only-of-type {\n",
              "        vertical-align: middle;\n",
              "    }\n",
              "\n",
              "    .dataframe tbody tr th {\n",
              "        vertical-align: top;\n",
              "    }\n",
              "\n",
              "    .dataframe thead th {\n",
              "        text-align: right;\n",
              "    }\n",
              "</style>\n",
              "<table border=\"1\" class=\"dataframe\">\n",
              "  <thead>\n",
              "    <tr style=\"text-align: right;\">\n",
              "      <th></th>\n",
              "      <th>ID</th>\n",
              "      <th>name</th>\n",
              "      <th>category</th>\n",
              "      <th>main_category</th>\n",
              "      <th>currency</th>\n",
              "      <th>deadline</th>\n",
              "      <th>goal</th>\n",
              "      <th>launched</th>\n",
              "      <th>pledged</th>\n",
              "      <th>state</th>\n",
              "      <th>backers</th>\n",
              "      <th>country</th>\n",
              "      <th>usd pledged</th>\n",
              "      <th>usd_pledged_real</th>\n",
              "      <th>usd_goal_real</th>\n",
              "    </tr>\n",
              "  </thead>\n",
              "  <tbody>\n",
              "    <tr>\n",
              "      <th>0</th>\n",
              "      <td>1000002330</td>\n",
              "      <td>The Songs of Adelaide &amp; Abullah</td>\n",
              "      <td>Poetry</td>\n",
              "      <td>Publishing</td>\n",
              "      <td>GBP</td>\n",
              "      <td>2015-10-09</td>\n",
              "      <td>1000.0</td>\n",
              "      <td>2015-08-11 12:12:28</td>\n",
              "      <td>0.0</td>\n",
              "      <td>failed</td>\n",
              "      <td>0</td>\n",
              "      <td>GB</td>\n",
              "      <td>0.0</td>\n",
              "      <td>0.0</td>\n",
              "      <td>1533.95</td>\n",
              "    </tr>\n",
              "    <tr>\n",
              "      <th>1</th>\n",
              "      <td>1000003930</td>\n",
              "      <td>Greeting From Earth: ZGAC Arts Capsule For ET</td>\n",
              "      <td>Narrative Film</td>\n",
              "      <td>Film &amp; Video</td>\n",
              "      <td>USD</td>\n",
              "      <td>2017-11-01</td>\n",
              "      <td>30000.0</td>\n",
              "      <td>2017-09-02 04:43:57</td>\n",
              "      <td>2421.0</td>\n",
              "      <td>failed</td>\n",
              "      <td>15</td>\n",
              "      <td>US</td>\n",
              "      <td>100.0</td>\n",
              "      <td>2421.0</td>\n",
              "      <td>30000.00</td>\n",
              "    </tr>\n",
              "    <tr>\n",
              "      <th>2</th>\n",
              "      <td>1000004038</td>\n",
              "      <td>Where is Hank?</td>\n",
              "      <td>Narrative Film</td>\n",
              "      <td>Film &amp; Video</td>\n",
              "      <td>USD</td>\n",
              "      <td>2013-02-26</td>\n",
              "      <td>45000.0</td>\n",
              "      <td>2013-01-12 00:20:50</td>\n",
              "      <td>220.0</td>\n",
              "      <td>failed</td>\n",
              "      <td>3</td>\n",
              "      <td>US</td>\n",
              "      <td>220.0</td>\n",
              "      <td>220.0</td>\n",
              "      <td>45000.00</td>\n",
              "    </tr>\n",
              "    <tr>\n",
              "      <th>3</th>\n",
              "      <td>1000007540</td>\n",
              "      <td>ToshiCapital Rekordz Needs Help to Complete Album</td>\n",
              "      <td>Music</td>\n",
              "      <td>Music</td>\n",
              "      <td>USD</td>\n",
              "      <td>2012-04-16</td>\n",
              "      <td>5000.0</td>\n",
              "      <td>2012-03-17 03:24:11</td>\n",
              "      <td>1.0</td>\n",
              "      <td>failed</td>\n",
              "      <td>1</td>\n",
              "      <td>US</td>\n",
              "      <td>1.0</td>\n",
              "      <td>1.0</td>\n",
              "      <td>5000.00</td>\n",
              "    </tr>\n",
              "    <tr>\n",
              "      <th>4</th>\n",
              "      <td>1000011046</td>\n",
              "      <td>Community Film Project: The Art of Neighborhoo...</td>\n",
              "      <td>Film &amp; Video</td>\n",
              "      <td>Film &amp; Video</td>\n",
              "      <td>USD</td>\n",
              "      <td>2015-08-29</td>\n",
              "      <td>19500.0</td>\n",
              "      <td>2015-07-04 08:35:03</td>\n",
              "      <td>1283.0</td>\n",
              "      <td>canceled</td>\n",
              "      <td>14</td>\n",
              "      <td>US</td>\n",
              "      <td>1283.0</td>\n",
              "      <td>1283.0</td>\n",
              "      <td>19500.00</td>\n",
              "    </tr>\n",
              "    <tr>\n",
              "      <th>...</th>\n",
              "      <td>...</td>\n",
              "      <td>...</td>\n",
              "      <td>...</td>\n",
              "      <td>...</td>\n",
              "      <td>...</td>\n",
              "      <td>...</td>\n",
              "      <td>...</td>\n",
              "      <td>...</td>\n",
              "      <td>...</td>\n",
              "      <td>...</td>\n",
              "      <td>...</td>\n",
              "      <td>...</td>\n",
              "      <td>...</td>\n",
              "      <td>...</td>\n",
              "      <td>...</td>\n",
              "    </tr>\n",
              "    <tr>\n",
              "      <th>378656</th>\n",
              "      <td>999976400</td>\n",
              "      <td>ChknTruk Nationwide Charity Drive 2014 (Canceled)</td>\n",
              "      <td>Documentary</td>\n",
              "      <td>Film &amp; Video</td>\n",
              "      <td>USD</td>\n",
              "      <td>2014-10-17</td>\n",
              "      <td>50000.0</td>\n",
              "      <td>2014-09-17 02:35:30</td>\n",
              "      <td>25.0</td>\n",
              "      <td>canceled</td>\n",
              "      <td>1</td>\n",
              "      <td>US</td>\n",
              "      <td>25.0</td>\n",
              "      <td>25.0</td>\n",
              "      <td>50000.00</td>\n",
              "    </tr>\n",
              "    <tr>\n",
              "      <th>378657</th>\n",
              "      <td>999977640</td>\n",
              "      <td>The Tribe</td>\n",
              "      <td>Narrative Film</td>\n",
              "      <td>Film &amp; Video</td>\n",
              "      <td>USD</td>\n",
              "      <td>2011-07-19</td>\n",
              "      <td>1500.0</td>\n",
              "      <td>2011-06-22 03:35:14</td>\n",
              "      <td>155.0</td>\n",
              "      <td>failed</td>\n",
              "      <td>5</td>\n",
              "      <td>US</td>\n",
              "      <td>155.0</td>\n",
              "      <td>155.0</td>\n",
              "      <td>1500.00</td>\n",
              "    </tr>\n",
              "    <tr>\n",
              "      <th>378658</th>\n",
              "      <td>999986353</td>\n",
              "      <td>Walls of Remedy- New lesbian Romantic Comedy f...</td>\n",
              "      <td>Narrative Film</td>\n",
              "      <td>Film &amp; Video</td>\n",
              "      <td>USD</td>\n",
              "      <td>2010-08-16</td>\n",
              "      <td>15000.0</td>\n",
              "      <td>2010-07-01 19:40:30</td>\n",
              "      <td>20.0</td>\n",
              "      <td>failed</td>\n",
              "      <td>1</td>\n",
              "      <td>US</td>\n",
              "      <td>20.0</td>\n",
              "      <td>20.0</td>\n",
              "      <td>15000.00</td>\n",
              "    </tr>\n",
              "    <tr>\n",
              "      <th>378659</th>\n",
              "      <td>999987933</td>\n",
              "      <td>BioDefense Education Kit</td>\n",
              "      <td>Technology</td>\n",
              "      <td>Technology</td>\n",
              "      <td>USD</td>\n",
              "      <td>2016-02-13</td>\n",
              "      <td>15000.0</td>\n",
              "      <td>2016-01-13 18:13:53</td>\n",
              "      <td>200.0</td>\n",
              "      <td>failed</td>\n",
              "      <td>6</td>\n",
              "      <td>US</td>\n",
              "      <td>200.0</td>\n",
              "      <td>200.0</td>\n",
              "      <td>15000.00</td>\n",
              "    </tr>\n",
              "    <tr>\n",
              "      <th>378660</th>\n",
              "      <td>999988282</td>\n",
              "      <td>Nou Renmen Ayiti!  We Love Haiti!</td>\n",
              "      <td>Performance Art</td>\n",
              "      <td>Art</td>\n",
              "      <td>USD</td>\n",
              "      <td>2011-08-16</td>\n",
              "      <td>2000.0</td>\n",
              "      <td>2011-07-19 09:07:47</td>\n",
              "      <td>524.0</td>\n",
              "      <td>failed</td>\n",
              "      <td>17</td>\n",
              "      <td>US</td>\n",
              "      <td>524.0</td>\n",
              "      <td>524.0</td>\n",
              "      <td>2000.00</td>\n",
              "    </tr>\n",
              "  </tbody>\n",
              "</table>\n",
              "<p>378661 rows × 15 columns</p>\n",
              "</div>"
            ],
            "text/plain": [
              "                ID  ... usd_goal_real\n",
              "0       1000002330  ...       1533.95\n",
              "1       1000003930  ...      30000.00\n",
              "2       1000004038  ...      45000.00\n",
              "3       1000007540  ...       5000.00\n",
              "4       1000011046  ...      19500.00\n",
              "...            ...  ...           ...\n",
              "378656   999976400  ...      50000.00\n",
              "378657   999977640  ...       1500.00\n",
              "378658   999986353  ...      15000.00\n",
              "378659   999987933  ...      15000.00\n",
              "378660   999988282  ...       2000.00\n",
              "\n",
              "[378661 rows x 15 columns]"
            ]
          },
          "metadata": {},
          "execution_count": 6
        }
      ]
    },
    {
      "cell_type": "code",
      "metadata": {
        "id": "J8Y_EBimKK5d"
      },
      "source": [
        "df.head()\n"
      ],
      "execution_count": null,
      "outputs": []
    },
    {
      "cell_type": "code",
      "metadata": {
        "colab": {
          "base_uri": "https://localhost:8080/",
          "height": 300
        },
        "id": "Oj0mlwP8KibP",
        "outputId": "bf97084a-43be-4bf8-e5cd-ecc0ed9a6237"
      },
      "source": [
        "df.describe()\n"
      ],
      "execution_count": null,
      "outputs": [
        {
          "output_type": "execute_result",
          "data": {
            "text/html": [
              "<div>\n",
              "<style scoped>\n",
              "    .dataframe tbody tr th:only-of-type {\n",
              "        vertical-align: middle;\n",
              "    }\n",
              "\n",
              "    .dataframe tbody tr th {\n",
              "        vertical-align: top;\n",
              "    }\n",
              "\n",
              "    .dataframe thead th {\n",
              "        text-align: right;\n",
              "    }\n",
              "</style>\n",
              "<table border=\"1\" class=\"dataframe\">\n",
              "  <thead>\n",
              "    <tr style=\"text-align: right;\">\n",
              "      <th></th>\n",
              "      <th>ID</th>\n",
              "      <th>goal</th>\n",
              "      <th>pledged</th>\n",
              "      <th>backers</th>\n",
              "      <th>usd pledged</th>\n",
              "      <th>usd_pledged_real</th>\n",
              "      <th>usd_goal_real</th>\n",
              "    </tr>\n",
              "  </thead>\n",
              "  <tbody>\n",
              "    <tr>\n",
              "      <th>count</th>\n",
              "      <td>3.786610e+05</td>\n",
              "      <td>3.786610e+05</td>\n",
              "      <td>3.786610e+05</td>\n",
              "      <td>378661.000000</td>\n",
              "      <td>3.748640e+05</td>\n",
              "      <td>3.786610e+05</td>\n",
              "      <td>3.786610e+05</td>\n",
              "    </tr>\n",
              "    <tr>\n",
              "      <th>mean</th>\n",
              "      <td>1.074731e+09</td>\n",
              "      <td>4.908079e+04</td>\n",
              "      <td>9.682979e+03</td>\n",
              "      <td>105.617476</td>\n",
              "      <td>7.036729e+03</td>\n",
              "      <td>9.058924e+03</td>\n",
              "      <td>4.545440e+04</td>\n",
              "    </tr>\n",
              "    <tr>\n",
              "      <th>std</th>\n",
              "      <td>6.190862e+08</td>\n",
              "      <td>1.183391e+06</td>\n",
              "      <td>9.563601e+04</td>\n",
              "      <td>907.185035</td>\n",
              "      <td>7.863975e+04</td>\n",
              "      <td>9.097334e+04</td>\n",
              "      <td>1.152950e+06</td>\n",
              "    </tr>\n",
              "    <tr>\n",
              "      <th>min</th>\n",
              "      <td>5.971000e+03</td>\n",
              "      <td>1.000000e-02</td>\n",
              "      <td>0.000000e+00</td>\n",
              "      <td>0.000000</td>\n",
              "      <td>0.000000e+00</td>\n",
              "      <td>0.000000e+00</td>\n",
              "      <td>1.000000e-02</td>\n",
              "    </tr>\n",
              "    <tr>\n",
              "      <th>25%</th>\n",
              "      <td>5.382635e+08</td>\n",
              "      <td>2.000000e+03</td>\n",
              "      <td>3.000000e+01</td>\n",
              "      <td>2.000000</td>\n",
              "      <td>1.698000e+01</td>\n",
              "      <td>3.100000e+01</td>\n",
              "      <td>2.000000e+03</td>\n",
              "    </tr>\n",
              "    <tr>\n",
              "      <th>50%</th>\n",
              "      <td>1.075276e+09</td>\n",
              "      <td>5.200000e+03</td>\n",
              "      <td>6.200000e+02</td>\n",
              "      <td>12.000000</td>\n",
              "      <td>3.947200e+02</td>\n",
              "      <td>6.243300e+02</td>\n",
              "      <td>5.500000e+03</td>\n",
              "    </tr>\n",
              "    <tr>\n",
              "      <th>75%</th>\n",
              "      <td>1.610149e+09</td>\n",
              "      <td>1.600000e+04</td>\n",
              "      <td>4.076000e+03</td>\n",
              "      <td>56.000000</td>\n",
              "      <td>3.034090e+03</td>\n",
              "      <td>4.050000e+03</td>\n",
              "      <td>1.550000e+04</td>\n",
              "    </tr>\n",
              "    <tr>\n",
              "      <th>max</th>\n",
              "      <td>2.147476e+09</td>\n",
              "      <td>1.000000e+08</td>\n",
              "      <td>2.033899e+07</td>\n",
              "      <td>219382.000000</td>\n",
              "      <td>2.033899e+07</td>\n",
              "      <td>2.033899e+07</td>\n",
              "      <td>1.663614e+08</td>\n",
              "    </tr>\n",
              "  </tbody>\n",
              "</table>\n",
              "</div>"
            ],
            "text/plain": [
              "                 ID          goal  ...  usd_pledged_real  usd_goal_real\n",
              "count  3.786610e+05  3.786610e+05  ...      3.786610e+05   3.786610e+05\n",
              "mean   1.074731e+09  4.908079e+04  ...      9.058924e+03   4.545440e+04\n",
              "std    6.190862e+08  1.183391e+06  ...      9.097334e+04   1.152950e+06\n",
              "min    5.971000e+03  1.000000e-02  ...      0.000000e+00   1.000000e-02\n",
              "25%    5.382635e+08  2.000000e+03  ...      3.100000e+01   2.000000e+03\n",
              "50%    1.075276e+09  5.200000e+03  ...      6.243300e+02   5.500000e+03\n",
              "75%    1.610149e+09  1.600000e+04  ...      4.050000e+03   1.550000e+04\n",
              "max    2.147476e+09  1.000000e+08  ...      2.033899e+07   1.663614e+08\n",
              "\n",
              "[8 rows x 7 columns]"
            ]
          },
          "metadata": {},
          "execution_count": 7
        }
      ]
    },
    {
      "cell_type": "markdown",
      "metadata": {
        "id": "OgFi3plpKUtq"
      },
      "source": [
        "\n",
        "**解説**\n",
        "\n",
        "各列のデータ数や平均、標準偏差、最小値、中央値、最高値とかを見たいときは、上記コマンドを実行\n",
        "\n",
        "* count：その列のデータ数\n",
        "* mean：その列の平均値\n",
        "* std：その列の標準偏差\n",
        "* min：その列の最小値\n",
        "* 25%：その列の最小値からカウントして25%番目に小さいデータの値(統計用語では第1四分位数と呼ばれます)\n",
        "* 50%：その列の最小値からカウントして50%番目に小さいデータの値(統計用語では中央値と呼ばれます)\n",
        "* 75%：その列の最小値からカウントして75%番目に小さいデータの値(統計用語では第3四分位数と呼ばれます)\n",
        "* max：その列の最大値\n",
        "\n",
        "※e+nといったものは、10のn乗を意味しています。例えば3.786610e+05は378661を意味しています。\n",
        "\n"
      ]
    },
    {
      "cell_type": "code",
      "metadata": {
        "id": "ldgYPZ7BLg_M"
      },
      "source": [
        "df.shape\n",
        "\n"
      ],
      "execution_count": null,
      "outputs": []
    },
    {
      "cell_type": "markdown",
      "metadata": {
        "id": "W0rV43RGLndQ"
      },
      "source": [
        "378661行\n",
        "\n",
        "１５列\n",
        "\n",
        "の情報になっている\n"
      ]
    },
    {
      "cell_type": "markdown",
      "metadata": {
        "id": "NnkCFWSiL39k"
      },
      "source": [
        ""
      ]
    },
    {
      "cell_type": "markdown",
      "metadata": {
        "id": "MoRau3ViPQRT"
      },
      "source": [
        "# 1(2-2-1).カラム名を理解する"
      ]
    },
    {
      "cell_type": "code",
      "metadata": {
        "id": "Y01SGoMNPk0i"
      },
      "source": [
        "df.info()"
      ],
      "execution_count": null,
      "outputs": []
    },
    {
      "cell_type": "code",
      "metadata": {
        "id": "CHRhYQAIPubk"
      },
      "source": [
        "df.head()\n"
      ],
      "execution_count": null,
      "outputs": []
    },
    {
      "cell_type": "markdown",
      "metadata": {
        "id": "sPUgkfmpZs1l"
      },
      "source": [
        "## 1-(1~6).テーブル定義情報の確認\n",
        "※講義の解説に沿って理解をしました。\n",
        "\n",
        "**前提**\n",
        "\n",
        "※ちょっと古いデータかも。🟡実際に現在のサイトを見た印象とだいぶ違うかも\n",
        "\n",
        "**目標**\n",
        "\n",
        "TEXT参考 項目(列)の意味を理解する\n"
      ]
    },
    {
      "cell_type": "markdown",
      "metadata": {
        "id": "Qms0tXBxR_P5"
      },
      "source": [
        "|物理名(カラム名)\t|論理名|説明|\n",
        "|:--|:--|:--|\n",
        "|ID| 利用者ID?| KICKSTARTER上で管理するための番号|\n",
        "|name| プロジェクト名| |\n",
        "|category |\t詳細分類　|第2カテゴリー(下記main_categoryで分けられた分類をさらに細分化するためのカテゴリー)|\n",
        "|main_category|\t分類 | 第1カテゴリー|\n",
        "|currency | 通過種\t|募集した通貨の単位|\n",
        "|deadline| 支援締切\t|支援金の公募期間の締切日|\n",
        "|goal\t| 目標金額　|目標公募金額|\n",
        "|launched | 公開日 | 開始された日時 |\n",
        "|pledged |　支援金額\t|公募された金額|\n",
        "|state | 達成状況\t|プロジェクトの資金調達が目標額に到達したかどうかの成功可否|\n",
        "|backers|\t支援者数|　|\n",
        "|country|　国\t| どの国のプロジェクトか　表記はUS GBなどでカテゴリ|\n",
        "|usd pledged| ドル変換支援金額(kickstarter)\t|KICKSTARTER運営側がドル換算した、公募された金額|\n",
        "|usd_pledged_real |　ドル変換支援金額(Fixer.io)\t| Fixer.io APIを利用してドル換算した、公募された金額|\n",
        "|usd_goal_real | ドル変換目標金額\t|Fixer.io APIを利用してドル換算した、目標公募金額|\n",
        "\n",
        "---\n",
        "\n"
      ]
    },
    {
      "cell_type": "code",
      "metadata": {
        "colab": {
          "base_uri": "https://localhost:8080/"
        },
        "id": "roMFjM-yeXOD",
        "outputId": "95810bc9-ba7d-4d2b-c8ae-8ec47dbd8940"
      },
      "source": [
        "# 1-2 大きさ確認\n",
        "df.shape"
      ],
      "execution_count": null,
      "outputs": [
        {
          "output_type": "execute_result",
          "data": {
            "text/plain": [
              "(378661, 15)"
            ]
          },
          "metadata": {},
          "execution_count": 30
        }
      ]
    },
    {
      "cell_type": "markdown",
      "metadata": {
        "id": "6IOYrJ2Vupty"
      },
      "source": [
        "---"
      ]
    },
    {
      "cell_type": "code",
      "metadata": {
        "id": "Sa0bBwAJcfyb"
      },
      "source": [
        "# １−3.データ型確認\n",
        "df.info()\n",
        "# print(\"または=======\")\n",
        "# df.dtypes\n",
        "\n",
        "# 🟡確認した後どうする？？\n",
        "# コンピュータが勝手に理解する部分の癖を把握。⇨idが計算可能なintになってないか？など\n",
        "# objectは（１−４.６へ進む）カテゴリ軽データとして、ユニーク値を確認"
      ],
      "execution_count": null,
      "outputs": []
    },
    {
      "cell_type": "markdown",
      "metadata": {
        "id": "GMBBi18lunvZ"
      },
      "source": [
        "---\n"
      ]
    },
    {
      "cell_type": "code",
      "metadata": {
        "id": "QrO-frWEgpG2",
        "colab": {
          "base_uri": "https://localhost:8080/",
          "height": 576
        },
        "outputId": "05393a42-ef5e-4740-b6ff-de0935615586"
      },
      "source": [
        "# １−４,6　個数を集計　　objectを確認\n",
        "# 🟡 何のために？？ ４と６の違いは？？\n",
        "\n",
        "df['name'].value_counts()"
      ],
      "execution_count": null,
      "outputs": [
        {
          "output_type": "error",
          "ename": "KeyError",
          "evalue": "ignored",
          "traceback": [
            "\u001b[0;31m---------------------------------------------------------------------------\u001b[0m",
            "\u001b[0;31mKeyError\u001b[0m                                  Traceback (most recent call last)",
            "\u001b[0;32m/usr/local/lib/python3.7/dist-packages/pandas/core/indexes/base.py\u001b[0m in \u001b[0;36mget_loc\u001b[0;34m(self, key, method, tolerance)\u001b[0m\n\u001b[1;32m   2897\u001b[0m             \u001b[0;32mtry\u001b[0m\u001b[0;34m:\u001b[0m\u001b[0;34m\u001b[0m\u001b[0;34m\u001b[0m\u001b[0m\n\u001b[0;32m-> 2898\u001b[0;31m                 \u001b[0;32mreturn\u001b[0m \u001b[0mself\u001b[0m\u001b[0;34m.\u001b[0m\u001b[0m_engine\u001b[0m\u001b[0;34m.\u001b[0m\u001b[0mget_loc\u001b[0m\u001b[0;34m(\u001b[0m\u001b[0mcasted_key\u001b[0m\u001b[0;34m)\u001b[0m\u001b[0;34m\u001b[0m\u001b[0;34m\u001b[0m\u001b[0m\n\u001b[0m\u001b[1;32m   2899\u001b[0m             \u001b[0;32mexcept\u001b[0m \u001b[0mKeyError\u001b[0m \u001b[0;32mas\u001b[0m \u001b[0merr\u001b[0m\u001b[0;34m:\u001b[0m\u001b[0;34m\u001b[0m\u001b[0;34m\u001b[0m\u001b[0m\n",
            "\u001b[0;32mpandas/_libs/index.pyx\u001b[0m in \u001b[0;36mpandas._libs.index.IndexEngine.get_loc\u001b[0;34m()\u001b[0m\n",
            "\u001b[0;32mpandas/_libs/index.pyx\u001b[0m in \u001b[0;36mpandas._libs.index.IndexEngine.get_loc\u001b[0;34m()\u001b[0m\n",
            "\u001b[0;32mpandas/_libs/hashtable_class_helper.pxi\u001b[0m in \u001b[0;36mpandas._libs.hashtable.PyObjectHashTable.get_item\u001b[0;34m()\u001b[0m\n",
            "\u001b[0;32mpandas/_libs/hashtable_class_helper.pxi\u001b[0m in \u001b[0;36mpandas._libs.hashtable.PyObjectHashTable.get_item\u001b[0;34m()\u001b[0m\n",
            "\u001b[0;31mKeyError\u001b[0m: 'name'",
            "\nThe above exception was the direct cause of the following exception:\n",
            "\u001b[0;31mKeyError\u001b[0m                                  Traceback (most recent call last)",
            "\u001b[0;32m<ipython-input-50-0503e4ca0b0b>\u001b[0m in \u001b[0;36m<module>\u001b[0;34m()\u001b[0m\n\u001b[1;32m      2\u001b[0m \u001b[0;31m# 🟡 何のために？？ ４と６の違いは？？\u001b[0m\u001b[0;34m\u001b[0m\u001b[0;34m\u001b[0m\u001b[0;34m\u001b[0m\u001b[0m\n\u001b[1;32m      3\u001b[0m \u001b[0;34m\u001b[0m\u001b[0m\n\u001b[0;32m----> 4\u001b[0;31m \u001b[0mdf\u001b[0m\u001b[0;34m[\u001b[0m\u001b[0;34m'name'\u001b[0m\u001b[0;34m]\u001b[0m\u001b[0;34m.\u001b[0m\u001b[0mvalue_counts\u001b[0m\u001b[0;34m(\u001b[0m\u001b[0;34m)\u001b[0m\u001b[0;34m\u001b[0m\u001b[0;34m\u001b[0m\u001b[0m\n\u001b[0m",
            "\u001b[0;32m/usr/local/lib/python3.7/dist-packages/pandas/core/frame.py\u001b[0m in \u001b[0;36m__getitem__\u001b[0;34m(self, key)\u001b[0m\n\u001b[1;32m   2904\u001b[0m             \u001b[0;32mif\u001b[0m \u001b[0mself\u001b[0m\u001b[0;34m.\u001b[0m\u001b[0mcolumns\u001b[0m\u001b[0;34m.\u001b[0m\u001b[0mnlevels\u001b[0m \u001b[0;34m>\u001b[0m \u001b[0;36m1\u001b[0m\u001b[0;34m:\u001b[0m\u001b[0;34m\u001b[0m\u001b[0;34m\u001b[0m\u001b[0m\n\u001b[1;32m   2905\u001b[0m                 \u001b[0;32mreturn\u001b[0m \u001b[0mself\u001b[0m\u001b[0;34m.\u001b[0m\u001b[0m_getitem_multilevel\u001b[0m\u001b[0;34m(\u001b[0m\u001b[0mkey\u001b[0m\u001b[0;34m)\u001b[0m\u001b[0;34m\u001b[0m\u001b[0;34m\u001b[0m\u001b[0m\n\u001b[0;32m-> 2906\u001b[0;31m             \u001b[0mindexer\u001b[0m \u001b[0;34m=\u001b[0m \u001b[0mself\u001b[0m\u001b[0;34m.\u001b[0m\u001b[0mcolumns\u001b[0m\u001b[0;34m.\u001b[0m\u001b[0mget_loc\u001b[0m\u001b[0;34m(\u001b[0m\u001b[0mkey\u001b[0m\u001b[0;34m)\u001b[0m\u001b[0;34m\u001b[0m\u001b[0;34m\u001b[0m\u001b[0m\n\u001b[0m\u001b[1;32m   2907\u001b[0m             \u001b[0;32mif\u001b[0m \u001b[0mis_integer\u001b[0m\u001b[0;34m(\u001b[0m\u001b[0mindexer\u001b[0m\u001b[0;34m)\u001b[0m\u001b[0;34m:\u001b[0m\u001b[0;34m\u001b[0m\u001b[0;34m\u001b[0m\u001b[0m\n\u001b[1;32m   2908\u001b[0m                 \u001b[0mindexer\u001b[0m \u001b[0;34m=\u001b[0m \u001b[0;34m[\u001b[0m\u001b[0mindexer\u001b[0m\u001b[0;34m]\u001b[0m\u001b[0;34m\u001b[0m\u001b[0;34m\u001b[0m\u001b[0m\n",
            "\u001b[0;32m/usr/local/lib/python3.7/dist-packages/pandas/core/indexes/base.py\u001b[0m in \u001b[0;36mget_loc\u001b[0;34m(self, key, method, tolerance)\u001b[0m\n\u001b[1;32m   2898\u001b[0m                 \u001b[0;32mreturn\u001b[0m \u001b[0mself\u001b[0m\u001b[0;34m.\u001b[0m\u001b[0m_engine\u001b[0m\u001b[0;34m.\u001b[0m\u001b[0mget_loc\u001b[0m\u001b[0;34m(\u001b[0m\u001b[0mcasted_key\u001b[0m\u001b[0;34m)\u001b[0m\u001b[0;34m\u001b[0m\u001b[0;34m\u001b[0m\u001b[0m\n\u001b[1;32m   2899\u001b[0m             \u001b[0;32mexcept\u001b[0m \u001b[0mKeyError\u001b[0m \u001b[0;32mas\u001b[0m \u001b[0merr\u001b[0m\u001b[0;34m:\u001b[0m\u001b[0;34m\u001b[0m\u001b[0;34m\u001b[0m\u001b[0m\n\u001b[0;32m-> 2900\u001b[0;31m                 \u001b[0;32mraise\u001b[0m \u001b[0mKeyError\u001b[0m\u001b[0;34m(\u001b[0m\u001b[0mkey\u001b[0m\u001b[0;34m)\u001b[0m \u001b[0;32mfrom\u001b[0m \u001b[0merr\u001b[0m\u001b[0;34m\u001b[0m\u001b[0;34m\u001b[0m\u001b[0m\n\u001b[0m\u001b[1;32m   2901\u001b[0m \u001b[0;34m\u001b[0m\u001b[0m\n\u001b[1;32m   2902\u001b[0m         \u001b[0;32mif\u001b[0m \u001b[0mtolerance\u001b[0m \u001b[0;32mis\u001b[0m \u001b[0;32mnot\u001b[0m \u001b[0;32mNone\u001b[0m\u001b[0;34m:\u001b[0m\u001b[0;34m\u001b[0m\u001b[0;34m\u001b[0m\u001b[0m\n",
            "\u001b[0;31mKeyError\u001b[0m: 'name'"
          ]
        }
      ]
    },
    {
      "cell_type": "code",
      "metadata": {
        "id": "49X-TSC17M1s"
      },
      "source": [
        "# df['category'].value_counts()"
      ],
      "execution_count": null,
      "outputs": []
    },
    {
      "cell_type": "code",
      "metadata": {
        "id": "Qt2aQbMw7Oqt"
      },
      "source": [
        "# df['main_category'].value_counts()"
      ],
      "execution_count": null,
      "outputs": []
    },
    {
      "cell_type": "code",
      "metadata": {
        "id": "sB-5BR5R7Qb3"
      },
      "source": [
        "# df['currency'].value_counts()"
      ],
      "execution_count": null,
      "outputs": []
    },
    {
      "cell_type": "code",
      "metadata": {
        "id": "AA01JdAG7VZz",
        "colab": {
          "base_uri": "https://localhost:8080/",
          "height": 170
        },
        "outputId": "b02a0071-a9d7-4e80-833a-5814ae841b6d"
      },
      "source": [
        "df['deadline'].value_counts()"
      ],
      "execution_count": null,
      "outputs": [
        {
          "output_type": "error",
          "ename": "NameError",
          "evalue": "ignored",
          "traceback": [
            "\u001b[0;31m---------------------------------------------------------------------------\u001b[0m",
            "\u001b[0;31mNameError\u001b[0m                                 Traceback (most recent call last)",
            "\u001b[0;32m<ipython-input-1-4be1e6433a2c>\u001b[0m in \u001b[0;36m<module>\u001b[0;34m()\u001b[0m\n\u001b[0;32m----> 1\u001b[0;31m \u001b[0mdf\u001b[0m\u001b[0;34m[\u001b[0m\u001b[0;34m'deadline'\u001b[0m\u001b[0;34m]\u001b[0m\u001b[0;34m.\u001b[0m\u001b[0mvalue_counts\u001b[0m\u001b[0;34m(\u001b[0m\u001b[0;34m)\u001b[0m\u001b[0;34m\u001b[0m\u001b[0;34m\u001b[0m\u001b[0m\n\u001b[0m",
            "\u001b[0;31mNameError\u001b[0m: name 'df' is not defined"
          ]
        }
      ]
    },
    {
      "cell_type": "code",
      "metadata": {
        "id": "jjFmMsAa7f2k"
      },
      "source": [
        "# df['launched'].value_counts()"
      ],
      "execution_count": null,
      "outputs": []
    },
    {
      "cell_type": "code",
      "metadata": {
        "id": "N0hDGfLR7iBE"
      },
      "source": [
        "# df['state'].value_counts()"
      ],
      "execution_count": null,
      "outputs": []
    },
    {
      "cell_type": "code",
      "metadata": {
        "id": "qE66jwXC7lYw"
      },
      "source": [
        "df['country'].value_counts()"
      ],
      "execution_count": null,
      "outputs": []
    },
    {
      "cell_type": "markdown",
      "metadata": {
        "id": "GaCK5C1ok9Yp"
      },
      "source": [
        "**わかったこと**\n",
        "\n",
        "**1nameについて**\n",
        "\n",
        "> 🟦375764/378661とほぼ一意のnameとなっている。🟡名前がダブっているのはどんなものなのか？🟡objectからstrに変えるべき？\n",
        "\n",
        "2.**category**\n",
        "\n",
        "> 🟦lengthが１５９。🟡main_categoryからの階層があるかタチにはできないか？\n",
        "\n",
        "３.**main_category**\n",
        "\n",
        "> 🟦１５個にカテゴライズされている\n",
        "\n",
        "4.**currency**\n",
        "\n",
        "> 🟦１５個にカテゴライズ\n",
        "\n",
        "5.**deadline**\n",
        "\n",
        "> 🟦length3164　日付までのデータ🟦期限の設定の上位３つが8月。タイミングからの推測できそう。なんのタイミングか？１、成功しやすいタイミング２、期限の設定が重なりやすい時期、盛り上がるタイミング？\n",
        "※kickstarter本来の仕様の可能性あり？\n",
        "\n",
        "7.**launched**\n",
        ">🟦378089 デッドラインに比べ始める時期はバラバラ？\n",
        "\n",
        "9.**state**    \n",
        "\n",
        "|cate|int|\n",
        "|:--|:--|\n",
        "|failed |       197719|\n",
        "|successful|    133956|\n",
        "|canceled   |    38779|\n",
        "|undefined   |    3562|\n",
        "|live         |   2799|\n",
        "|suspended     |  1846|\n",
        "\n",
        "> キャンセル多い　　　undefinedとは？ 　　停止中もある。その理由にストーリーはあるか？\n",
        "\n",
        "11.**country**\n",
        "> length23 日本少ないの残念.。というかこれは日本のだけじゃないのか。※ちょっと古いデータかも。🟡実際に現在のサイトを見た印象とだいぶ違うかも\n",
        "\n",
        "一つ一つ見ていったけどほほかの方法ないか？？一気に情報見れないか？\n",
        "set_option??\n",
        "\n",
        "\n",
        "----\n"
      ]
    },
    {
      "cell_type": "code",
      "metadata": {
        "colab": {
          "base_uri": "https://localhost:8080/"
        },
        "id": "yG84DNAxsf0f",
        "outputId": "de5669a8-0b94-491e-8bf4-cfec009eda6a"
      },
      "source": [
        "# 5 欠損知有無\n",
        "\n",
        "df.isnull().sum()"
      ],
      "execution_count": null,
      "outputs": [
        {
          "output_type": "execute_result",
          "data": {
            "text/plain": [
              "ID                     0\n",
              "name                   4\n",
              "category               0\n",
              "main_category          0\n",
              "currency               0\n",
              "deadline               0\n",
              "goal                   0\n",
              "launched               0\n",
              "pledged                0\n",
              "state                  0\n",
              "backers                0\n",
              "country                0\n",
              "usd pledged         3797\n",
              "usd_pledged_real       0\n",
              "usd_goal_real          0\n",
              "dtype: int64"
            ]
          },
          "metadata": {},
          "execution_count": 56
        }
      ]
    },
    {
      "cell_type": "markdown",
      "metadata": {
        "id": "_oRTI_2zsruf"
      },
      "source": [
        "\n",
        "```\n",
        "nameとuds pledgedで欠損あり。\n",
        "\n",
        "🟦nameの欠損は４件と少ないため消してもいいかも\n",
        "\n",
        "nameはobjectで与えられており、いくつか重なっているものがある。これと似たようなものか？\n",
        "\n",
        "重なっているnameについては、とりあえずあげてみた。って感じで達成には結びついてないストーリーがありそう。\n",
        "\n",
        "usd pledgedはドル変換を独自でやってるもの。ほとんどがAPIに任せて変換した値は欠損値なし。\n",
        "\n",
        "独自で変換してるのは３７９７件あるが、これは修正したデータか？\n",
        "🟡なぜ独自で変換したデータが必要なのか？\n",
        "\n",
        "```\n",
        "\n",
        "----"
      ]
    },
    {
      "cell_type": "code",
      "metadata": {
        "id": "r2xayK-sdTnB"
      },
      "source": [
        "# 6 ユニーク値\n",
        "\n"
      ],
      "execution_count": null,
      "outputs": []
    },
    {
      "cell_type": "markdown",
      "metadata": {
        "id": "Bo8BB4nzu5nG"
      },
      "source": [
        "## 1-7.テーブル定義情報のアップデート\n"
      ]
    },
    {
      "cell_type": "code",
      "metadata": {
        "id": "SDlaNN3RwDiF"
      },
      "source": [
        "df.info()"
      ],
      "execution_count": null,
      "outputs": []
    },
    {
      "cell_type": "markdown",
      "metadata": {
        "id": "Djsd1VEawMUH"
      },
      "source": [
        "|物理名(カラム名)\t|論理名|ユニーク値(カテゴライズ)|データ型|欠損|説明|\n",
        "|:--|:--|:--|:--|:--|:--|\n",
        "|ID|利用者ID?||int64||KICKSTARTER上で管理するための番号|\n",
        "|name|プロジェクト名|len375764|object|4||\n",
        "|category|詳細分類|len159|object|0|第2カテゴリー(下記main_categoryで分けられた分類をさらに細分化するためのカテゴリー)|\n",
        "|main_category|分類|len15|object|0|第1カテゴリー|\n",
        "|currency|通貨種|len15|object|0|募集した通貨の単位|\n",
        "|deadline|支援締切|len3146|object|0|支援金の公募期間の締切日|\n",
        "|goal|目標金額　||float64|0|目標公募金額|\n",
        "|launched|公開日|len378089|object|0|開始された日時 |\n",
        "|pledged|支援金額||float64|0|公募された金額|\n",
        "|state|達成状況|'failed','successful','canceled','undefined','live','suspended'\t|object|0|プロジェクトの資金調達が目標額に到達したかどうかの成功可否|\n",
        "|backers|支援者数||int64|0||\n",
        "|country|国|len23|object|0|どの国のプロジェクトか　表記はUS GBなどでカテゴリ|\n",
        "|usd pledged|ドル変換支援金額(kickstarter)\t||float64|3797|KICKSTARTER運営側がドル換算した、公募された金額|\n",
        "|usd_pledged_real |ドル変換支援金額(Fixer.io)\t||float64|0|[Fixer.io API](https://www.techpit.jp/courses/30/curriculums/31/sections/264/parts/906#:~:text=usd_pledged_real-,Fixer.io%20API,-%E3%82%92%E5%88%A9%E7%94%A8%E3%81%97) を利用してドル換算した、公募された金額|\n",
        "|usd_goal_real | ドル変換目標金額\t||float64|0|[Fixer.io API](https://www.techpit.jp/courses/30/curriculums/31/sections/264/parts/906#:~:text=usd_pledged_real-,Fixer.io%20API,-%E3%82%92%E5%88%A9%E7%94%A8%E3%81%97)を利用してドル換算した、目標公募金額|\n"
      ]
    },
    {
      "cell_type": "markdown",
      "metadata": {
        "id": "nUKNdYPQDNoW"
      },
      "source": [
        "# 2章-2 データクレンジング　カラムの名前変更、消去、欠損処理 pit-1-branch"
      ]
    },
    {
      "cell_type": "markdown",
      "metadata": {
        "id": "xEvWYQKxBsd1"
      },
      "source": [
        "## 2-2-2.不要なカラムを消去する\n"
      ]
    },
    {
      "cell_type": "code",
      "metadata": {
        "colab": {
          "base_uri": "https://localhost:8080/",
          "height": 265
        },
        "id": "dcCi5YPNIEtD",
        "outputId": "b2919651-ba52-40b6-8d7f-c5c4f8c61168"
      },
      "source": [
        "df.head(3)"
      ],
      "execution_count": null,
      "outputs": [
        {
          "output_type": "execute_result",
          "data": {
            "text/html": [
              "<div>\n",
              "<style scoped>\n",
              "    .dataframe tbody tr th:only-of-type {\n",
              "        vertical-align: middle;\n",
              "    }\n",
              "\n",
              "    .dataframe tbody tr th {\n",
              "        vertical-align: top;\n",
              "    }\n",
              "\n",
              "    .dataframe thead th {\n",
              "        text-align: right;\n",
              "    }\n",
              "</style>\n",
              "<table border=\"1\" class=\"dataframe\">\n",
              "  <thead>\n",
              "    <tr style=\"text-align: right;\">\n",
              "      <th></th>\n",
              "      <th>name</th>\n",
              "      <th>category</th>\n",
              "      <th>main_category</th>\n",
              "      <th>currency</th>\n",
              "      <th>deadline</th>\n",
              "      <th>launched</th>\n",
              "      <th>state</th>\n",
              "      <th>backers</th>\n",
              "      <th>country</th>\n",
              "      <th>usd_pledged_real</th>\n",
              "      <th>usd_goal_real</th>\n",
              "    </tr>\n",
              "  </thead>\n",
              "  <tbody>\n",
              "    <tr>\n",
              "      <th>0</th>\n",
              "      <td>The Songs of Adelaide &amp; Abullah</td>\n",
              "      <td>Poetry</td>\n",
              "      <td>Publishing</td>\n",
              "      <td>GBP</td>\n",
              "      <td>2015-10-09</td>\n",
              "      <td>2015-08-11 12:12:28</td>\n",
              "      <td>failed</td>\n",
              "      <td>0</td>\n",
              "      <td>GB</td>\n",
              "      <td>0.0</td>\n",
              "      <td>1533.95</td>\n",
              "    </tr>\n",
              "    <tr>\n",
              "      <th>1</th>\n",
              "      <td>Greeting From Earth: ZGAC Arts Capsule For ET</td>\n",
              "      <td>Narrative Film</td>\n",
              "      <td>Film &amp; Video</td>\n",
              "      <td>USD</td>\n",
              "      <td>2017-11-01</td>\n",
              "      <td>2017-09-02 04:43:57</td>\n",
              "      <td>failed</td>\n",
              "      <td>15</td>\n",
              "      <td>US</td>\n",
              "      <td>2421.0</td>\n",
              "      <td>30000.00</td>\n",
              "    </tr>\n",
              "    <tr>\n",
              "      <th>2</th>\n",
              "      <td>Where is Hank?</td>\n",
              "      <td>Narrative Film</td>\n",
              "      <td>Film &amp; Video</td>\n",
              "      <td>USD</td>\n",
              "      <td>2013-02-26</td>\n",
              "      <td>2013-01-12 00:20:50</td>\n",
              "      <td>failed</td>\n",
              "      <td>3</td>\n",
              "      <td>US</td>\n",
              "      <td>220.0</td>\n",
              "      <td>45000.00</td>\n",
              "    </tr>\n",
              "  </tbody>\n",
              "</table>\n",
              "</div>"
            ],
            "text/plain": [
              "                                            name  ... usd_goal_real\n",
              "0                The Songs of Adelaide & Abullah  ...       1533.95\n",
              "1  Greeting From Earth: ZGAC Arts Capsule For ET  ...      30000.00\n",
              "2                                 Where is Hank?  ...      45000.00\n",
              "\n",
              "[3 rows x 11 columns]"
            ]
          },
          "metadata": {},
          "execution_count": 15
        }
      ]
    },
    {
      "cell_type": "code",
      "metadata": {
        "id": "x5SWc1BuH_kQ"
      },
      "source": [
        "df.drop(['ID','goal','pledged','usd pledged'],axis=1)"
      ],
      "execution_count": null,
      "outputs": []
    },
    {
      "cell_type": "code",
      "metadata": {
        "colab": {
          "base_uri": "https://localhost:8080/",
          "height": 947
        },
        "id": "OMaAdOh_Jyrr",
        "outputId": "d51229a1-70ff-4007-e261-25e96ac993d9"
      },
      "source": [
        "df"
      ],
      "execution_count": null,
      "outputs": [
        {
          "output_type": "execute_result",
          "data": {
            "text/html": [
              "<div>\n",
              "<style scoped>\n",
              "    .dataframe tbody tr th:only-of-type {\n",
              "        vertical-align: middle;\n",
              "    }\n",
              "\n",
              "    .dataframe tbody tr th {\n",
              "        vertical-align: top;\n",
              "    }\n",
              "\n",
              "    .dataframe thead th {\n",
              "        text-align: right;\n",
              "    }\n",
              "</style>\n",
              "<table border=\"1\" class=\"dataframe\">\n",
              "  <thead>\n",
              "    <tr style=\"text-align: right;\">\n",
              "      <th></th>\n",
              "      <th>name</th>\n",
              "      <th>category</th>\n",
              "      <th>main_category</th>\n",
              "      <th>currency</th>\n",
              "      <th>deadline</th>\n",
              "      <th>launched</th>\n",
              "      <th>state</th>\n",
              "      <th>backers</th>\n",
              "      <th>country</th>\n",
              "      <th>usd_pledged_real</th>\n",
              "      <th>usd_goal_real</th>\n",
              "    </tr>\n",
              "  </thead>\n",
              "  <tbody>\n",
              "    <tr>\n",
              "      <th>0</th>\n",
              "      <td>The Songs of Adelaide &amp; Abullah</td>\n",
              "      <td>Poetry</td>\n",
              "      <td>Publishing</td>\n",
              "      <td>GBP</td>\n",
              "      <td>2015-10-09</td>\n",
              "      <td>2015-08-11 12:12:28</td>\n",
              "      <td>failed</td>\n",
              "      <td>0</td>\n",
              "      <td>GB</td>\n",
              "      <td>0.0</td>\n",
              "      <td>1533.95</td>\n",
              "    </tr>\n",
              "    <tr>\n",
              "      <th>1</th>\n",
              "      <td>Greeting From Earth: ZGAC Arts Capsule For ET</td>\n",
              "      <td>Narrative Film</td>\n",
              "      <td>Film &amp; Video</td>\n",
              "      <td>USD</td>\n",
              "      <td>2017-11-01</td>\n",
              "      <td>2017-09-02 04:43:57</td>\n",
              "      <td>failed</td>\n",
              "      <td>15</td>\n",
              "      <td>US</td>\n",
              "      <td>2421.0</td>\n",
              "      <td>30000.00</td>\n",
              "    </tr>\n",
              "    <tr>\n",
              "      <th>2</th>\n",
              "      <td>Where is Hank?</td>\n",
              "      <td>Narrative Film</td>\n",
              "      <td>Film &amp; Video</td>\n",
              "      <td>USD</td>\n",
              "      <td>2013-02-26</td>\n",
              "      <td>2013-01-12 00:20:50</td>\n",
              "      <td>failed</td>\n",
              "      <td>3</td>\n",
              "      <td>US</td>\n",
              "      <td>220.0</td>\n",
              "      <td>45000.00</td>\n",
              "    </tr>\n",
              "    <tr>\n",
              "      <th>3</th>\n",
              "      <td>ToshiCapital Rekordz Needs Help to Complete Album</td>\n",
              "      <td>Music</td>\n",
              "      <td>Music</td>\n",
              "      <td>USD</td>\n",
              "      <td>2012-04-16</td>\n",
              "      <td>2012-03-17 03:24:11</td>\n",
              "      <td>failed</td>\n",
              "      <td>1</td>\n",
              "      <td>US</td>\n",
              "      <td>1.0</td>\n",
              "      <td>5000.00</td>\n",
              "    </tr>\n",
              "    <tr>\n",
              "      <th>4</th>\n",
              "      <td>Community Film Project: The Art of Neighborhoo...</td>\n",
              "      <td>Film &amp; Video</td>\n",
              "      <td>Film &amp; Video</td>\n",
              "      <td>USD</td>\n",
              "      <td>2015-08-29</td>\n",
              "      <td>2015-07-04 08:35:03</td>\n",
              "      <td>canceled</td>\n",
              "      <td>14</td>\n",
              "      <td>US</td>\n",
              "      <td>1283.0</td>\n",
              "      <td>19500.00</td>\n",
              "    </tr>\n",
              "    <tr>\n",
              "      <th>...</th>\n",
              "      <td>...</td>\n",
              "      <td>...</td>\n",
              "      <td>...</td>\n",
              "      <td>...</td>\n",
              "      <td>...</td>\n",
              "      <td>...</td>\n",
              "      <td>...</td>\n",
              "      <td>...</td>\n",
              "      <td>...</td>\n",
              "      <td>...</td>\n",
              "      <td>...</td>\n",
              "    </tr>\n",
              "    <tr>\n",
              "      <th>378656</th>\n",
              "      <td>ChknTruk Nationwide Charity Drive 2014 (Canceled)</td>\n",
              "      <td>Documentary</td>\n",
              "      <td>Film &amp; Video</td>\n",
              "      <td>USD</td>\n",
              "      <td>2014-10-17</td>\n",
              "      <td>2014-09-17 02:35:30</td>\n",
              "      <td>canceled</td>\n",
              "      <td>1</td>\n",
              "      <td>US</td>\n",
              "      <td>25.0</td>\n",
              "      <td>50000.00</td>\n",
              "    </tr>\n",
              "    <tr>\n",
              "      <th>378657</th>\n",
              "      <td>The Tribe</td>\n",
              "      <td>Narrative Film</td>\n",
              "      <td>Film &amp; Video</td>\n",
              "      <td>USD</td>\n",
              "      <td>2011-07-19</td>\n",
              "      <td>2011-06-22 03:35:14</td>\n",
              "      <td>failed</td>\n",
              "      <td>5</td>\n",
              "      <td>US</td>\n",
              "      <td>155.0</td>\n",
              "      <td>1500.00</td>\n",
              "    </tr>\n",
              "    <tr>\n",
              "      <th>378658</th>\n",
              "      <td>Walls of Remedy- New lesbian Romantic Comedy f...</td>\n",
              "      <td>Narrative Film</td>\n",
              "      <td>Film &amp; Video</td>\n",
              "      <td>USD</td>\n",
              "      <td>2010-08-16</td>\n",
              "      <td>2010-07-01 19:40:30</td>\n",
              "      <td>failed</td>\n",
              "      <td>1</td>\n",
              "      <td>US</td>\n",
              "      <td>20.0</td>\n",
              "      <td>15000.00</td>\n",
              "    </tr>\n",
              "    <tr>\n",
              "      <th>378659</th>\n",
              "      <td>BioDefense Education Kit</td>\n",
              "      <td>Technology</td>\n",
              "      <td>Technology</td>\n",
              "      <td>USD</td>\n",
              "      <td>2016-02-13</td>\n",
              "      <td>2016-01-13 18:13:53</td>\n",
              "      <td>failed</td>\n",
              "      <td>6</td>\n",
              "      <td>US</td>\n",
              "      <td>200.0</td>\n",
              "      <td>15000.00</td>\n",
              "    </tr>\n",
              "    <tr>\n",
              "      <th>378660</th>\n",
              "      <td>Nou Renmen Ayiti!  We Love Haiti!</td>\n",
              "      <td>Performance Art</td>\n",
              "      <td>Art</td>\n",
              "      <td>USD</td>\n",
              "      <td>2011-08-16</td>\n",
              "      <td>2011-07-19 09:07:47</td>\n",
              "      <td>failed</td>\n",
              "      <td>17</td>\n",
              "      <td>US</td>\n",
              "      <td>524.0</td>\n",
              "      <td>2000.00</td>\n",
              "    </tr>\n",
              "  </tbody>\n",
              "</table>\n",
              "<p>378661 rows × 11 columns</p>\n",
              "</div>"
            ],
            "text/plain": [
              "                                                     name  ... usd_goal_real\n",
              "0                         The Songs of Adelaide & Abullah  ...       1533.95\n",
              "1           Greeting From Earth: ZGAC Arts Capsule For ET  ...      30000.00\n",
              "2                                          Where is Hank?  ...      45000.00\n",
              "3       ToshiCapital Rekordz Needs Help to Complete Album  ...       5000.00\n",
              "4       Community Film Project: The Art of Neighborhoo...  ...      19500.00\n",
              "...                                                   ...  ...           ...\n",
              "378656  ChknTruk Nationwide Charity Drive 2014 (Canceled)  ...      50000.00\n",
              "378657                                          The Tribe  ...       1500.00\n",
              "378658  Walls of Remedy- New lesbian Romantic Comedy f...  ...      15000.00\n",
              "378659                           BioDefense Education Kit  ...      15000.00\n",
              "378660                  Nou Renmen Ayiti!  We Love Haiti!  ...       2000.00\n",
              "\n",
              "[378661 rows x 11 columns]"
            ]
          },
          "metadata": {},
          "execution_count": 13
        }
      ]
    },
    {
      "cell_type": "markdown",
      "metadata": {
        "id": "WZf7qlspIs80"
      },
      "source": [
        "* axis=とは？\n",
        "* dropを使ったデータは表示が変わるだけで、データ自体に変更はない。変数に代入したときにdfの中身が変わる。第3引数にinplace=Trueを代入でもdfに再代入されたのと同じく、中身が更新される。\n",
        "\n",
        "\n"
      ]
    },
    {
      "cell_type": "markdown",
      "metadata": {
        "id": "HZmAtyB3B1FI"
      },
      "source": [
        "## 2-2-3-.カラム名の変更\n",
        "\n",
        "**論理名を物理名に置き換え**"
      ]
    },
    {
      "cell_type": "code",
      "metadata": {
        "id": "d4jRCpWyJo5c"
      },
      "source": [
        "df = df.rename(columns = {'name': 'PJ名', 'category': '第2カテゴリー', 'main_category': '第1カテゴリー', 'currency': '通貨', 'deadline': '締切日', 'launched': '開始日', 'state': '成否', 'backers': '支援者数', 'country': '国', 'usd_pledged_real': '支援額', 'usd_goal_real': '目標額'})"
      ],
      "execution_count": null,
      "outputs": []
    },
    {
      "cell_type": "code",
      "metadata": {
        "id": "40IL-aeGKPhR"
      },
      "source": [
        "df.head(5)"
      ],
      "execution_count": null,
      "outputs": []
    },
    {
      "cell_type": "markdown",
      "metadata": {
        "id": "PSt6eUarB8DR"
      },
      "source": [
        "## 2-2-4.欠損データの確認"
      ]
    },
    {
      "cell_type": "code",
      "metadata": {
        "colab": {
          "base_uri": "https://localhost:8080/"
        },
        "id": "R82uvfSfLOcY",
        "outputId": "9548bbe8-02b2-4067-ff46-87bc49d38f57"
      },
      "source": [
        "df.info()"
      ],
      "execution_count": null,
      "outputs": [
        {
          "output_type": "stream",
          "name": "stdout",
          "text": [
            "<class 'pandas.core.frame.DataFrame'>\n",
            "RangeIndex: 378661 entries, 0 to 378660\n",
            "Data columns (total 11 columns):\n",
            " #   Column   Non-Null Count   Dtype  \n",
            "---  ------   --------------   -----  \n",
            " 0   PJ名      378657 non-null  object \n",
            " 1   第2カテゴリー  378661 non-null  object \n",
            " 2   第1カテゴリー  378661 non-null  object \n",
            " 3   通貨       378661 non-null  object \n",
            " 4   締切日      378661 non-null  object \n",
            " 5   開始日      378661 non-null  object \n",
            " 6   成否       378661 non-null  object \n",
            " 7   支援者数     378661 non-null  int64  \n",
            " 8   国        378661 non-null  object \n",
            " 9   支援額      378661 non-null  float64\n",
            " 10  目標額      378661 non-null  float64\n",
            "dtypes: float64(2), int64(1), object(8)\n",
            "memory usage: 31.8+ MB\n"
          ]
        }
      ]
    },
    {
      "cell_type": "code",
      "metadata": {
        "colab": {
          "base_uri": "https://localhost:8080/"
        },
        "id": "u0NAIcEyLyCh",
        "outputId": "9151b496-6297-4066-c04d-55dcc032f303"
      },
      "source": [
        "df.shape"
      ],
      "execution_count": null,
      "outputs": [
        {
          "output_type": "execute_result",
          "data": {
            "text/plain": [
              "(378661, 11)"
            ]
          },
          "metadata": {},
          "execution_count": 25
        }
      ]
    },
    {
      "cell_type": "markdown",
      "metadata": {
        "id": "GEFssB1gOKhK"
      },
      "source": [
        "全体数がわかる。\n",
        "もっっと簡易的に欠損値をみたい場合は以下"
      ]
    },
    {
      "cell_type": "code",
      "metadata": {
        "colab": {
          "base_uri": "https://localhost:8080/"
        },
        "id": "5ydMEls_Lo8_",
        "outputId": "81ff9036-d16e-49e5-f7a1-ef584e7883c9"
      },
      "source": [
        "df.isnull().sum()"
      ],
      "execution_count": null,
      "outputs": [
        {
          "output_type": "execute_result",
          "data": {
            "text/plain": [
              "PJ名        4\n",
              "第2カテゴリー    0\n",
              "第1カテゴリー    0\n",
              "通貨         0\n",
              "締切日        0\n",
              "開始日        0\n",
              "成否         0\n",
              "支援者数       0\n",
              "国          0\n",
              "支援額        0\n",
              "目標額        0\n",
              "dtype: int64"
            ]
          },
          "metadata": {},
          "execution_count": 22
        }
      ]
    },
    {
      "cell_type": "code",
      "metadata": {
        "id": "Yx6-TsReOZAs"
      },
      "source": [
        "# 妥当性も考慮して、割合で見るなら\n",
        "1-(df.isnull().sum()/378661)"
      ],
      "execution_count": null,
      "outputs": []
    },
    {
      "cell_type": "markdown",
      "metadata": {
        "id": "bUwe4ysAO9Rl"
      },
      "source": [
        "#### 文法:カラムについて詳しく見る 欠損のみ表示する"
      ]
    },
    {
      "cell_type": "code",
      "metadata": {
        "id": "fgXRVmOmPoP7"
      },
      "source": [
        "df['PJ名'].isnull()\n",
        "# この中で欠損していることを示すTrueの行のみを表示させたい場合、下記コードを実行します。"
      ],
      "execution_count": null,
      "outputs": []
    },
    {
      "cell_type": "code",
      "metadata": {
        "colab": {
          "base_uri": "https://localhost:8080/",
          "height": 175
        },
        "id": "9sZK0vGFPCzZ",
        "outputId": "52f7ef3b-ca0f-4de3-e45b-f6171fb639bd"
      },
      "source": [
        "df[df['PJ名'].isnull()]"
      ],
      "execution_count": null,
      "outputs": [
        {
          "output_type": "execute_result",
          "data": {
            "text/html": [
              "<div>\n",
              "<style scoped>\n",
              "    .dataframe tbody tr th:only-of-type {\n",
              "        vertical-align: middle;\n",
              "    }\n",
              "\n",
              "    .dataframe tbody tr th {\n",
              "        vertical-align: top;\n",
              "    }\n",
              "\n",
              "    .dataframe thead th {\n",
              "        text-align: right;\n",
              "    }\n",
              "</style>\n",
              "<table border=\"1\" class=\"dataframe\">\n",
              "  <thead>\n",
              "    <tr style=\"text-align: right;\">\n",
              "      <th></th>\n",
              "      <th>PJ名</th>\n",
              "      <th>第2カテゴリー</th>\n",
              "      <th>第1カテゴリー</th>\n",
              "      <th>通貨</th>\n",
              "      <th>締切日</th>\n",
              "      <th>開始日</th>\n",
              "      <th>成否</th>\n",
              "      <th>支援者数</th>\n",
              "      <th>国</th>\n",
              "      <th>支援額</th>\n",
              "      <th>目標額</th>\n",
              "    </tr>\n",
              "  </thead>\n",
              "  <tbody>\n",
              "    <tr>\n",
              "      <th>166851</th>\n",
              "      <td>NaN</td>\n",
              "      <td>Narrative Film</td>\n",
              "      <td>Film &amp; Video</td>\n",
              "      <td>USD</td>\n",
              "      <td>2012-02-29</td>\n",
              "      <td>2012-01-01 12:35:31</td>\n",
              "      <td>failed</td>\n",
              "      <td>1</td>\n",
              "      <td>US</td>\n",
              "      <td>100.00</td>\n",
              "      <td>200000.00</td>\n",
              "    </tr>\n",
              "    <tr>\n",
              "      <th>307234</th>\n",
              "      <td>NaN</td>\n",
              "      <td>Video Games</td>\n",
              "      <td>Games</td>\n",
              "      <td>GBP</td>\n",
              "      <td>2013-01-06</td>\n",
              "      <td>2012-12-19 23:57:48</td>\n",
              "      <td>failed</td>\n",
              "      <td>12</td>\n",
              "      <td>GB</td>\n",
              "      <td>316.05</td>\n",
              "      <td>3224.97</td>\n",
              "    </tr>\n",
              "    <tr>\n",
              "      <th>309991</th>\n",
              "      <td>NaN</td>\n",
              "      <td>Product Design</td>\n",
              "      <td>Design</td>\n",
              "      <td>USD</td>\n",
              "      <td>2016-07-18</td>\n",
              "      <td>2016-06-18 05:01:47</td>\n",
              "      <td>suspended</td>\n",
              "      <td>0</td>\n",
              "      <td>US</td>\n",
              "      <td>0.00</td>\n",
              "      <td>2500.00</td>\n",
              "    </tr>\n",
              "    <tr>\n",
              "      <th>338931</th>\n",
              "      <td>NaN</td>\n",
              "      <td>Painting</td>\n",
              "      <td>Art</td>\n",
              "      <td>USD</td>\n",
              "      <td>2011-12-05</td>\n",
              "      <td>2011-11-06 23:55:55</td>\n",
              "      <td>failed</td>\n",
              "      <td>5</td>\n",
              "      <td>US</td>\n",
              "      <td>220.00</td>\n",
              "      <td>35000.00</td>\n",
              "    </tr>\n",
              "  </tbody>\n",
              "</table>\n",
              "</div>"
            ],
            "text/plain": [
              "        PJ名         第2カテゴリー       第1カテゴリー   通貨  ... 支援者数   国     支援額        目標額\n",
              "166851  NaN  Narrative Film  Film & Video  USD  ...    1  US  100.00  200000.00\n",
              "307234  NaN     Video Games         Games  GBP  ...   12  GB  316.05    3224.97\n",
              "309991  NaN  Product Design        Design  USD  ...    0  US    0.00    2500.00\n",
              "338931  NaN        Painting           Art  USD  ...    5  US  220.00   35000.00\n",
              "\n",
              "[4 rows x 11 columns]"
            ]
          },
          "metadata": {},
          "execution_count": 31
        }
      ]
    },
    {
      "cell_type": "markdown",
      "metadata": {
        "id": "HWR3OX57Px0o"
      },
      "source": [
        "\n",
        "\n",
        "```\n",
        "🟡ここの考え方わからない\n",
        "　　　かっこの意味は？それぞれの違いは？\n",
        "\n",
        "```\n",
        "\n"
      ]
    },
    {
      "cell_type": "markdown",
      "metadata": {
        "id": "CAOT8y-6CBPT"
      },
      "source": [
        "## 2-2-5.欠損データをどう処理すべきか考える"
      ]
    },
    {
      "cell_type": "markdown",
      "metadata": {
        "id": "qZJYTSD9RUKJ"
      },
      "source": [
        "現在、PJ名のカラムに欠損値がある\n",
        "方法としては\n",
        "\n",
        "1.   補う\n",
        "2.   消去\n",
        "\n",
        "判断の基準はについて\n",
        "\n",
        "*データ分析者本人にゴールまでの道筋が駄ねられている*\n",
        "\n",
        "**目標、ゴールを明確にすると**\n",
        "\n",
        "> 「クラウドファンディングでの資金調達成功プロジェクトの特徴、もしくは資金調達失敗プロジェクトの特徴を掴む」\n",
        "\n",
        "\n",
        "それを踏まえて、\n",
        "\n",
        "```\n",
        "df[df['PJ名'].isnull()]\n",
        "```\n",
        "でデータの中身を確認した。\n",
        "名前自体に意味はなく、他のデータが目標に向けては十分使えるものとなっているため\n",
        "**「補って使うべき」**。\n",
        "\n",
        "\n",
        "---\n",
        "\n",
        "```\n",
        "補足、思ったこと\n",
        "  あまり関係ないが、PJ名をちゃんと設定していない場合の達成率とかを分析したいなら、補うPJ名を「PJ名がないのはやる気ない？」など仮設をぶっこんどくと想起できていいかも\n",
        "\n",
        "  そして今は四件しかないため、もっと集めて来るか、PJ名がかぶっているもので分析のできそう。\n",
        "```\n",
        "\n",
        "\n"
      ]
    },
    {
      "cell_type": "markdown",
      "metadata": {
        "id": "gS4ORIbdCO-P"
      },
      "source": [
        "## 2-2-6.欠損部に値を代入"
      ]
    },
    {
      "cell_type": "code",
      "metadata": {
        "id": "n6W3XEObDY7J",
        "colab": {
          "base_uri": "https://localhost:8080/"
        },
        "outputId": "ed2f2390-fd2b-4ab8-e940-bf4eb0739a82"
      },
      "source": [
        "df['PJ名'].fillna('no_name')\n",
        "\n",
        "# これは中身の変更を反映させられているかの確認ができるだけ。中身の変更はされない。"
      ],
      "execution_count": null,
      "outputs": [
        {
          "output_type": "execute_result",
          "data": {
            "text/plain": [
              "0                           The Songs of Adelaide & Abullah\n",
              "1             Greeting From Earth: ZGAC Arts Capsule For ET\n",
              "2                                            Where is Hank?\n",
              "3         ToshiCapital Rekordz Needs Help to Complete Album\n",
              "4         Community Film Project: The Art of Neighborhoo...\n",
              "                                ...                        \n",
              "378656    ChknTruk Nationwide Charity Drive 2014 (Canceled)\n",
              "378657                                            The Tribe\n",
              "378658    Walls of Remedy- New lesbian Romantic Comedy f...\n",
              "378659                             BioDefense Education Kit\n",
              "378660                    Nou Renmen Ayiti!  We Love Haiti!\n",
              "Name: PJ名, Length: 378661, dtype: object"
            ]
          },
          "metadata": {},
          "execution_count": 32
        }
      ]
    },
    {
      "cell_type": "code",
      "metadata": {
        "colab": {
          "base_uri": "https://localhost:8080/",
          "height": 175
        },
        "id": "vD6t8kC1Waqd",
        "outputId": "46e316c7-e9b7-453c-a42e-5a0365d9aa71"
      },
      "source": [
        "# 中身を確認\n",
        "df.loc[[166851, 307234, 309991, 338931]]"
      ],
      "execution_count": null,
      "outputs": [
        {
          "output_type": "execute_result",
          "data": {
            "text/html": [
              "<div>\n",
              "<style scoped>\n",
              "    .dataframe tbody tr th:only-of-type {\n",
              "        vertical-align: middle;\n",
              "    }\n",
              "\n",
              "    .dataframe tbody tr th {\n",
              "        vertical-align: top;\n",
              "    }\n",
              "\n",
              "    .dataframe thead th {\n",
              "        text-align: right;\n",
              "    }\n",
              "</style>\n",
              "<table border=\"1\" class=\"dataframe\">\n",
              "  <thead>\n",
              "    <tr style=\"text-align: right;\">\n",
              "      <th></th>\n",
              "      <th>PJ名</th>\n",
              "      <th>第2カテゴリー</th>\n",
              "      <th>第1カテゴリー</th>\n",
              "      <th>通貨</th>\n",
              "      <th>締切日</th>\n",
              "      <th>開始日</th>\n",
              "      <th>成否</th>\n",
              "      <th>支援者数</th>\n",
              "      <th>国</th>\n",
              "      <th>支援額</th>\n",
              "      <th>目標額</th>\n",
              "    </tr>\n",
              "  </thead>\n",
              "  <tbody>\n",
              "    <tr>\n",
              "      <th>166851</th>\n",
              "      <td>NaN</td>\n",
              "      <td>Narrative Film</td>\n",
              "      <td>Film &amp; Video</td>\n",
              "      <td>USD</td>\n",
              "      <td>2012-02-29</td>\n",
              "      <td>2012-01-01 12:35:31</td>\n",
              "      <td>failed</td>\n",
              "      <td>1</td>\n",
              "      <td>US</td>\n",
              "      <td>100.00</td>\n",
              "      <td>200000.00</td>\n",
              "    </tr>\n",
              "    <tr>\n",
              "      <th>307234</th>\n",
              "      <td>NaN</td>\n",
              "      <td>Video Games</td>\n",
              "      <td>Games</td>\n",
              "      <td>GBP</td>\n",
              "      <td>2013-01-06</td>\n",
              "      <td>2012-12-19 23:57:48</td>\n",
              "      <td>failed</td>\n",
              "      <td>12</td>\n",
              "      <td>GB</td>\n",
              "      <td>316.05</td>\n",
              "      <td>3224.97</td>\n",
              "    </tr>\n",
              "    <tr>\n",
              "      <th>309991</th>\n",
              "      <td>NaN</td>\n",
              "      <td>Product Design</td>\n",
              "      <td>Design</td>\n",
              "      <td>USD</td>\n",
              "      <td>2016-07-18</td>\n",
              "      <td>2016-06-18 05:01:47</td>\n",
              "      <td>suspended</td>\n",
              "      <td>0</td>\n",
              "      <td>US</td>\n",
              "      <td>0.00</td>\n",
              "      <td>2500.00</td>\n",
              "    </tr>\n",
              "    <tr>\n",
              "      <th>338931</th>\n",
              "      <td>NaN</td>\n",
              "      <td>Painting</td>\n",
              "      <td>Art</td>\n",
              "      <td>USD</td>\n",
              "      <td>2011-12-05</td>\n",
              "      <td>2011-11-06 23:55:55</td>\n",
              "      <td>failed</td>\n",
              "      <td>5</td>\n",
              "      <td>US</td>\n",
              "      <td>220.00</td>\n",
              "      <td>35000.00</td>\n",
              "    </tr>\n",
              "  </tbody>\n",
              "</table>\n",
              "</div>"
            ],
            "text/plain": [
              "        PJ名         第2カテゴリー       第1カテゴリー   通貨  ... 支援者数   国     支援額        目標額\n",
              "166851  NaN  Narrative Film  Film & Video  USD  ...    1  US  100.00  200000.00\n",
              "307234  NaN     Video Games         Games  GBP  ...   12  GB  316.05    3224.97\n",
              "309991  NaN  Product Design        Design  USD  ...    0  US    0.00    2500.00\n",
              "338931  NaN        Painting           Art  USD  ...    5  US  220.00   35000.00\n",
              "\n",
              "[4 rows x 11 columns]"
            ]
          },
          "metadata": {},
          "execution_count": 37
        }
      ]
    },
    {
      "cell_type": "code",
      "metadata": {
        "id": "KldNG8cCWQlO"
      },
      "source": [
        "# 中身を変更\n",
        "df['PJ名'] = df['PJ名'].fillna('no_name')"
      ],
      "execution_count": null,
      "outputs": []
    },
    {
      "cell_type": "markdown",
      "metadata": {
        "id": "zN2DlscpXRIA"
      },
      "source": [
        "```\n",
        "`df ＝　 `じゃダメなのか？\n",
        "fillnaのメソッドの反映の動きがわからない\n",
        "\n"
      ]
    },
    {
      "cell_type": "code",
      "metadata": {
        "colab": {
          "base_uri": "https://localhost:8080/",
          "height": 262
        },
        "id": "8Ml1GU6xXpno",
        "outputId": "3ddec01a-a044-4418-f60d-ca474fada461"
      },
      "source": [
        "df.loc[[166851, 307234, 309991, 338931]]"
      ],
      "execution_count": null,
      "outputs": [
        {
          "output_type": "execute_result",
          "data": {
            "text/html": [
              "<div>\n",
              "<style scoped>\n",
              "    .dataframe tbody tr th:only-of-type {\n",
              "        vertical-align: middle;\n",
              "    }\n",
              "\n",
              "    .dataframe tbody tr th {\n",
              "        vertical-align: top;\n",
              "    }\n",
              "\n",
              "    .dataframe thead th {\n",
              "        text-align: right;\n",
              "    }\n",
              "</style>\n",
              "<table border=\"1\" class=\"dataframe\">\n",
              "  <thead>\n",
              "    <tr style=\"text-align: right;\">\n",
              "      <th></th>\n",
              "      <th>PJ名</th>\n",
              "      <th>第2カテゴリー</th>\n",
              "      <th>第1カテゴリー</th>\n",
              "      <th>通貨</th>\n",
              "      <th>締切日</th>\n",
              "      <th>開始日</th>\n",
              "      <th>成否</th>\n",
              "      <th>支援者数</th>\n",
              "      <th>国</th>\n",
              "      <th>支援額</th>\n",
              "      <th>目標額</th>\n",
              "    </tr>\n",
              "  </thead>\n",
              "  <tbody>\n",
              "    <tr>\n",
              "      <th>166851</th>\n",
              "      <td>no_name</td>\n",
              "      <td>Narrative Film</td>\n",
              "      <td>Film &amp; Video</td>\n",
              "      <td>USD</td>\n",
              "      <td>2012-02-29</td>\n",
              "      <td>2012-01-01 12:35:31</td>\n",
              "      <td>failed</td>\n",
              "      <td>1</td>\n",
              "      <td>US</td>\n",
              "      <td>100.00</td>\n",
              "      <td>200000.00</td>\n",
              "    </tr>\n",
              "    <tr>\n",
              "      <th>307234</th>\n",
              "      <td>no_name</td>\n",
              "      <td>Video Games</td>\n",
              "      <td>Games</td>\n",
              "      <td>GBP</td>\n",
              "      <td>2013-01-06</td>\n",
              "      <td>2012-12-19 23:57:48</td>\n",
              "      <td>failed</td>\n",
              "      <td>12</td>\n",
              "      <td>GB</td>\n",
              "      <td>316.05</td>\n",
              "      <td>3224.97</td>\n",
              "    </tr>\n",
              "    <tr>\n",
              "      <th>309991</th>\n",
              "      <td>no_name</td>\n",
              "      <td>Product Design</td>\n",
              "      <td>Design</td>\n",
              "      <td>USD</td>\n",
              "      <td>2016-07-18</td>\n",
              "      <td>2016-06-18 05:01:47</td>\n",
              "      <td>suspended</td>\n",
              "      <td>0</td>\n",
              "      <td>US</td>\n",
              "      <td>0.00</td>\n",
              "      <td>2500.00</td>\n",
              "    </tr>\n",
              "    <tr>\n",
              "      <th>338931</th>\n",
              "      <td>no_name</td>\n",
              "      <td>Painting</td>\n",
              "      <td>Art</td>\n",
              "      <td>USD</td>\n",
              "      <td>2011-12-05</td>\n",
              "      <td>2011-11-06 23:55:55</td>\n",
              "      <td>failed</td>\n",
              "      <td>5</td>\n",
              "      <td>US</td>\n",
              "      <td>220.00</td>\n",
              "      <td>35000.00</td>\n",
              "    </tr>\n",
              "  </tbody>\n",
              "</table>\n",
              "</div>"
            ],
            "text/plain": [
              "            PJ名         第2カテゴリー       第1カテゴリー   通貨  ... 支援者数   国     支援額        目標額\n",
              "166851  no_name  Narrative Film  Film & Video  USD  ...    1  US  100.00  200000.00\n",
              "307234  no_name     Video Games         Games  GBP  ...   12  GB  316.05    3224.97\n",
              "309991  no_name  Product Design        Design  USD  ...    0  US    0.00    2500.00\n",
              "338931  no_name        Painting           Art  USD  ...    5  US  220.00   35000.00\n",
              "\n",
              "[4 rows x 11 columns]"
            ]
          },
          "metadata": {},
          "execution_count": 40
        }
      ]
    },
    {
      "cell_type": "markdown",
      "metadata": {
        "id": "xQLtyxcKYnQq"
      },
      "source": [
        "🟡[[]]になってるが、ここの捉え方よくわからん"
      ]
    },
    {
      "cell_type": "code",
      "metadata": {
        "colab": {
          "base_uri": "https://localhost:8080/"
        },
        "id": "OARExus7YRqM",
        "outputId": "957d5c82-590e-447b-94be-d21348526f2b"
      },
      "source": [
        "# 中身の確認\n",
        "# df.isnullではtrue faulsが帰ってくるだけのため以下で実行\n",
        "df.isnull().sum()"
      ],
      "execution_count": null,
      "outputs": [
        {
          "output_type": "execute_result",
          "data": {
            "text/plain": [
              "PJ名        0\n",
              "第2カテゴリー    0\n",
              "第1カテゴリー    0\n",
              "通貨         0\n",
              "締切日        0\n",
              "開始日        0\n",
              "成否         0\n",
              "支援者数       0\n",
              "国          0\n",
              "支援額        0\n",
              "目標額        0\n",
              "dtype: int64"
            ]
          },
          "metadata": {},
          "execution_count": 43
        }
      ]
    },
    {
      "cell_type": "markdown",
      "metadata": {
        "id": "OtY3XJy5Zidl"
      },
      "source": [
        "# 2-3 データクレンジング 不要データの消去"
      ]
    },
    {
      "cell_type": "markdown",
      "metadata": {
        "id": "kTF0zwAFaNK2"
      },
      "source": [
        "## 2-3-1 第2カテゴリーカラムのデータクレンジング"
      ]
    },
    {
      "cell_type": "code",
      "metadata": {
        "colab": {
          "base_uri": "https://localhost:8080/"
        },
        "id": "zPXD3235b2lF",
        "outputId": "6505e808-e8e4-4e2a-afbf-94f2d71e2533"
      },
      "source": [
        "df['第2カテゴリー']\n",
        "# これは重複がある。１対１でデータが出てくる"
      ],
      "execution_count": null,
      "outputs": [
        {
          "output_type": "execute_result",
          "data": {
            "text/plain": [
              "0                  Poetry\n",
              "1          Narrative Film\n",
              "2          Narrative Film\n",
              "3                   Music\n",
              "4            Film & Video\n",
              "               ...       \n",
              "378656        Documentary\n",
              "378657     Narrative Film\n",
              "378658     Narrative Film\n",
              "378659         Technology\n",
              "378660    Performance Art\n",
              "Name: 第2カテゴリー, Length: 378661, dtype: object"
            ]
          },
          "metadata": {},
          "execution_count": 45
        }
      ]
    },
    {
      "cell_type": "markdown",
      "metadata": {
        "id": "x6HX7os4cd3e"
      },
      "source": [
        "#### setメソッド"
      ]
    },
    {
      "cell_type": "code",
      "metadata": {
        "colab": {
          "base_uri": "https://localhost:8080/"
        },
        "id": "fUOSI_5ibvth",
        "outputId": "68da6367-3a1b-4c03-86ef-2c38d81b50d4"
      },
      "source": [
        "set(df['第2カテゴリー'])"
      ],
      "execution_count": null,
      "outputs": [
        {
          "output_type": "execute_result",
          "data": {
            "text/plain": [
              "{'3D Printing',\n",
              " 'Academic',\n",
              " 'Accessories',\n",
              " 'Action',\n",
              " 'Animals',\n",
              " 'Animation',\n",
              " 'Anthologies',\n",
              " 'Apparel',\n",
              " 'Apps',\n",
              " 'Architecture',\n",
              " 'Art',\n",
              " 'Art Books',\n",
              " 'Audio',\n",
              " 'Bacon',\n",
              " 'Blues',\n",
              " 'Calendars',\n",
              " 'Camera Equipment',\n",
              " 'Candles',\n",
              " 'Ceramics',\n",
              " \"Children's Books\",\n",
              " 'Childrenswear',\n",
              " 'Chiptune',\n",
              " 'Civic Design',\n",
              " 'Classical Music',\n",
              " 'Comedy',\n",
              " 'Comic Books',\n",
              " 'Comics',\n",
              " 'Community Gardens',\n",
              " 'Conceptual Art',\n",
              " 'Cookbooks',\n",
              " 'Country & Folk',\n",
              " 'Couture',\n",
              " 'Crafts',\n",
              " 'Crochet',\n",
              " 'DIY',\n",
              " 'DIY Electronics',\n",
              " 'Dance',\n",
              " 'Design',\n",
              " 'Digital Art',\n",
              " 'Documentary',\n",
              " 'Drama',\n",
              " 'Drinks',\n",
              " 'Electronic Music',\n",
              " 'Embroidery',\n",
              " 'Events',\n",
              " 'Experimental',\n",
              " 'Fabrication Tools',\n",
              " 'Faith',\n",
              " 'Family',\n",
              " 'Fantasy',\n",
              " \"Farmer's Markets\",\n",
              " 'Farms',\n",
              " 'Fashion',\n",
              " 'Festivals',\n",
              " 'Fiction',\n",
              " 'Film & Video',\n",
              " 'Fine Art',\n",
              " 'Flight',\n",
              " 'Food',\n",
              " 'Food Trucks',\n",
              " 'Footwear',\n",
              " 'Gadgets',\n",
              " 'Games',\n",
              " 'Gaming Hardware',\n",
              " 'Glass',\n",
              " 'Graphic Design',\n",
              " 'Graphic Novels',\n",
              " 'Hardware',\n",
              " 'Hip-Hop',\n",
              " 'Horror',\n",
              " 'Illustration',\n",
              " 'Immersive',\n",
              " 'Indie Rock',\n",
              " 'Installations',\n",
              " 'Interactive Design',\n",
              " 'Jazz',\n",
              " 'Jewelry',\n",
              " 'Journalism',\n",
              " 'Kids',\n",
              " 'Knitting',\n",
              " 'Latin',\n",
              " 'Letterpress',\n",
              " 'Literary Journals',\n",
              " 'Literary Spaces',\n",
              " 'Live Games',\n",
              " 'Makerspaces',\n",
              " 'Metal',\n",
              " 'Mixed Media',\n",
              " 'Mobile Games',\n",
              " 'Movie Theaters',\n",
              " 'Music',\n",
              " 'Music Videos',\n",
              " 'Musical',\n",
              " 'Narrative Film',\n",
              " 'Nature',\n",
              " 'Nonfiction',\n",
              " 'Painting',\n",
              " 'People',\n",
              " 'Performance Art',\n",
              " 'Performances',\n",
              " 'Periodicals',\n",
              " 'Pet Fashion',\n",
              " 'Photo',\n",
              " 'Photobooks',\n",
              " 'Photography',\n",
              " 'Places',\n",
              " 'Playing Cards',\n",
              " 'Plays',\n",
              " 'Poetry',\n",
              " 'Pop',\n",
              " 'Pottery',\n",
              " 'Print',\n",
              " 'Printing',\n",
              " 'Product Design',\n",
              " 'Public Art',\n",
              " 'Publishing',\n",
              " 'Punk',\n",
              " 'Puzzles',\n",
              " 'Quilts',\n",
              " 'R&B',\n",
              " 'Radio & Podcasts',\n",
              " 'Ready-to-wear',\n",
              " 'Residencies',\n",
              " 'Restaurants',\n",
              " 'Robots',\n",
              " 'Rock',\n",
              " 'Romance',\n",
              " 'Science Fiction',\n",
              " 'Sculpture',\n",
              " 'Shorts',\n",
              " 'Small Batch',\n",
              " 'Software',\n",
              " 'Sound',\n",
              " 'Space Exploration',\n",
              " 'Spaces',\n",
              " 'Stationery',\n",
              " 'Tabletop Games',\n",
              " 'Taxidermy',\n",
              " 'Technology',\n",
              " 'Television',\n",
              " 'Textiles',\n",
              " 'Theater',\n",
              " 'Thrillers',\n",
              " 'Translations',\n",
              " 'Typography',\n",
              " 'Vegan',\n",
              " 'Video',\n",
              " 'Video Art',\n",
              " 'Video Games',\n",
              " 'Wearables',\n",
              " 'Weaving',\n",
              " 'Web',\n",
              " 'Webcomics',\n",
              " 'Webseries',\n",
              " 'Woodworking',\n",
              " 'Workshops',\n",
              " 'World Music',\n",
              " 'Young Adult',\n",
              " 'Zines'}"
            ]
          },
          "metadata": {},
          "execution_count": 44
        }
      ]
    },
    {
      "cell_type": "markdown",
      "metadata": {
        "id": "HgcbSidJczPq"
      },
      "source": [
        "#### lenメソッド\n",
        "カラムを配列としてみた時の長さがわかる。\n",
        "\n",
        "infoとの違いは？"
      ]
    },
    {
      "cell_type": "code",
      "metadata": {
        "colab": {
          "base_uri": "https://localhost:8080/"
        },
        "id": "M271DDQhcqUN",
        "outputId": "e489b16d-5d2c-4991-bcee-7578754abbb3"
      },
      "source": [
        "len(set(df['第2カテゴリー']))"
      ],
      "execution_count": null,
      "outputs": [
        {
          "output_type": "execute_result",
          "data": {
            "text/plain": [
              "159"
            ]
          },
          "metadata": {},
          "execution_count": 46
        }
      ]
    },
    {
      "cell_type": "code",
      "metadata": {
        "id": "oynnYezXdkDA"
      },
      "source": [
        "df"
      ],
      "execution_count": null,
      "outputs": []
    },
    {
      "cell_type": "markdown",
      "metadata": {
        "id": "x8-7eMARaW6f"
      },
      "source": [
        "## 2-3-2 第1カテゴリーカラムのデータクレンジング\n",
        "\n"
      ]
    },
    {
      "cell_type": "markdown",
      "metadata": {
        "id": "SIGC9ul6aXbr"
      },
      "source": [
        "## 2-3-3 通貨カラムのデータクレンジング\n"
      ]
    },
    {
      "cell_type": "markdown",
      "metadata": {
        "id": "lEY10EPWaWbQ"
      },
      "source": [
        ""
      ]
    },
    {
      "cell_type": "code",
      "metadata": {
        "id": "-2qQrI90Y4SF"
      },
      "source": [
        ""
      ],
      "execution_count": null,
      "outputs": []
    }
  ]
}