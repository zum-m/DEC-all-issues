{
  "nbformat": 4,
  "nbformat_minor": 0,
  "metadata": {
    "colab": {
      "name": "analytics_01.ipynb",
      "provenance": [],
      "toc_visible": true,
      "include_colab_link": true
    },
    "kernelspec": {
      "name": "python3",
      "display_name": "Python 3"
    },
    "language_info": {
      "name": "python"
    }
  },
  "cells": [
    {
      "cell_type": "markdown",
      "metadata": {
        "id": "view-in-github",
        "colab_type": "text"
      },
      "source": [
        "<a href=\"https://colab.research.google.com/github/zum-m/DEC-all-issues/blob/main/analytics_01.ipynb\" target=\"_parent\"><img src=\"https://colab.research.google.com/assets/colab-badge.svg\" alt=\"Open In Colab\"/></a>"
      ]
    },
    {
      "cell_type": "markdown",
      "metadata": {
        "id": "FXivJKwBEaKR"
      },
      "source": [
        "# 0.データの取り込み\n"
      ]
    },
    {
      "cell_type": "code",
      "metadata": {
        "id": "2beYhvDADPGL"
      },
      "source": [
        "# ライブラリをインポート\n",
        "import os\n",
        "import pandas as pd\n",
        "from pandas import DataFrame\n",
        "import numpy as np\n",
        "import matplotlib.pyplot as plt\n",
        "import seaborn as sns\n",
        "%matplotlib inline\n"
      ],
      "execution_count": 2,
      "outputs": []
    },
    {
      "cell_type": "markdown",
      "metadata": {
        "id": "V9JZl5fVDfEJ"
      },
      "source": [
        "## 0-0.inportの説明\n",
        "\n",
        "\n",
        "\n",
        "```\n",
        "# import os\n",
        "\n",
        "```\n",
        "\n",
        "\n",
        "これはOSライブラリをインポートするコマンドです。\n",
        "OSライブラリによってOSに依存しているさまざまな機能を利用できます。\n",
        "主にファイルやディレクトリ操作が可能で、ファイルの一覧やpathを取得できたり、新規にファイル・ディレクトリを作成できます。\n",
        "後ほど説明しますが、取り込む対象であるデータセットの保存先ファイルのパスを指定する際に、OSライブラリを活用します。\n",
        "\n",
        "\n",
        "```\n",
        "# import pandas as pd\n",
        "\n",
        "```\n",
        "\n",
        "これはPandasライブラリをインポートするコマンドです。\n",
        "Pandasを使うと、データの読み込みや欠損値の補完、正規化、統計量の表示、グラフ化といったデータ分析に関する作業を簡単に行うことができるようになります。\n",
        "またas pdはインポートしたPandasをpdと名付ける命令文です。これによってPandasのメソッドを利用する際にpandas.メソッド名とタイピングが必要なところをpd.メソッド名とタイピングするだけでOKとなります。\n",
        "\n",
        "\n",
        "\n",
        "```\n",
        "# from pandas import DataFrame\n",
        "\n",
        "```\n",
        "\n",
        "これはPandasライブラリの中でも使用頻度が高いDataFrameライブラリを個別でインポートしています。これによってDataFrameのメソッドを利用する際にpd.DataFrameとタイピングが必要なところをDataFrameとタイピングするだけでOKとなります。\n",
        "\n",
        "\n",
        "```\n",
        "# import numpy as np\n",
        "```\n",
        "これはNumpyライブラリをインポートするコマンドです。データ分析の計算は複雑だったり、データ数が大きいので大きな負荷がかかってしまいます。Numpyを使うとその計算が高速になったり、より簡単なコマンドで計算処理を実行できます。\n",
        "\n",
        "\n",
        "```\n",
        "# import matplotlib.pyplot as plt\n",
        "```\n",
        "これはMatplotlibライブラリの中のpyplotをインポートしています。Pyplotによってグラフを作るための様々なメソッドが利用できます。\n",
        "\n",
        "\n",
        "```\n",
        "# import seaborn as sns\n",
        "```\n",
        "これはSeabornライブラリをインポートするコマンドです。Seabornはグラフを作るためのライブラリです。matplotlibで作れるグラフを更にかっこよくしてくれる機能もあります。matplotlibはカスタマイズ性が高く、Seabornは手軽に作成できるというそれぞれのメリットがあります。\n",
        "\n",
        "\n",
        "```\n",
        "# %matplotlib inline\n",
        "```\n",
        "MatplotlibやSeabornでグラフを作成する時、通常ですと画像ファイルが指定したフォルダに保管されます。%matplotlib inlineを実行することで、Google Colaboratory内に表示されます。\n",
        "（このコマンドだけライブラリのインポートの処理ではありません。）\n",
        "\n",
        "これらのライブラリは機能が非常に多いです。すべて理解するのは難しく、最初はそういうものがあるんだなぁという程度の理解度で構いません。\n",
        "\n"
      ]
    },
    {
      "cell_type": "markdown",
      "metadata": {
        "id": "waWcFkhNIxAY"
      },
      "source": [
        "## 1-1データセットの取得"
      ]
    },
    {
      "cell_type": "code",
      "metadata": {
        "id": "XXnQZsB5Ik8A"
      },
      "source": [
        "from google.colab import drive\n",
        "drive.mount('/content/drive')\n"
      ],
      "execution_count": null,
      "outputs": []
    },
    {
      "cell_type": "code",
      "metadata": {
        "colab": {
          "base_uri": "https://localhost:8080/"
        },
        "id": "kOAX5H_thqh_",
        "outputId": "7429d597-5fa0-4081-d7b6-2739e050110b"
      },
      "source": [
        "from google.colab import drive\n",
        "drive.mount('/content/drive')"
      ],
      "execution_count": 4,
      "outputs": [
        {
          "output_type": "stream",
          "name": "stdout",
          "text": [
            "Mounted at /content/drive\n"
          ]
        }
      ]
    },
    {
      "cell_type": "markdown",
      "metadata": {
        "id": "NKgVUGanGlyB"
      },
      "source": [
        "### データセットの説明\n",
        "\n",
        "[Kickstarter Projects](https://www.kaggle.com/kemical/kickstarter-projects)より\n",
        "\n",
        "**コンテクスト** \n",
        "\n",
        "私はクラウドファンディングの愛好家で、初期の頃からキックスターターを見ていました。今はただデータを集めているだけで、作ったアプリはプロジェクトがマイルストーンに到達したときにツイートするツイッターボットだけです。@bloomwatcher です。他にもたくさんのアイデアがありますが、残念ながら開発するには時間が足りません...でも、あなたならできるはずです \n",
        "\n",
        "**コンテンツ** \n",
        "\n",
        "プロジェクトの分析に最も役立つデータを見ることができます。コラムの内容は以下の通りです。\n",
        "\n",
        " usd_pledged:プレッド数の米ドル換算値（kickstarterで変換されます）。 \n",
        " \n",
        " usd pledge real: プレッジ欄の米ドル換算値(Fixer.io APIによる換算値) \n",
        " \n",
        " usd goal real: 目標欄の米ドルでの換算値(Fixer.io APIからの換算値)\n",
        "\n",
        "\n",
        "**謝辞**\n",
        "\n",
        " データはKickstarterのプラットフォームから収集しています。 米ドルへの換算（usdpledgedreal列とusdgoalreal列）は、tonyplaysguitar氏による「Convert ks pledges to usd」スクリプトから生成されました。\n",
        "\n",
        " \n",
        "\n",
        "素晴らしいインスピレーションプロジェクトを期待しています。\n",
        "プロジェクトが成功するかどうかをリリース前に予測するモデルがあってもいいのではないでしょうか？）\"\""
      ]
    },
    {
      "cell_type": "markdown",
      "metadata": {
        "id": "cHoEZZCQJiSo"
      },
      "source": [
        "## 1-2.パスの指定"
      ]
    },
    {
      "cell_type": "code",
      "metadata": {
        "id": "9OYy2yxtJp2c"
      },
      "source": [
        "os.chdir('/content/drive/Shareddrives/dec_phase03/02_assignment/23_三浦一眞/00mydataset/archive')"
      ],
      "execution_count": 5,
      "outputs": []
    },
    {
      "cell_type": "markdown",
      "metadata": {
        "id": "n9az7VFRJ2iw"
      },
      "source": [
        "## 1-3.データの取り込み"
      ]
    },
    {
      "cell_type": "markdown",
      "metadata": {
        "id": "fPkuxwRmAauq"
      },
      "source": [
        "### データの概要と解説"
      ]
    },
    {
      "cell_type": "code",
      "metadata": {
        "id": "P-1a_e8tJ7CT",
        "colab": {
          "base_uri": "https://localhost:8080/",
          "height": 964
        },
        "outputId": "1928ca84-a39a-48ad-c81a-0f2c447cbc46"
      },
      "source": [
        "df = pd.read_csv('ks-projects-201801.csv')\n",
        "df"
      ],
      "execution_count": 6,
      "outputs": [
        {
          "output_type": "execute_result",
          "data": {
            "text/html": [
              "<div>\n",
              "<style scoped>\n",
              "    .dataframe tbody tr th:only-of-type {\n",
              "        vertical-align: middle;\n",
              "    }\n",
              "\n",
              "    .dataframe tbody tr th {\n",
              "        vertical-align: top;\n",
              "    }\n",
              "\n",
              "    .dataframe thead th {\n",
              "        text-align: right;\n",
              "    }\n",
              "</style>\n",
              "<table border=\"1\" class=\"dataframe\">\n",
              "  <thead>\n",
              "    <tr style=\"text-align: right;\">\n",
              "      <th></th>\n",
              "      <th>ID</th>\n",
              "      <th>name</th>\n",
              "      <th>category</th>\n",
              "      <th>main_category</th>\n",
              "      <th>currency</th>\n",
              "      <th>deadline</th>\n",
              "      <th>goal</th>\n",
              "      <th>launched</th>\n",
              "      <th>pledged</th>\n",
              "      <th>state</th>\n",
              "      <th>backers</th>\n",
              "      <th>country</th>\n",
              "      <th>usd pledged</th>\n",
              "      <th>usd_pledged_real</th>\n",
              "      <th>usd_goal_real</th>\n",
              "    </tr>\n",
              "  </thead>\n",
              "  <tbody>\n",
              "    <tr>\n",
              "      <th>0</th>\n",
              "      <td>1000002330</td>\n",
              "      <td>The Songs of Adelaide &amp; Abullah</td>\n",
              "      <td>Poetry</td>\n",
              "      <td>Publishing</td>\n",
              "      <td>GBP</td>\n",
              "      <td>2015-10-09</td>\n",
              "      <td>1000.0</td>\n",
              "      <td>2015-08-11 12:12:28</td>\n",
              "      <td>0.0</td>\n",
              "      <td>failed</td>\n",
              "      <td>0</td>\n",
              "      <td>GB</td>\n",
              "      <td>0.0</td>\n",
              "      <td>0.0</td>\n",
              "      <td>1533.95</td>\n",
              "    </tr>\n",
              "    <tr>\n",
              "      <th>1</th>\n",
              "      <td>1000003930</td>\n",
              "      <td>Greeting From Earth: ZGAC Arts Capsule For ET</td>\n",
              "      <td>Narrative Film</td>\n",
              "      <td>Film &amp; Video</td>\n",
              "      <td>USD</td>\n",
              "      <td>2017-11-01</td>\n",
              "      <td>30000.0</td>\n",
              "      <td>2017-09-02 04:43:57</td>\n",
              "      <td>2421.0</td>\n",
              "      <td>failed</td>\n",
              "      <td>15</td>\n",
              "      <td>US</td>\n",
              "      <td>100.0</td>\n",
              "      <td>2421.0</td>\n",
              "      <td>30000.00</td>\n",
              "    </tr>\n",
              "    <tr>\n",
              "      <th>2</th>\n",
              "      <td>1000004038</td>\n",
              "      <td>Where is Hank?</td>\n",
              "      <td>Narrative Film</td>\n",
              "      <td>Film &amp; Video</td>\n",
              "      <td>USD</td>\n",
              "      <td>2013-02-26</td>\n",
              "      <td>45000.0</td>\n",
              "      <td>2013-01-12 00:20:50</td>\n",
              "      <td>220.0</td>\n",
              "      <td>failed</td>\n",
              "      <td>3</td>\n",
              "      <td>US</td>\n",
              "      <td>220.0</td>\n",
              "      <td>220.0</td>\n",
              "      <td>45000.00</td>\n",
              "    </tr>\n",
              "    <tr>\n",
              "      <th>3</th>\n",
              "      <td>1000007540</td>\n",
              "      <td>ToshiCapital Rekordz Needs Help to Complete Album</td>\n",
              "      <td>Music</td>\n",
              "      <td>Music</td>\n",
              "      <td>USD</td>\n",
              "      <td>2012-04-16</td>\n",
              "      <td>5000.0</td>\n",
              "      <td>2012-03-17 03:24:11</td>\n",
              "      <td>1.0</td>\n",
              "      <td>failed</td>\n",
              "      <td>1</td>\n",
              "      <td>US</td>\n",
              "      <td>1.0</td>\n",
              "      <td>1.0</td>\n",
              "      <td>5000.00</td>\n",
              "    </tr>\n",
              "    <tr>\n",
              "      <th>4</th>\n",
              "      <td>1000011046</td>\n",
              "      <td>Community Film Project: The Art of Neighborhoo...</td>\n",
              "      <td>Film &amp; Video</td>\n",
              "      <td>Film &amp; Video</td>\n",
              "      <td>USD</td>\n",
              "      <td>2015-08-29</td>\n",
              "      <td>19500.0</td>\n",
              "      <td>2015-07-04 08:35:03</td>\n",
              "      <td>1283.0</td>\n",
              "      <td>canceled</td>\n",
              "      <td>14</td>\n",
              "      <td>US</td>\n",
              "      <td>1283.0</td>\n",
              "      <td>1283.0</td>\n",
              "      <td>19500.00</td>\n",
              "    </tr>\n",
              "    <tr>\n",
              "      <th>...</th>\n",
              "      <td>...</td>\n",
              "      <td>...</td>\n",
              "      <td>...</td>\n",
              "      <td>...</td>\n",
              "      <td>...</td>\n",
              "      <td>...</td>\n",
              "      <td>...</td>\n",
              "      <td>...</td>\n",
              "      <td>...</td>\n",
              "      <td>...</td>\n",
              "      <td>...</td>\n",
              "      <td>...</td>\n",
              "      <td>...</td>\n",
              "      <td>...</td>\n",
              "      <td>...</td>\n",
              "    </tr>\n",
              "    <tr>\n",
              "      <th>378656</th>\n",
              "      <td>999976400</td>\n",
              "      <td>ChknTruk Nationwide Charity Drive 2014 (Canceled)</td>\n",
              "      <td>Documentary</td>\n",
              "      <td>Film &amp; Video</td>\n",
              "      <td>USD</td>\n",
              "      <td>2014-10-17</td>\n",
              "      <td>50000.0</td>\n",
              "      <td>2014-09-17 02:35:30</td>\n",
              "      <td>25.0</td>\n",
              "      <td>canceled</td>\n",
              "      <td>1</td>\n",
              "      <td>US</td>\n",
              "      <td>25.0</td>\n",
              "      <td>25.0</td>\n",
              "      <td>50000.00</td>\n",
              "    </tr>\n",
              "    <tr>\n",
              "      <th>378657</th>\n",
              "      <td>999977640</td>\n",
              "      <td>The Tribe</td>\n",
              "      <td>Narrative Film</td>\n",
              "      <td>Film &amp; Video</td>\n",
              "      <td>USD</td>\n",
              "      <td>2011-07-19</td>\n",
              "      <td>1500.0</td>\n",
              "      <td>2011-06-22 03:35:14</td>\n",
              "      <td>155.0</td>\n",
              "      <td>failed</td>\n",
              "      <td>5</td>\n",
              "      <td>US</td>\n",
              "      <td>155.0</td>\n",
              "      <td>155.0</td>\n",
              "      <td>1500.00</td>\n",
              "    </tr>\n",
              "    <tr>\n",
              "      <th>378658</th>\n",
              "      <td>999986353</td>\n",
              "      <td>Walls of Remedy- New lesbian Romantic Comedy f...</td>\n",
              "      <td>Narrative Film</td>\n",
              "      <td>Film &amp; Video</td>\n",
              "      <td>USD</td>\n",
              "      <td>2010-08-16</td>\n",
              "      <td>15000.0</td>\n",
              "      <td>2010-07-01 19:40:30</td>\n",
              "      <td>20.0</td>\n",
              "      <td>failed</td>\n",
              "      <td>1</td>\n",
              "      <td>US</td>\n",
              "      <td>20.0</td>\n",
              "      <td>20.0</td>\n",
              "      <td>15000.00</td>\n",
              "    </tr>\n",
              "    <tr>\n",
              "      <th>378659</th>\n",
              "      <td>999987933</td>\n",
              "      <td>BioDefense Education Kit</td>\n",
              "      <td>Technology</td>\n",
              "      <td>Technology</td>\n",
              "      <td>USD</td>\n",
              "      <td>2016-02-13</td>\n",
              "      <td>15000.0</td>\n",
              "      <td>2016-01-13 18:13:53</td>\n",
              "      <td>200.0</td>\n",
              "      <td>failed</td>\n",
              "      <td>6</td>\n",
              "      <td>US</td>\n",
              "      <td>200.0</td>\n",
              "      <td>200.0</td>\n",
              "      <td>15000.00</td>\n",
              "    </tr>\n",
              "    <tr>\n",
              "      <th>378660</th>\n",
              "      <td>999988282</td>\n",
              "      <td>Nou Renmen Ayiti!  We Love Haiti!</td>\n",
              "      <td>Performance Art</td>\n",
              "      <td>Art</td>\n",
              "      <td>USD</td>\n",
              "      <td>2011-08-16</td>\n",
              "      <td>2000.0</td>\n",
              "      <td>2011-07-19 09:07:47</td>\n",
              "      <td>524.0</td>\n",
              "      <td>failed</td>\n",
              "      <td>17</td>\n",
              "      <td>US</td>\n",
              "      <td>524.0</td>\n",
              "      <td>524.0</td>\n",
              "      <td>2000.00</td>\n",
              "    </tr>\n",
              "  </tbody>\n",
              "</table>\n",
              "<p>378661 rows × 15 columns</p>\n",
              "</div>"
            ],
            "text/plain": [
              "                ID  ... usd_goal_real\n",
              "0       1000002330  ...       1533.95\n",
              "1       1000003930  ...      30000.00\n",
              "2       1000004038  ...      45000.00\n",
              "3       1000007540  ...       5000.00\n",
              "4       1000011046  ...      19500.00\n",
              "...            ...  ...           ...\n",
              "378656   999976400  ...      50000.00\n",
              "378657   999977640  ...       1500.00\n",
              "378658   999986353  ...      15000.00\n",
              "378659   999987933  ...      15000.00\n",
              "378660   999988282  ...       2000.00\n",
              "\n",
              "[378661 rows x 15 columns]"
            ]
          },
          "metadata": {},
          "execution_count": 6
        }
      ]
    },
    {
      "cell_type": "code",
      "metadata": {
        "id": "J8Y_EBimKK5d",
        "colab": {
          "base_uri": "https://localhost:8080/",
          "height": 504
        },
        "outputId": "48e663c5-d44d-4cf1-a0da-7f6300def013"
      },
      "source": [
        "df.head()\n"
      ],
      "execution_count": 7,
      "outputs": [
        {
          "output_type": "execute_result",
          "data": {
            "text/html": [
              "<div>\n",
              "<style scoped>\n",
              "    .dataframe tbody tr th:only-of-type {\n",
              "        vertical-align: middle;\n",
              "    }\n",
              "\n",
              "    .dataframe tbody tr th {\n",
              "        vertical-align: top;\n",
              "    }\n",
              "\n",
              "    .dataframe thead th {\n",
              "        text-align: right;\n",
              "    }\n",
              "</style>\n",
              "<table border=\"1\" class=\"dataframe\">\n",
              "  <thead>\n",
              "    <tr style=\"text-align: right;\">\n",
              "      <th></th>\n",
              "      <th>ID</th>\n",
              "      <th>name</th>\n",
              "      <th>category</th>\n",
              "      <th>main_category</th>\n",
              "      <th>currency</th>\n",
              "      <th>deadline</th>\n",
              "      <th>goal</th>\n",
              "      <th>launched</th>\n",
              "      <th>pledged</th>\n",
              "      <th>state</th>\n",
              "      <th>backers</th>\n",
              "      <th>country</th>\n",
              "      <th>usd pledged</th>\n",
              "      <th>usd_pledged_real</th>\n",
              "      <th>usd_goal_real</th>\n",
              "    </tr>\n",
              "  </thead>\n",
              "  <tbody>\n",
              "    <tr>\n",
              "      <th>0</th>\n",
              "      <td>1000002330</td>\n",
              "      <td>The Songs of Adelaide &amp; Abullah</td>\n",
              "      <td>Poetry</td>\n",
              "      <td>Publishing</td>\n",
              "      <td>GBP</td>\n",
              "      <td>2015-10-09</td>\n",
              "      <td>1000.0</td>\n",
              "      <td>2015-08-11 12:12:28</td>\n",
              "      <td>0.0</td>\n",
              "      <td>failed</td>\n",
              "      <td>0</td>\n",
              "      <td>GB</td>\n",
              "      <td>0.0</td>\n",
              "      <td>0.0</td>\n",
              "      <td>1533.95</td>\n",
              "    </tr>\n",
              "    <tr>\n",
              "      <th>1</th>\n",
              "      <td>1000003930</td>\n",
              "      <td>Greeting From Earth: ZGAC Arts Capsule For ET</td>\n",
              "      <td>Narrative Film</td>\n",
              "      <td>Film &amp; Video</td>\n",
              "      <td>USD</td>\n",
              "      <td>2017-11-01</td>\n",
              "      <td>30000.0</td>\n",
              "      <td>2017-09-02 04:43:57</td>\n",
              "      <td>2421.0</td>\n",
              "      <td>failed</td>\n",
              "      <td>15</td>\n",
              "      <td>US</td>\n",
              "      <td>100.0</td>\n",
              "      <td>2421.0</td>\n",
              "      <td>30000.00</td>\n",
              "    </tr>\n",
              "    <tr>\n",
              "      <th>2</th>\n",
              "      <td>1000004038</td>\n",
              "      <td>Where is Hank?</td>\n",
              "      <td>Narrative Film</td>\n",
              "      <td>Film &amp; Video</td>\n",
              "      <td>USD</td>\n",
              "      <td>2013-02-26</td>\n",
              "      <td>45000.0</td>\n",
              "      <td>2013-01-12 00:20:50</td>\n",
              "      <td>220.0</td>\n",
              "      <td>failed</td>\n",
              "      <td>3</td>\n",
              "      <td>US</td>\n",
              "      <td>220.0</td>\n",
              "      <td>220.0</td>\n",
              "      <td>45000.00</td>\n",
              "    </tr>\n",
              "    <tr>\n",
              "      <th>3</th>\n",
              "      <td>1000007540</td>\n",
              "      <td>ToshiCapital Rekordz Needs Help to Complete Album</td>\n",
              "      <td>Music</td>\n",
              "      <td>Music</td>\n",
              "      <td>USD</td>\n",
              "      <td>2012-04-16</td>\n",
              "      <td>5000.0</td>\n",
              "      <td>2012-03-17 03:24:11</td>\n",
              "      <td>1.0</td>\n",
              "      <td>failed</td>\n",
              "      <td>1</td>\n",
              "      <td>US</td>\n",
              "      <td>1.0</td>\n",
              "      <td>1.0</td>\n",
              "      <td>5000.00</td>\n",
              "    </tr>\n",
              "    <tr>\n",
              "      <th>4</th>\n",
              "      <td>1000011046</td>\n",
              "      <td>Community Film Project: The Art of Neighborhoo...</td>\n",
              "      <td>Film &amp; Video</td>\n",
              "      <td>Film &amp; Video</td>\n",
              "      <td>USD</td>\n",
              "      <td>2015-08-29</td>\n",
              "      <td>19500.0</td>\n",
              "      <td>2015-07-04 08:35:03</td>\n",
              "      <td>1283.0</td>\n",
              "      <td>canceled</td>\n",
              "      <td>14</td>\n",
              "      <td>US</td>\n",
              "      <td>1283.0</td>\n",
              "      <td>1283.0</td>\n",
              "      <td>19500.00</td>\n",
              "    </tr>\n",
              "  </tbody>\n",
              "</table>\n",
              "</div>"
            ],
            "text/plain": [
              "           ID  ... usd_goal_real\n",
              "0  1000002330  ...       1533.95\n",
              "1  1000003930  ...      30000.00\n",
              "2  1000004038  ...      45000.00\n",
              "3  1000007540  ...       5000.00\n",
              "4  1000011046  ...      19500.00\n",
              "\n",
              "[5 rows x 15 columns]"
            ]
          },
          "metadata": {},
          "execution_count": 7
        }
      ]
    },
    {
      "cell_type": "code",
      "metadata": {
        "colab": {
          "base_uri": "https://localhost:8080/",
          "height": 300
        },
        "id": "Oj0mlwP8KibP",
        "outputId": "624a11d5-f7aa-451f-ee42-41fc79913bbb"
      },
      "source": [
        "df.describe()\n"
      ],
      "execution_count": 8,
      "outputs": [
        {
          "output_type": "execute_result",
          "data": {
            "text/html": [
              "<div>\n",
              "<style scoped>\n",
              "    .dataframe tbody tr th:only-of-type {\n",
              "        vertical-align: middle;\n",
              "    }\n",
              "\n",
              "    .dataframe tbody tr th {\n",
              "        vertical-align: top;\n",
              "    }\n",
              "\n",
              "    .dataframe thead th {\n",
              "        text-align: right;\n",
              "    }\n",
              "</style>\n",
              "<table border=\"1\" class=\"dataframe\">\n",
              "  <thead>\n",
              "    <tr style=\"text-align: right;\">\n",
              "      <th></th>\n",
              "      <th>ID</th>\n",
              "      <th>goal</th>\n",
              "      <th>pledged</th>\n",
              "      <th>backers</th>\n",
              "      <th>usd pledged</th>\n",
              "      <th>usd_pledged_real</th>\n",
              "      <th>usd_goal_real</th>\n",
              "    </tr>\n",
              "  </thead>\n",
              "  <tbody>\n",
              "    <tr>\n",
              "      <th>count</th>\n",
              "      <td>3.786610e+05</td>\n",
              "      <td>3.786610e+05</td>\n",
              "      <td>3.786610e+05</td>\n",
              "      <td>378661.000000</td>\n",
              "      <td>3.748640e+05</td>\n",
              "      <td>3.786610e+05</td>\n",
              "      <td>3.786610e+05</td>\n",
              "    </tr>\n",
              "    <tr>\n",
              "      <th>mean</th>\n",
              "      <td>1.074731e+09</td>\n",
              "      <td>4.908079e+04</td>\n",
              "      <td>9.682979e+03</td>\n",
              "      <td>105.617476</td>\n",
              "      <td>7.036729e+03</td>\n",
              "      <td>9.058924e+03</td>\n",
              "      <td>4.545440e+04</td>\n",
              "    </tr>\n",
              "    <tr>\n",
              "      <th>std</th>\n",
              "      <td>6.190862e+08</td>\n",
              "      <td>1.183391e+06</td>\n",
              "      <td>9.563601e+04</td>\n",
              "      <td>907.185035</td>\n",
              "      <td>7.863975e+04</td>\n",
              "      <td>9.097334e+04</td>\n",
              "      <td>1.152950e+06</td>\n",
              "    </tr>\n",
              "    <tr>\n",
              "      <th>min</th>\n",
              "      <td>5.971000e+03</td>\n",
              "      <td>1.000000e-02</td>\n",
              "      <td>0.000000e+00</td>\n",
              "      <td>0.000000</td>\n",
              "      <td>0.000000e+00</td>\n",
              "      <td>0.000000e+00</td>\n",
              "      <td>1.000000e-02</td>\n",
              "    </tr>\n",
              "    <tr>\n",
              "      <th>25%</th>\n",
              "      <td>5.382635e+08</td>\n",
              "      <td>2.000000e+03</td>\n",
              "      <td>3.000000e+01</td>\n",
              "      <td>2.000000</td>\n",
              "      <td>1.698000e+01</td>\n",
              "      <td>3.100000e+01</td>\n",
              "      <td>2.000000e+03</td>\n",
              "    </tr>\n",
              "    <tr>\n",
              "      <th>50%</th>\n",
              "      <td>1.075276e+09</td>\n",
              "      <td>5.200000e+03</td>\n",
              "      <td>6.200000e+02</td>\n",
              "      <td>12.000000</td>\n",
              "      <td>3.947200e+02</td>\n",
              "      <td>6.243300e+02</td>\n",
              "      <td>5.500000e+03</td>\n",
              "    </tr>\n",
              "    <tr>\n",
              "      <th>75%</th>\n",
              "      <td>1.610149e+09</td>\n",
              "      <td>1.600000e+04</td>\n",
              "      <td>4.076000e+03</td>\n",
              "      <td>56.000000</td>\n",
              "      <td>3.034090e+03</td>\n",
              "      <td>4.050000e+03</td>\n",
              "      <td>1.550000e+04</td>\n",
              "    </tr>\n",
              "    <tr>\n",
              "      <th>max</th>\n",
              "      <td>2.147476e+09</td>\n",
              "      <td>1.000000e+08</td>\n",
              "      <td>2.033899e+07</td>\n",
              "      <td>219382.000000</td>\n",
              "      <td>2.033899e+07</td>\n",
              "      <td>2.033899e+07</td>\n",
              "      <td>1.663614e+08</td>\n",
              "    </tr>\n",
              "  </tbody>\n",
              "</table>\n",
              "</div>"
            ],
            "text/plain": [
              "                 ID          goal  ...  usd_pledged_real  usd_goal_real\n",
              "count  3.786610e+05  3.786610e+05  ...      3.786610e+05   3.786610e+05\n",
              "mean   1.074731e+09  4.908079e+04  ...      9.058924e+03   4.545440e+04\n",
              "std    6.190862e+08  1.183391e+06  ...      9.097334e+04   1.152950e+06\n",
              "min    5.971000e+03  1.000000e-02  ...      0.000000e+00   1.000000e-02\n",
              "25%    5.382635e+08  2.000000e+03  ...      3.100000e+01   2.000000e+03\n",
              "50%    1.075276e+09  5.200000e+03  ...      6.243300e+02   5.500000e+03\n",
              "75%    1.610149e+09  1.600000e+04  ...      4.050000e+03   1.550000e+04\n",
              "max    2.147476e+09  1.000000e+08  ...      2.033899e+07   1.663614e+08\n",
              "\n",
              "[8 rows x 7 columns]"
            ]
          },
          "metadata": {},
          "execution_count": 8
        }
      ]
    },
    {
      "cell_type": "markdown",
      "metadata": {
        "id": "OgFi3plpKUtq"
      },
      "source": [
        "\n",
        "**解説**\n",
        "\n",
        "各列のデータ数や平均、標準偏差、最小値、中央値、最高値とかを見たいときは、上記コマンドを実行\n",
        "\n",
        "* count：その列のデータ数\n",
        "* mean：その列の平均値\n",
        "* std：その列の標準偏差\n",
        "* min：その列の最小値\n",
        "* 25%：その列の最小値からカウントして25%番目に小さいデータの値(統計用語では第1四分位数と呼ばれます)\n",
        "* 50%：その列の最小値からカウントして50%番目に小さいデータの値(統計用語では中央値と呼ばれます)\n",
        "* 75%：その列の最小値からカウントして75%番目に小さいデータの値(統計用語では第3四分位数と呼ばれます)\n",
        "* max：その列の最大値\n",
        "\n",
        "※e+nといったものは、10のn乗を意味しています。例えば3.786610e+05は378661を意味しています。\n",
        "\n"
      ]
    },
    {
      "cell_type": "code",
      "metadata": {
        "id": "ldgYPZ7BLg_M",
        "colab": {
          "base_uri": "https://localhost:8080/"
        },
        "outputId": "5b96d3e7-49e8-4d2d-f69c-6bbd6787dd4b"
      },
      "source": [
        "df.shape\n",
        "\n"
      ],
      "execution_count": 9,
      "outputs": [
        {
          "output_type": "execute_result",
          "data": {
            "text/plain": [
              "(378661, 15)"
            ]
          },
          "metadata": {},
          "execution_count": 9
        }
      ]
    },
    {
      "cell_type": "markdown",
      "metadata": {
        "id": "W0rV43RGLndQ"
      },
      "source": [
        "378661行\n",
        "\n",
        "１５列\n",
        "\n",
        "の情報になっている\n"
      ]
    },
    {
      "cell_type": "markdown",
      "metadata": {
        "id": "NnkCFWSiL39k"
      },
      "source": [
        ""
      ]
    },
    {
      "cell_type": "markdown",
      "metadata": {
        "id": "MoRau3ViPQRT"
      },
      "source": [
        "# 1(2-2-1).カラム名を理解する"
      ]
    },
    {
      "cell_type": "code",
      "metadata": {
        "id": "Y01SGoMNPk0i",
        "colab": {
          "base_uri": "https://localhost:8080/"
        },
        "outputId": "634774d5-699a-457e-976e-f608bc87aa5f"
      },
      "source": [
        "df.info()"
      ],
      "execution_count": 10,
      "outputs": [
        {
          "output_type": "stream",
          "name": "stdout",
          "text": [
            "<class 'pandas.core.frame.DataFrame'>\n",
            "RangeIndex: 378661 entries, 0 to 378660\n",
            "Data columns (total 15 columns):\n",
            " #   Column            Non-Null Count   Dtype  \n",
            "---  ------            --------------   -----  \n",
            " 0   ID                378661 non-null  int64  \n",
            " 1   name              378657 non-null  object \n",
            " 2   category          378661 non-null  object \n",
            " 3   main_category     378661 non-null  object \n",
            " 4   currency          378661 non-null  object \n",
            " 5   deadline          378661 non-null  object \n",
            " 6   goal              378661 non-null  float64\n",
            " 7   launched          378661 non-null  object \n",
            " 8   pledged           378661 non-null  float64\n",
            " 9   state             378661 non-null  object \n",
            " 10  backers           378661 non-null  int64  \n",
            " 11  country           378661 non-null  object \n",
            " 12  usd pledged       374864 non-null  float64\n",
            " 13  usd_pledged_real  378661 non-null  float64\n",
            " 14  usd_goal_real     378661 non-null  float64\n",
            "dtypes: float64(5), int64(2), object(8)\n",
            "memory usage: 43.3+ MB\n"
          ]
        }
      ]
    },
    {
      "cell_type": "code",
      "metadata": {
        "id": "CHRhYQAIPubk",
        "colab": {
          "base_uri": "https://localhost:8080/",
          "height": 504
        },
        "outputId": "7e3515db-4f22-4b4b-8127-968d213c2e19"
      },
      "source": [
        "df.head()\n"
      ],
      "execution_count": 11,
      "outputs": [
        {
          "output_type": "execute_result",
          "data": {
            "text/html": [
              "<div>\n",
              "<style scoped>\n",
              "    .dataframe tbody tr th:only-of-type {\n",
              "        vertical-align: middle;\n",
              "    }\n",
              "\n",
              "    .dataframe tbody tr th {\n",
              "        vertical-align: top;\n",
              "    }\n",
              "\n",
              "    .dataframe thead th {\n",
              "        text-align: right;\n",
              "    }\n",
              "</style>\n",
              "<table border=\"1\" class=\"dataframe\">\n",
              "  <thead>\n",
              "    <tr style=\"text-align: right;\">\n",
              "      <th></th>\n",
              "      <th>ID</th>\n",
              "      <th>name</th>\n",
              "      <th>category</th>\n",
              "      <th>main_category</th>\n",
              "      <th>currency</th>\n",
              "      <th>deadline</th>\n",
              "      <th>goal</th>\n",
              "      <th>launched</th>\n",
              "      <th>pledged</th>\n",
              "      <th>state</th>\n",
              "      <th>backers</th>\n",
              "      <th>country</th>\n",
              "      <th>usd pledged</th>\n",
              "      <th>usd_pledged_real</th>\n",
              "      <th>usd_goal_real</th>\n",
              "    </tr>\n",
              "  </thead>\n",
              "  <tbody>\n",
              "    <tr>\n",
              "      <th>0</th>\n",
              "      <td>1000002330</td>\n",
              "      <td>The Songs of Adelaide &amp; Abullah</td>\n",
              "      <td>Poetry</td>\n",
              "      <td>Publishing</td>\n",
              "      <td>GBP</td>\n",
              "      <td>2015-10-09</td>\n",
              "      <td>1000.0</td>\n",
              "      <td>2015-08-11 12:12:28</td>\n",
              "      <td>0.0</td>\n",
              "      <td>failed</td>\n",
              "      <td>0</td>\n",
              "      <td>GB</td>\n",
              "      <td>0.0</td>\n",
              "      <td>0.0</td>\n",
              "      <td>1533.95</td>\n",
              "    </tr>\n",
              "    <tr>\n",
              "      <th>1</th>\n",
              "      <td>1000003930</td>\n",
              "      <td>Greeting From Earth: ZGAC Arts Capsule For ET</td>\n",
              "      <td>Narrative Film</td>\n",
              "      <td>Film &amp; Video</td>\n",
              "      <td>USD</td>\n",
              "      <td>2017-11-01</td>\n",
              "      <td>30000.0</td>\n",
              "      <td>2017-09-02 04:43:57</td>\n",
              "      <td>2421.0</td>\n",
              "      <td>failed</td>\n",
              "      <td>15</td>\n",
              "      <td>US</td>\n",
              "      <td>100.0</td>\n",
              "      <td>2421.0</td>\n",
              "      <td>30000.00</td>\n",
              "    </tr>\n",
              "    <tr>\n",
              "      <th>2</th>\n",
              "      <td>1000004038</td>\n",
              "      <td>Where is Hank?</td>\n",
              "      <td>Narrative Film</td>\n",
              "      <td>Film &amp; Video</td>\n",
              "      <td>USD</td>\n",
              "      <td>2013-02-26</td>\n",
              "      <td>45000.0</td>\n",
              "      <td>2013-01-12 00:20:50</td>\n",
              "      <td>220.0</td>\n",
              "      <td>failed</td>\n",
              "      <td>3</td>\n",
              "      <td>US</td>\n",
              "      <td>220.0</td>\n",
              "      <td>220.0</td>\n",
              "      <td>45000.00</td>\n",
              "    </tr>\n",
              "    <tr>\n",
              "      <th>3</th>\n",
              "      <td>1000007540</td>\n",
              "      <td>ToshiCapital Rekordz Needs Help to Complete Album</td>\n",
              "      <td>Music</td>\n",
              "      <td>Music</td>\n",
              "      <td>USD</td>\n",
              "      <td>2012-04-16</td>\n",
              "      <td>5000.0</td>\n",
              "      <td>2012-03-17 03:24:11</td>\n",
              "      <td>1.0</td>\n",
              "      <td>failed</td>\n",
              "      <td>1</td>\n",
              "      <td>US</td>\n",
              "      <td>1.0</td>\n",
              "      <td>1.0</td>\n",
              "      <td>5000.00</td>\n",
              "    </tr>\n",
              "    <tr>\n",
              "      <th>4</th>\n",
              "      <td>1000011046</td>\n",
              "      <td>Community Film Project: The Art of Neighborhoo...</td>\n",
              "      <td>Film &amp; Video</td>\n",
              "      <td>Film &amp; Video</td>\n",
              "      <td>USD</td>\n",
              "      <td>2015-08-29</td>\n",
              "      <td>19500.0</td>\n",
              "      <td>2015-07-04 08:35:03</td>\n",
              "      <td>1283.0</td>\n",
              "      <td>canceled</td>\n",
              "      <td>14</td>\n",
              "      <td>US</td>\n",
              "      <td>1283.0</td>\n",
              "      <td>1283.0</td>\n",
              "      <td>19500.00</td>\n",
              "    </tr>\n",
              "  </tbody>\n",
              "</table>\n",
              "</div>"
            ],
            "text/plain": [
              "           ID  ... usd_goal_real\n",
              "0  1000002330  ...       1533.95\n",
              "1  1000003930  ...      30000.00\n",
              "2  1000004038  ...      45000.00\n",
              "3  1000007540  ...       5000.00\n",
              "4  1000011046  ...      19500.00\n",
              "\n",
              "[5 rows x 15 columns]"
            ]
          },
          "metadata": {},
          "execution_count": 11
        }
      ]
    },
    {
      "cell_type": "markdown",
      "metadata": {
        "id": "sPUgkfmpZs1l"
      },
      "source": [
        "## 1-(1~6).テーブル定義情報の確認\n",
        "※講義の解説に沿って理解をしました。\n",
        "\n",
        "**前提**\n",
        "\n",
        "※ちょっと古いデータかも。🟡実際に現在のサイトを見た印象とだいぶ違うかも\n",
        "\n",
        "**目標**\n",
        "\n",
        "TEXT参考 項目(列)の意味を理解する\n"
      ]
    },
    {
      "cell_type": "markdown",
      "metadata": {
        "id": "Qms0tXBxR_P5"
      },
      "source": [
        "|物理名(カラム名)\t|論理名|説明|\n",
        "|:--|:--|:--|\n",
        "|ID| 利用者ID?| KICKSTARTER上で管理するための番号|\n",
        "|name| プロジェクト名| |\n",
        "|category |\t詳細分類　|第2カテゴリー(下記main_categoryで分けられた分類をさらに細分化するためのカテゴリー)|\n",
        "|main_category|\t分類 | 第1カテゴリー|\n",
        "|currency | 通過種\t|募集した通貨の単位|\n",
        "|deadline| 支援締切\t|支援金の公募期間の締切日|\n",
        "|goal\t| 目標金額　|目標公募金額|\n",
        "|launched | 公開日 | 開始された日時 |\n",
        "|pledged |　支援金額\t|公募された金額|\n",
        "|state | 達成状況\t|プロジェクトの資金調達が目標額に到達したかどうかの成功可否|\n",
        "|backers|\t支援者数|　|\n",
        "|country|　国\t| どの国のプロジェクトか　表記はUS GBなどでカテゴリ|\n",
        "|usd pledged| ドル変換支援金額(kickstarter)\t|KICKSTARTER運営側がドル換算した、公募された金額|\n",
        "|usd_pledged_real |　ドル変換支援金額(Fixer.io)\t| Fixer.io APIを利用してドル換算した、公募された金額|\n",
        "|usd_goal_real | ドル変換目標金額\t|Fixer.io APIを利用してドル換算した、目標公募金額|\n",
        "\n",
        "---\n",
        "\n"
      ]
    },
    {
      "cell_type": "code",
      "metadata": {
        "colab": {
          "base_uri": "https://localhost:8080/"
        },
        "id": "roMFjM-yeXOD",
        "outputId": "636ffda4-a9d0-488c-86f7-2b9a9622c067"
      },
      "source": [
        "# 1-2 大きさ確認\n",
        "df.shape"
      ],
      "execution_count": 12,
      "outputs": [
        {
          "output_type": "execute_result",
          "data": {
            "text/plain": [
              "(378661, 15)"
            ]
          },
          "metadata": {},
          "execution_count": 12
        }
      ]
    },
    {
      "cell_type": "markdown",
      "metadata": {
        "id": "6IOYrJ2Vupty"
      },
      "source": [
        "---"
      ]
    },
    {
      "cell_type": "code",
      "metadata": {
        "id": "Sa0bBwAJcfyb",
        "colab": {
          "base_uri": "https://localhost:8080/"
        },
        "outputId": "f028c0ae-c12f-46e0-baf8-08506d3447ab"
      },
      "source": [
        "# １−3.データ型確認\n",
        "df.info()\n",
        "# print(\"または=======\")\n",
        "# df.dtypes\n",
        "\n",
        "# 🟡確認した後どうする？？\n",
        "# コンピュータが勝手に理解する部分の癖を把握。⇨idが計算可能なintになってないか？など\n",
        "# objectは（１−４.６へ進む）カテゴリ軽データとして、ユニーク値を確認"
      ],
      "execution_count": 13,
      "outputs": [
        {
          "output_type": "stream",
          "name": "stdout",
          "text": [
            "<class 'pandas.core.frame.DataFrame'>\n",
            "RangeIndex: 378661 entries, 0 to 378660\n",
            "Data columns (total 15 columns):\n",
            " #   Column            Non-Null Count   Dtype  \n",
            "---  ------            --------------   -----  \n",
            " 0   ID                378661 non-null  int64  \n",
            " 1   name              378657 non-null  object \n",
            " 2   category          378661 non-null  object \n",
            " 3   main_category     378661 non-null  object \n",
            " 4   currency          378661 non-null  object \n",
            " 5   deadline          378661 non-null  object \n",
            " 6   goal              378661 non-null  float64\n",
            " 7   launched          378661 non-null  object \n",
            " 8   pledged           378661 non-null  float64\n",
            " 9   state             378661 non-null  object \n",
            " 10  backers           378661 non-null  int64  \n",
            " 11  country           378661 non-null  object \n",
            " 12  usd pledged       374864 non-null  float64\n",
            " 13  usd_pledged_real  378661 non-null  float64\n",
            " 14  usd_goal_real     378661 non-null  float64\n",
            "dtypes: float64(5), int64(2), object(8)\n",
            "memory usage: 43.3+ MB\n"
          ]
        }
      ]
    },
    {
      "cell_type": "markdown",
      "metadata": {
        "id": "GMBBi18lunvZ"
      },
      "source": [
        "---\n"
      ]
    },
    {
      "cell_type": "code",
      "metadata": {
        "id": "QrO-frWEgpG2",
        "colab": {
          "base_uri": "https://localhost:8080/"
        },
        "outputId": "b4d6dd9e-8975-4381-99d9-7f08db1016c9"
      },
      "source": [
        "# １−４,6　個数を集計　　objectを確認\n",
        "# 🟡 何のために？？ ４と６の違いは？？\n",
        "\n",
        "df['name'].value_counts()"
      ],
      "execution_count": 14,
      "outputs": [
        {
          "output_type": "execute_result",
          "data": {
            "text/plain": [
              "New EP/Music Development                         41\n",
              "Canceled (Canceled)                              13\n",
              "Music Video                                      11\n",
              "N/A (Canceled)                                   11\n",
              "New EP / Music Development                       10\n",
              "                                                 ..\n",
              "Past   :  A re-do of Uncle Tom's Cabin            1\n",
              "nScope | a lab for every laptop                   1\n",
              "Danger, Dames & Dangerous Games                   1\n",
              "Réalisation d'une collection de Haute Couture     1\n",
              "Life's a Drag - An LGBT comedy                    1\n",
              "Name: name, Length: 375764, dtype: int64"
            ]
          },
          "metadata": {},
          "execution_count": 14
        }
      ]
    },
    {
      "cell_type": "code",
      "metadata": {
        "id": "49X-TSC17M1s",
        "colab": {
          "base_uri": "https://localhost:8080/"
        },
        "outputId": "2159432a-fa2d-4feb-a8d6-3117b843730e"
      },
      "source": [
        "df['category'].value_counts()"
      ],
      "execution_count": 17,
      "outputs": [
        {
          "output_type": "execute_result",
          "data": {
            "text/plain": [
              "Product Design     22314\n",
              "Documentary        16139\n",
              "Music              15727\n",
              "Tabletop Games     14180\n",
              "Shorts             12357\n",
              "                   ...  \n",
              "Residencies           69\n",
              "Letterpress           49\n",
              "Chiptune              35\n",
              "Literary Spaces       27\n",
              "Taxidermy             13\n",
              "Name: category, Length: 159, dtype: int64"
            ]
          },
          "metadata": {},
          "execution_count": 17
        }
      ]
    },
    {
      "cell_type": "code",
      "metadata": {
        "id": "Qt2aQbMw7Oqt",
        "colab": {
          "base_uri": "https://localhost:8080/"
        },
        "outputId": "351f1690-be2e-461f-cd47-63bce021b00a"
      },
      "source": [
        "df['main_category'].value_counts()"
      ],
      "execution_count": 18,
      "outputs": [
        {
          "output_type": "execute_result",
          "data": {
            "text/plain": [
              "Film & Video    63585\n",
              "Music           51918\n",
              "Publishing      39874\n",
              "Games           35231\n",
              "Technology      32569\n",
              "Design          30070\n",
              "Art             28153\n",
              "Food            24602\n",
              "Fashion         22816\n",
              "Theater         10913\n",
              "Comics          10819\n",
              "Photography     10779\n",
              "Crafts           8809\n",
              "Journalism       4755\n",
              "Dance            3768\n",
              "Name: main_category, dtype: int64"
            ]
          },
          "metadata": {},
          "execution_count": 18
        }
      ]
    },
    {
      "cell_type": "code",
      "metadata": {
        "id": "sB-5BR5R7Qb3",
        "colab": {
          "base_uri": "https://localhost:8080/"
        },
        "outputId": "94f23208-22f2-4888-f12d-dba0114fba98"
      },
      "source": [
        "df['currency'].value_counts()"
      ],
      "execution_count": 19,
      "outputs": [
        {
          "output_type": "execute_result",
          "data": {
            "text/plain": [
              "USD    295365\n",
              "GBP     34132\n",
              "EUR     17405\n",
              "CAD     14962\n",
              "AUD      7950\n",
              "SEK      1788\n",
              "MXN      1752\n",
              "NZD      1475\n",
              "DKK      1129\n",
              "CHF       768\n",
              "NOK       722\n",
              "HKD       618\n",
              "SGD       555\n",
              "JPY        40\n",
              "Name: currency, dtype: int64"
            ]
          },
          "metadata": {},
          "execution_count": 19
        }
      ]
    },
    {
      "cell_type": "code",
      "metadata": {
        "id": "AA01JdAG7VZz",
        "colab": {
          "base_uri": "https://localhost:8080/"
        },
        "outputId": "70d444cf-62c1-4e70-f3e0-bf16050cf032"
      },
      "source": [
        "df['deadline'].value_counts()"
      ],
      "execution_count": 20,
      "outputs": [
        {
          "output_type": "execute_result",
          "data": {
            "text/plain": [
              "2014-08-08    705\n",
              "2014-08-10    558\n",
              "2014-08-07    541\n",
              "2015-05-01    489\n",
              "2014-08-09    477\n",
              "             ... \n",
              "2009-05-26      1\n",
              "2009-08-18      1\n",
              "2009-05-03      1\n",
              "2009-09-28      1\n",
              "2009-07-20      1\n",
              "Name: deadline, Length: 3164, dtype: int64"
            ]
          },
          "metadata": {},
          "execution_count": 20
        }
      ]
    },
    {
      "cell_type": "code",
      "metadata": {
        "id": "jjFmMsAa7f2k",
        "colab": {
          "base_uri": "https://localhost:8080/"
        },
        "outputId": "71162d3a-633d-453a-ed59-0190c89c5ea9"
      },
      "source": [
        "df['launched'].value_counts()"
      ],
      "execution_count": 21,
      "outputs": [
        {
          "output_type": "execute_result",
          "data": {
            "text/plain": [
              "1970-01-01 01:00:00    7\n",
              "2014-07-07 19:40:54    2\n",
              "2015-04-09 00:34:08    2\n",
              "2014-09-30 20:02:20    2\n",
              "2013-09-09 06:27:32    2\n",
              "                      ..\n",
              "2012-08-14 16:35:23    1\n",
              "2014-06-04 19:46:16    1\n",
              "2014-09-09 13:40:44    1\n",
              "2015-01-14 18:06:55    1\n",
              "2016-04-13 16:27:50    1\n",
              "Name: launched, Length: 378089, dtype: int64"
            ]
          },
          "metadata": {},
          "execution_count": 21
        }
      ]
    },
    {
      "cell_type": "code",
      "metadata": {
        "id": "N0hDGfLR7iBE",
        "colab": {
          "base_uri": "https://localhost:8080/"
        },
        "outputId": "a99ab79a-8c95-47f5-bb92-a46cdf831208"
      },
      "source": [
        "df['state'].value_counts()"
      ],
      "execution_count": 22,
      "outputs": [
        {
          "output_type": "execute_result",
          "data": {
            "text/plain": [
              "failed        197719\n",
              "successful    133956\n",
              "canceled       38779\n",
              "undefined       3562\n",
              "live            2799\n",
              "suspended       1846\n",
              "Name: state, dtype: int64"
            ]
          },
          "metadata": {},
          "execution_count": 22
        }
      ]
    },
    {
      "cell_type": "code",
      "metadata": {
        "id": "qE66jwXC7lYw",
        "colab": {
          "base_uri": "https://localhost:8080/"
        },
        "outputId": "548edfba-fa70-4ad7-e4d9-244a5e177ade"
      },
      "source": [
        "df['country'].value_counts()"
      ],
      "execution_count": 23,
      "outputs": [
        {
          "output_type": "execute_result",
          "data": {
            "text/plain": [
              "US      292627\n",
              "GB       33672\n",
              "CA       14756\n",
              "AU        7839\n",
              "DE        4171\n",
              "N,0\"      3797\n",
              "FR        2939\n",
              "IT        2878\n",
              "NL        2868\n",
              "ES        2276\n",
              "SE        1757\n",
              "MX        1752\n",
              "NZ        1447\n",
              "DK        1113\n",
              "IE         811\n",
              "CH         761\n",
              "NO         708\n",
              "HK         618\n",
              "BE         617\n",
              "AT         597\n",
              "SG         555\n",
              "LU          62\n",
              "JP          40\n",
              "Name: country, dtype: int64"
            ]
          },
          "metadata": {},
          "execution_count": 23
        }
      ]
    },
    {
      "cell_type": "markdown",
      "metadata": {
        "id": "GaCK5C1ok9Yp"
      },
      "source": [
        "**わかったこと**\n",
        "\n",
        "**1nameについて**\n",
        "\n",
        "> 🟦375764/378661とほぼ一意のnameとなっている。🟡名前がダブっているのはどんなものなのか？🟡objectからstrに変えるべき？\n",
        "\n",
        "2.**category**\n",
        "\n",
        "> 🟦lengthが１５９。🟡main_categoryからの階層があるかタチにはできないか？\n",
        "\n",
        "３.**main_category**\n",
        "\n",
        "> 🟦１５個にカテゴライズされている\n",
        "\n",
        "4.**currency**\n",
        "\n",
        "> 🟦１５個にカテゴライズ\n",
        "\n",
        "5.**deadline**\n",
        "\n",
        "> 🟦length3164　日付までのデータ🟦期限の設定の上位３つが8月。タイミングからの推測できそう。なんのタイミングか？１、成功しやすいタイミング２、期限の設定が重なりやすい時期、盛り上がるタイミング？\n",
        "※kickstarter本来の仕様の可能性あり？\n",
        "\n",
        "7.**launched**\n",
        ">🟦378089 デッドラインに比べ始める時期はバラバラ？\n",
        "\n",
        "9.**state**    \n",
        "\n",
        "|cate|int|\n",
        "|:--|:--|\n",
        "|failed |       197719|\n",
        "|successful|    133956|\n",
        "|canceled   |    38779|\n",
        "|undefined   |    3562|\n",
        "|live         |   2799|\n",
        "|suspended     |  1846|\n",
        "\n",
        "> キャンセル多い　　　undefinedとは？ 　　停止中もある。その理由にストーリーはあるか？\n",
        "\n",
        "11.**country**\n",
        "> length23 日本少ないの残念.。というかこれは日本のだけじゃないのか。※ちょっと古いデータかも。🟡実際に現在のサイトを見た印象とだいぶ違うかも\n",
        "\n",
        "一つ一つ見ていったけどほほかの方法ないか？？一気に情報見れないか？\n",
        "set_option??\n",
        "\n",
        "\n",
        "----\n"
      ]
    },
    {
      "cell_type": "code",
      "metadata": {
        "colab": {
          "base_uri": "https://localhost:8080/"
        },
        "id": "yG84DNAxsf0f",
        "outputId": "66e80663-d581-4ae6-9406-6cf72422da78"
      },
      "source": [
        "# 5 欠損知有無\n",
        "\n",
        "df.isnull().sum()"
      ],
      "execution_count": 24,
      "outputs": [
        {
          "output_type": "execute_result",
          "data": {
            "text/plain": [
              "ID                     0\n",
              "name                   4\n",
              "category               0\n",
              "main_category          0\n",
              "currency               0\n",
              "deadline               0\n",
              "goal                   0\n",
              "launched               0\n",
              "pledged                0\n",
              "state                  0\n",
              "backers                0\n",
              "country                0\n",
              "usd pledged         3797\n",
              "usd_pledged_real       0\n",
              "usd_goal_real          0\n",
              "dtype: int64"
            ]
          },
          "metadata": {},
          "execution_count": 24
        }
      ]
    },
    {
      "cell_type": "markdown",
      "metadata": {
        "id": "_oRTI_2zsruf"
      },
      "source": [
        "\n",
        "```\n",
        "nameとuds pledgedで欠損あり。\n",
        "\n",
        "🟦nameの欠損は４件と少ないため消してもいいかも\n",
        "\n",
        "nameはobjectで与えられており、いくつか重なっているものがある。これと似たようなものか？\n",
        "\n",
        "重なっているnameについては、とりあえずあげてみた。って感じで達成には結びついてないストーリーがありそう。\n",
        "\n",
        "usd pledgedはドル変換を独自でやってるもの。ほとんどがAPIに任せて変換した値は欠損値なし。\n",
        "\n",
        "独自で変換してるのは３７９７件あるが、これは修正したデータか？\n",
        "🟡なぜ独自で変換したデータが必要なのか？\n",
        "\n",
        "```\n",
        "\n",
        "----"
      ]
    },
    {
      "cell_type": "code",
      "metadata": {
        "id": "r2xayK-sdTnB"
      },
      "source": [
        "# 6 ユニーク値\n",
        "\n"
      ],
      "execution_count": 25,
      "outputs": []
    },
    {
      "cell_type": "markdown",
      "metadata": {
        "id": "Bo8BB4nzu5nG"
      },
      "source": [
        "## 1-7.テーブル定義情報のアップデート\n"
      ]
    },
    {
      "cell_type": "code",
      "metadata": {
        "id": "SDlaNN3RwDiF",
        "colab": {
          "base_uri": "https://localhost:8080/"
        },
        "outputId": "27b6659c-19be-45e0-ef81-7a0e8738caf4"
      },
      "source": [
        "df.info()"
      ],
      "execution_count": 26,
      "outputs": [
        {
          "output_type": "stream",
          "name": "stdout",
          "text": [
            "<class 'pandas.core.frame.DataFrame'>\n",
            "RangeIndex: 378661 entries, 0 to 378660\n",
            "Data columns (total 15 columns):\n",
            " #   Column            Non-Null Count   Dtype  \n",
            "---  ------            --------------   -----  \n",
            " 0   ID                378661 non-null  int64  \n",
            " 1   name              378657 non-null  object \n",
            " 2   category          378661 non-null  object \n",
            " 3   main_category     378661 non-null  object \n",
            " 4   currency          378661 non-null  object \n",
            " 5   deadline          378661 non-null  object \n",
            " 6   goal              378661 non-null  float64\n",
            " 7   launched          378661 non-null  object \n",
            " 8   pledged           378661 non-null  float64\n",
            " 9   state             378661 non-null  object \n",
            " 10  backers           378661 non-null  int64  \n",
            " 11  country           378661 non-null  object \n",
            " 12  usd pledged       374864 non-null  float64\n",
            " 13  usd_pledged_real  378661 non-null  float64\n",
            " 14  usd_goal_real     378661 non-null  float64\n",
            "dtypes: float64(5), int64(2), object(8)\n",
            "memory usage: 43.3+ MB\n"
          ]
        }
      ]
    },
    {
      "cell_type": "markdown",
      "metadata": {
        "id": "Djsd1VEawMUH"
      },
      "source": [
        "|物理名(カラム名)\t|論理名|ユニーク値(カテゴライズ)|データ型|欠損|説明|\n",
        "|:--|:--|:--|:--|:--|:--|\n",
        "|ID|利用者ID?||int64||KICKSTARTER上で管理するための番号|\n",
        "|name|プロジェクト名|len375764|object|4||\n",
        "|category|詳細分類|len159|object|0|第2カテゴリー(下記main_categoryで分けられた分類をさらに細分化するためのカテゴリー)|\n",
        "|main_category|分類|len15|object|0|第1カテゴリー|\n",
        "|currency|通貨種|len15|object|0|募集した通貨の単位|\n",
        "|deadline|支援締切|len3146|object|0|支援金の公募期間の締切日|\n",
        "|goal|目標金額　||float64|0|目標公募金額|\n",
        "|launched|公開日|len378089|object|0|開始された日時 |\n",
        "|pledged|支援金額||float64|0|公募された金額|\n",
        "|state|達成状況|'failed','successful','canceled','undefined','live','suspended'\t|object|0|プロジェクトの資金調達が目標額に到達したかどうかの成功可否|\n",
        "|backers|支援者数||int64|0||\n",
        "|country|国|len23|object|0|どの国のプロジェクトか　表記はUS GBなどでカテゴリ|\n",
        "|usd pledged|ドル変換支援金額(kickstarter)\t||float64|3797|KICKSTARTER運営側がドル換算した、公募された金額|\n",
        "|usd_pledged_real |ドル変換支援金額(Fixer.io)\t||float64|0|[Fixer.io API](https://www.techpit.jp/courses/30/curriculums/31/sections/264/parts/906#:~:text=usd_pledged_real-,Fixer.io%20API,-%E3%82%92%E5%88%A9%E7%94%A8%E3%81%97) を利用してドル換算した、公募された金額|\n",
        "|usd_goal_real | ドル変換目標金額\t||float64|0|[Fixer.io API](https://www.techpit.jp/courses/30/curriculums/31/sections/264/parts/906#:~:text=usd_pledged_real-,Fixer.io%20API,-%E3%82%92%E5%88%A9%E7%94%A8%E3%81%97)を利用してドル換算した、目標公募金額|\n"
      ]
    },
    {
      "cell_type": "markdown",
      "metadata": {
        "id": "nUKNdYPQDNoW"
      },
      "source": [
        "# 2章-2 データクレンジング　カラムの名前変更、消去、欠損処理 pit-1-branch"
      ]
    },
    {
      "cell_type": "markdown",
      "metadata": {
        "id": "xEvWYQKxBsd1"
      },
      "source": [
        "## 2-2-2.不要なカラムを消去する\n"
      ]
    },
    {
      "cell_type": "code",
      "metadata": {
        "colab": {
          "base_uri": "https://localhost:8080/",
          "height": 406
        },
        "id": "dcCi5YPNIEtD",
        "outputId": "f89a4f29-96a8-462e-e0bd-d3ee012e23ab"
      },
      "source": [
        "df.head(3)"
      ],
      "execution_count": 30,
      "outputs": [
        {
          "output_type": "execute_result",
          "data": {
            "text/html": [
              "<div>\n",
              "<style scoped>\n",
              "    .dataframe tbody tr th:only-of-type {\n",
              "        vertical-align: middle;\n",
              "    }\n",
              "\n",
              "    .dataframe tbody tr th {\n",
              "        vertical-align: top;\n",
              "    }\n",
              "\n",
              "    .dataframe thead th {\n",
              "        text-align: right;\n",
              "    }\n",
              "</style>\n",
              "<table border=\"1\" class=\"dataframe\">\n",
              "  <thead>\n",
              "    <tr style=\"text-align: right;\">\n",
              "      <th></th>\n",
              "      <th>ID</th>\n",
              "      <th>name</th>\n",
              "      <th>category</th>\n",
              "      <th>main_category</th>\n",
              "      <th>currency</th>\n",
              "      <th>deadline</th>\n",
              "      <th>goal</th>\n",
              "      <th>launched</th>\n",
              "      <th>pledged</th>\n",
              "      <th>state</th>\n",
              "      <th>backers</th>\n",
              "      <th>country</th>\n",
              "      <th>usd pledged</th>\n",
              "      <th>usd_pledged_real</th>\n",
              "      <th>usd_goal_real</th>\n",
              "    </tr>\n",
              "  </thead>\n",
              "  <tbody>\n",
              "    <tr>\n",
              "      <th>0</th>\n",
              "      <td>1000002330</td>\n",
              "      <td>The Songs of Adelaide &amp; Abullah</td>\n",
              "      <td>Poetry</td>\n",
              "      <td>Publishing</td>\n",
              "      <td>GBP</td>\n",
              "      <td>2015-10-09</td>\n",
              "      <td>1000.0</td>\n",
              "      <td>2015-08-11 12:12:28</td>\n",
              "      <td>0.0</td>\n",
              "      <td>failed</td>\n",
              "      <td>0</td>\n",
              "      <td>GB</td>\n",
              "      <td>0.0</td>\n",
              "      <td>0.0</td>\n",
              "      <td>1533.95</td>\n",
              "    </tr>\n",
              "    <tr>\n",
              "      <th>1</th>\n",
              "      <td>1000003930</td>\n",
              "      <td>Greeting From Earth: ZGAC Arts Capsule For ET</td>\n",
              "      <td>Narrative Film</td>\n",
              "      <td>Film &amp; Video</td>\n",
              "      <td>USD</td>\n",
              "      <td>2017-11-01</td>\n",
              "      <td>30000.0</td>\n",
              "      <td>2017-09-02 04:43:57</td>\n",
              "      <td>2421.0</td>\n",
              "      <td>failed</td>\n",
              "      <td>15</td>\n",
              "      <td>US</td>\n",
              "      <td>100.0</td>\n",
              "      <td>2421.0</td>\n",
              "      <td>30000.00</td>\n",
              "    </tr>\n",
              "    <tr>\n",
              "      <th>2</th>\n",
              "      <td>1000004038</td>\n",
              "      <td>Where is Hank?</td>\n",
              "      <td>Narrative Film</td>\n",
              "      <td>Film &amp; Video</td>\n",
              "      <td>USD</td>\n",
              "      <td>2013-02-26</td>\n",
              "      <td>45000.0</td>\n",
              "      <td>2013-01-12 00:20:50</td>\n",
              "      <td>220.0</td>\n",
              "      <td>failed</td>\n",
              "      <td>3</td>\n",
              "      <td>US</td>\n",
              "      <td>220.0</td>\n",
              "      <td>220.0</td>\n",
              "      <td>45000.00</td>\n",
              "    </tr>\n",
              "  </tbody>\n",
              "</table>\n",
              "</div>"
            ],
            "text/plain": [
              "           ID  ... usd_goal_real\n",
              "0  1000002330  ...       1533.95\n",
              "1  1000003930  ...      30000.00\n",
              "2  1000004038  ...      45000.00\n",
              "\n",
              "[3 rows x 15 columns]"
            ]
          },
          "metadata": {},
          "execution_count": 30
        }
      ]
    },
    {
      "cell_type": "code",
      "metadata": {
        "id": "x5SWc1BuH_kQ",
        "colab": {
          "base_uri": "https://localhost:8080/",
          "height": 947
        },
        "outputId": "09ba0fc5-1d39-4afb-a7bc-c72f1b951abb"
      },
      "source": [
        "df.drop(['ID','goal','pledged','usd pledged'],axis=1)"
      ],
      "execution_count": 31,
      "outputs": [
        {
          "output_type": "execute_result",
          "data": {
            "text/html": [
              "<div>\n",
              "<style scoped>\n",
              "    .dataframe tbody tr th:only-of-type {\n",
              "        vertical-align: middle;\n",
              "    }\n",
              "\n",
              "    .dataframe tbody tr th {\n",
              "        vertical-align: top;\n",
              "    }\n",
              "\n",
              "    .dataframe thead th {\n",
              "        text-align: right;\n",
              "    }\n",
              "</style>\n",
              "<table border=\"1\" class=\"dataframe\">\n",
              "  <thead>\n",
              "    <tr style=\"text-align: right;\">\n",
              "      <th></th>\n",
              "      <th>name</th>\n",
              "      <th>category</th>\n",
              "      <th>main_category</th>\n",
              "      <th>currency</th>\n",
              "      <th>deadline</th>\n",
              "      <th>launched</th>\n",
              "      <th>state</th>\n",
              "      <th>backers</th>\n",
              "      <th>country</th>\n",
              "      <th>usd_pledged_real</th>\n",
              "      <th>usd_goal_real</th>\n",
              "    </tr>\n",
              "  </thead>\n",
              "  <tbody>\n",
              "    <tr>\n",
              "      <th>0</th>\n",
              "      <td>The Songs of Adelaide &amp; Abullah</td>\n",
              "      <td>Poetry</td>\n",
              "      <td>Publishing</td>\n",
              "      <td>GBP</td>\n",
              "      <td>2015-10-09</td>\n",
              "      <td>2015-08-11 12:12:28</td>\n",
              "      <td>failed</td>\n",
              "      <td>0</td>\n",
              "      <td>GB</td>\n",
              "      <td>0.0</td>\n",
              "      <td>1533.95</td>\n",
              "    </tr>\n",
              "    <tr>\n",
              "      <th>1</th>\n",
              "      <td>Greeting From Earth: ZGAC Arts Capsule For ET</td>\n",
              "      <td>Narrative Film</td>\n",
              "      <td>Film &amp; Video</td>\n",
              "      <td>USD</td>\n",
              "      <td>2017-11-01</td>\n",
              "      <td>2017-09-02 04:43:57</td>\n",
              "      <td>failed</td>\n",
              "      <td>15</td>\n",
              "      <td>US</td>\n",
              "      <td>2421.0</td>\n",
              "      <td>30000.00</td>\n",
              "    </tr>\n",
              "    <tr>\n",
              "      <th>2</th>\n",
              "      <td>Where is Hank?</td>\n",
              "      <td>Narrative Film</td>\n",
              "      <td>Film &amp; Video</td>\n",
              "      <td>USD</td>\n",
              "      <td>2013-02-26</td>\n",
              "      <td>2013-01-12 00:20:50</td>\n",
              "      <td>failed</td>\n",
              "      <td>3</td>\n",
              "      <td>US</td>\n",
              "      <td>220.0</td>\n",
              "      <td>45000.00</td>\n",
              "    </tr>\n",
              "    <tr>\n",
              "      <th>3</th>\n",
              "      <td>ToshiCapital Rekordz Needs Help to Complete Album</td>\n",
              "      <td>Music</td>\n",
              "      <td>Music</td>\n",
              "      <td>USD</td>\n",
              "      <td>2012-04-16</td>\n",
              "      <td>2012-03-17 03:24:11</td>\n",
              "      <td>failed</td>\n",
              "      <td>1</td>\n",
              "      <td>US</td>\n",
              "      <td>1.0</td>\n",
              "      <td>5000.00</td>\n",
              "    </tr>\n",
              "    <tr>\n",
              "      <th>4</th>\n",
              "      <td>Community Film Project: The Art of Neighborhoo...</td>\n",
              "      <td>Film &amp; Video</td>\n",
              "      <td>Film &amp; Video</td>\n",
              "      <td>USD</td>\n",
              "      <td>2015-08-29</td>\n",
              "      <td>2015-07-04 08:35:03</td>\n",
              "      <td>canceled</td>\n",
              "      <td>14</td>\n",
              "      <td>US</td>\n",
              "      <td>1283.0</td>\n",
              "      <td>19500.00</td>\n",
              "    </tr>\n",
              "    <tr>\n",
              "      <th>...</th>\n",
              "      <td>...</td>\n",
              "      <td>...</td>\n",
              "      <td>...</td>\n",
              "      <td>...</td>\n",
              "      <td>...</td>\n",
              "      <td>...</td>\n",
              "      <td>...</td>\n",
              "      <td>...</td>\n",
              "      <td>...</td>\n",
              "      <td>...</td>\n",
              "      <td>...</td>\n",
              "    </tr>\n",
              "    <tr>\n",
              "      <th>378656</th>\n",
              "      <td>ChknTruk Nationwide Charity Drive 2014 (Canceled)</td>\n",
              "      <td>Documentary</td>\n",
              "      <td>Film &amp; Video</td>\n",
              "      <td>USD</td>\n",
              "      <td>2014-10-17</td>\n",
              "      <td>2014-09-17 02:35:30</td>\n",
              "      <td>canceled</td>\n",
              "      <td>1</td>\n",
              "      <td>US</td>\n",
              "      <td>25.0</td>\n",
              "      <td>50000.00</td>\n",
              "    </tr>\n",
              "    <tr>\n",
              "      <th>378657</th>\n",
              "      <td>The Tribe</td>\n",
              "      <td>Narrative Film</td>\n",
              "      <td>Film &amp; Video</td>\n",
              "      <td>USD</td>\n",
              "      <td>2011-07-19</td>\n",
              "      <td>2011-06-22 03:35:14</td>\n",
              "      <td>failed</td>\n",
              "      <td>5</td>\n",
              "      <td>US</td>\n",
              "      <td>155.0</td>\n",
              "      <td>1500.00</td>\n",
              "    </tr>\n",
              "    <tr>\n",
              "      <th>378658</th>\n",
              "      <td>Walls of Remedy- New lesbian Romantic Comedy f...</td>\n",
              "      <td>Narrative Film</td>\n",
              "      <td>Film &amp; Video</td>\n",
              "      <td>USD</td>\n",
              "      <td>2010-08-16</td>\n",
              "      <td>2010-07-01 19:40:30</td>\n",
              "      <td>failed</td>\n",
              "      <td>1</td>\n",
              "      <td>US</td>\n",
              "      <td>20.0</td>\n",
              "      <td>15000.00</td>\n",
              "    </tr>\n",
              "    <tr>\n",
              "      <th>378659</th>\n",
              "      <td>BioDefense Education Kit</td>\n",
              "      <td>Technology</td>\n",
              "      <td>Technology</td>\n",
              "      <td>USD</td>\n",
              "      <td>2016-02-13</td>\n",
              "      <td>2016-01-13 18:13:53</td>\n",
              "      <td>failed</td>\n",
              "      <td>6</td>\n",
              "      <td>US</td>\n",
              "      <td>200.0</td>\n",
              "      <td>15000.00</td>\n",
              "    </tr>\n",
              "    <tr>\n",
              "      <th>378660</th>\n",
              "      <td>Nou Renmen Ayiti!  We Love Haiti!</td>\n",
              "      <td>Performance Art</td>\n",
              "      <td>Art</td>\n",
              "      <td>USD</td>\n",
              "      <td>2011-08-16</td>\n",
              "      <td>2011-07-19 09:07:47</td>\n",
              "      <td>failed</td>\n",
              "      <td>17</td>\n",
              "      <td>US</td>\n",
              "      <td>524.0</td>\n",
              "      <td>2000.00</td>\n",
              "    </tr>\n",
              "  </tbody>\n",
              "</table>\n",
              "<p>378661 rows × 11 columns</p>\n",
              "</div>"
            ],
            "text/plain": [
              "                                                     name  ... usd_goal_real\n",
              "0                         The Songs of Adelaide & Abullah  ...       1533.95\n",
              "1           Greeting From Earth: ZGAC Arts Capsule For ET  ...      30000.00\n",
              "2                                          Where is Hank?  ...      45000.00\n",
              "3       ToshiCapital Rekordz Needs Help to Complete Album  ...       5000.00\n",
              "4       Community Film Project: The Art of Neighborhoo...  ...      19500.00\n",
              "...                                                   ...  ...           ...\n",
              "378656  ChknTruk Nationwide Charity Drive 2014 (Canceled)  ...      50000.00\n",
              "378657                                          The Tribe  ...       1500.00\n",
              "378658  Walls of Remedy- New lesbian Romantic Comedy f...  ...      15000.00\n",
              "378659                           BioDefense Education Kit  ...      15000.00\n",
              "378660                  Nou Renmen Ayiti!  We Love Haiti!  ...       2000.00\n",
              "\n",
              "[378661 rows x 11 columns]"
            ]
          },
          "metadata": {},
          "execution_count": 31
        }
      ]
    },
    {
      "cell_type": "code",
      "metadata": {
        "colab": {
          "base_uri": "https://localhost:8080/",
          "height": 964
        },
        "id": "OMaAdOh_Jyrr",
        "outputId": "c6f4757b-0b0f-4ba5-d34e-937dffd19d31"
      },
      "source": [
        "df"
      ],
      "execution_count": 32,
      "outputs": [
        {
          "output_type": "execute_result",
          "data": {
            "text/html": [
              "<div>\n",
              "<style scoped>\n",
              "    .dataframe tbody tr th:only-of-type {\n",
              "        vertical-align: middle;\n",
              "    }\n",
              "\n",
              "    .dataframe tbody tr th {\n",
              "        vertical-align: top;\n",
              "    }\n",
              "\n",
              "    .dataframe thead th {\n",
              "        text-align: right;\n",
              "    }\n",
              "</style>\n",
              "<table border=\"1\" class=\"dataframe\">\n",
              "  <thead>\n",
              "    <tr style=\"text-align: right;\">\n",
              "      <th></th>\n",
              "      <th>ID</th>\n",
              "      <th>name</th>\n",
              "      <th>category</th>\n",
              "      <th>main_category</th>\n",
              "      <th>currency</th>\n",
              "      <th>deadline</th>\n",
              "      <th>goal</th>\n",
              "      <th>launched</th>\n",
              "      <th>pledged</th>\n",
              "      <th>state</th>\n",
              "      <th>backers</th>\n",
              "      <th>country</th>\n",
              "      <th>usd pledged</th>\n",
              "      <th>usd_pledged_real</th>\n",
              "      <th>usd_goal_real</th>\n",
              "    </tr>\n",
              "  </thead>\n",
              "  <tbody>\n",
              "    <tr>\n",
              "      <th>0</th>\n",
              "      <td>1000002330</td>\n",
              "      <td>The Songs of Adelaide &amp; Abullah</td>\n",
              "      <td>Poetry</td>\n",
              "      <td>Publishing</td>\n",
              "      <td>GBP</td>\n",
              "      <td>2015-10-09</td>\n",
              "      <td>1000.0</td>\n",
              "      <td>2015-08-11 12:12:28</td>\n",
              "      <td>0.0</td>\n",
              "      <td>failed</td>\n",
              "      <td>0</td>\n",
              "      <td>GB</td>\n",
              "      <td>0.0</td>\n",
              "      <td>0.0</td>\n",
              "      <td>1533.95</td>\n",
              "    </tr>\n",
              "    <tr>\n",
              "      <th>1</th>\n",
              "      <td>1000003930</td>\n",
              "      <td>Greeting From Earth: ZGAC Arts Capsule For ET</td>\n",
              "      <td>Narrative Film</td>\n",
              "      <td>Film &amp; Video</td>\n",
              "      <td>USD</td>\n",
              "      <td>2017-11-01</td>\n",
              "      <td>30000.0</td>\n",
              "      <td>2017-09-02 04:43:57</td>\n",
              "      <td>2421.0</td>\n",
              "      <td>failed</td>\n",
              "      <td>15</td>\n",
              "      <td>US</td>\n",
              "      <td>100.0</td>\n",
              "      <td>2421.0</td>\n",
              "      <td>30000.00</td>\n",
              "    </tr>\n",
              "    <tr>\n",
              "      <th>2</th>\n",
              "      <td>1000004038</td>\n",
              "      <td>Where is Hank?</td>\n",
              "      <td>Narrative Film</td>\n",
              "      <td>Film &amp; Video</td>\n",
              "      <td>USD</td>\n",
              "      <td>2013-02-26</td>\n",
              "      <td>45000.0</td>\n",
              "      <td>2013-01-12 00:20:50</td>\n",
              "      <td>220.0</td>\n",
              "      <td>failed</td>\n",
              "      <td>3</td>\n",
              "      <td>US</td>\n",
              "      <td>220.0</td>\n",
              "      <td>220.0</td>\n",
              "      <td>45000.00</td>\n",
              "    </tr>\n",
              "    <tr>\n",
              "      <th>3</th>\n",
              "      <td>1000007540</td>\n",
              "      <td>ToshiCapital Rekordz Needs Help to Complete Album</td>\n",
              "      <td>Music</td>\n",
              "      <td>Music</td>\n",
              "      <td>USD</td>\n",
              "      <td>2012-04-16</td>\n",
              "      <td>5000.0</td>\n",
              "      <td>2012-03-17 03:24:11</td>\n",
              "      <td>1.0</td>\n",
              "      <td>failed</td>\n",
              "      <td>1</td>\n",
              "      <td>US</td>\n",
              "      <td>1.0</td>\n",
              "      <td>1.0</td>\n",
              "      <td>5000.00</td>\n",
              "    </tr>\n",
              "    <tr>\n",
              "      <th>4</th>\n",
              "      <td>1000011046</td>\n",
              "      <td>Community Film Project: The Art of Neighborhoo...</td>\n",
              "      <td>Film &amp; Video</td>\n",
              "      <td>Film &amp; Video</td>\n",
              "      <td>USD</td>\n",
              "      <td>2015-08-29</td>\n",
              "      <td>19500.0</td>\n",
              "      <td>2015-07-04 08:35:03</td>\n",
              "      <td>1283.0</td>\n",
              "      <td>canceled</td>\n",
              "      <td>14</td>\n",
              "      <td>US</td>\n",
              "      <td>1283.0</td>\n",
              "      <td>1283.0</td>\n",
              "      <td>19500.00</td>\n",
              "    </tr>\n",
              "    <tr>\n",
              "      <th>...</th>\n",
              "      <td>...</td>\n",
              "      <td>...</td>\n",
              "      <td>...</td>\n",
              "      <td>...</td>\n",
              "      <td>...</td>\n",
              "      <td>...</td>\n",
              "      <td>...</td>\n",
              "      <td>...</td>\n",
              "      <td>...</td>\n",
              "      <td>...</td>\n",
              "      <td>...</td>\n",
              "      <td>...</td>\n",
              "      <td>...</td>\n",
              "      <td>...</td>\n",
              "      <td>...</td>\n",
              "    </tr>\n",
              "    <tr>\n",
              "      <th>378656</th>\n",
              "      <td>999976400</td>\n",
              "      <td>ChknTruk Nationwide Charity Drive 2014 (Canceled)</td>\n",
              "      <td>Documentary</td>\n",
              "      <td>Film &amp; Video</td>\n",
              "      <td>USD</td>\n",
              "      <td>2014-10-17</td>\n",
              "      <td>50000.0</td>\n",
              "      <td>2014-09-17 02:35:30</td>\n",
              "      <td>25.0</td>\n",
              "      <td>canceled</td>\n",
              "      <td>1</td>\n",
              "      <td>US</td>\n",
              "      <td>25.0</td>\n",
              "      <td>25.0</td>\n",
              "      <td>50000.00</td>\n",
              "    </tr>\n",
              "    <tr>\n",
              "      <th>378657</th>\n",
              "      <td>999977640</td>\n",
              "      <td>The Tribe</td>\n",
              "      <td>Narrative Film</td>\n",
              "      <td>Film &amp; Video</td>\n",
              "      <td>USD</td>\n",
              "      <td>2011-07-19</td>\n",
              "      <td>1500.0</td>\n",
              "      <td>2011-06-22 03:35:14</td>\n",
              "      <td>155.0</td>\n",
              "      <td>failed</td>\n",
              "      <td>5</td>\n",
              "      <td>US</td>\n",
              "      <td>155.0</td>\n",
              "      <td>155.0</td>\n",
              "      <td>1500.00</td>\n",
              "    </tr>\n",
              "    <tr>\n",
              "      <th>378658</th>\n",
              "      <td>999986353</td>\n",
              "      <td>Walls of Remedy- New lesbian Romantic Comedy f...</td>\n",
              "      <td>Narrative Film</td>\n",
              "      <td>Film &amp; Video</td>\n",
              "      <td>USD</td>\n",
              "      <td>2010-08-16</td>\n",
              "      <td>15000.0</td>\n",
              "      <td>2010-07-01 19:40:30</td>\n",
              "      <td>20.0</td>\n",
              "      <td>failed</td>\n",
              "      <td>1</td>\n",
              "      <td>US</td>\n",
              "      <td>20.0</td>\n",
              "      <td>20.0</td>\n",
              "      <td>15000.00</td>\n",
              "    </tr>\n",
              "    <tr>\n",
              "      <th>378659</th>\n",
              "      <td>999987933</td>\n",
              "      <td>BioDefense Education Kit</td>\n",
              "      <td>Technology</td>\n",
              "      <td>Technology</td>\n",
              "      <td>USD</td>\n",
              "      <td>2016-02-13</td>\n",
              "      <td>15000.0</td>\n",
              "      <td>2016-01-13 18:13:53</td>\n",
              "      <td>200.0</td>\n",
              "      <td>failed</td>\n",
              "      <td>6</td>\n",
              "      <td>US</td>\n",
              "      <td>200.0</td>\n",
              "      <td>200.0</td>\n",
              "      <td>15000.00</td>\n",
              "    </tr>\n",
              "    <tr>\n",
              "      <th>378660</th>\n",
              "      <td>999988282</td>\n",
              "      <td>Nou Renmen Ayiti!  We Love Haiti!</td>\n",
              "      <td>Performance Art</td>\n",
              "      <td>Art</td>\n",
              "      <td>USD</td>\n",
              "      <td>2011-08-16</td>\n",
              "      <td>2000.0</td>\n",
              "      <td>2011-07-19 09:07:47</td>\n",
              "      <td>524.0</td>\n",
              "      <td>failed</td>\n",
              "      <td>17</td>\n",
              "      <td>US</td>\n",
              "      <td>524.0</td>\n",
              "      <td>524.0</td>\n",
              "      <td>2000.00</td>\n",
              "    </tr>\n",
              "  </tbody>\n",
              "</table>\n",
              "<p>378661 rows × 15 columns</p>\n",
              "</div>"
            ],
            "text/plain": [
              "                ID  ... usd_goal_real\n",
              "0       1000002330  ...       1533.95\n",
              "1       1000003930  ...      30000.00\n",
              "2       1000004038  ...      45000.00\n",
              "3       1000007540  ...       5000.00\n",
              "4       1000011046  ...      19500.00\n",
              "...            ...  ...           ...\n",
              "378656   999976400  ...      50000.00\n",
              "378657   999977640  ...       1500.00\n",
              "378658   999986353  ...      15000.00\n",
              "378659   999987933  ...      15000.00\n",
              "378660   999988282  ...       2000.00\n",
              "\n",
              "[378661 rows x 15 columns]"
            ]
          },
          "metadata": {},
          "execution_count": 32
        }
      ]
    },
    {
      "cell_type": "markdown",
      "metadata": {
        "id": "WZf7qlspIs80"
      },
      "source": [
        "* axis=とは？\n",
        "* dropを使ったデータは表示が変わるだけで、データ自体に変更はない。変数に代入したときにdfの中身が変わる。第3引数にinplace=Trueを代入でもdfに再代入されたのと同じく、中身が更新される。\n",
        "\n",
        "\n"
      ]
    },
    {
      "cell_type": "markdown",
      "metadata": {
        "id": "HZmAtyB3B1FI"
      },
      "source": [
        "## 2-2-3-.カラム名の変更\n",
        "\n",
        "**論理名を物理名に置き換え**"
      ]
    },
    {
      "cell_type": "code",
      "metadata": {
        "id": "d4jRCpWyJo5c"
      },
      "source": [
        "df = df.rename(columns = {'name': 'PJ名', 'category': '第2カテゴリー', 'main_category': '第1カテゴリー', 'currency': '通貨', 'deadline': '締切日', 'launched': '開始日', 'state': '成否', 'backers': '支援者数', 'country': '国', 'usd_pledged_real': '支援額', 'usd_goal_real': '目標額'})"
      ],
      "execution_count": 33,
      "outputs": []
    },
    {
      "cell_type": "code",
      "metadata": {
        "id": "40IL-aeGKPhR",
        "colab": {
          "base_uri": "https://localhost:8080/",
          "height": 539
        },
        "outputId": "f3998bd3-6643-447f-cc29-f0284fd89edb"
      },
      "source": [
        "df.head(5)"
      ],
      "execution_count": 34,
      "outputs": [
        {
          "output_type": "execute_result",
          "data": {
            "text/html": [
              "<div>\n",
              "<style scoped>\n",
              "    .dataframe tbody tr th:only-of-type {\n",
              "        vertical-align: middle;\n",
              "    }\n",
              "\n",
              "    .dataframe tbody tr th {\n",
              "        vertical-align: top;\n",
              "    }\n",
              "\n",
              "    .dataframe thead th {\n",
              "        text-align: right;\n",
              "    }\n",
              "</style>\n",
              "<table border=\"1\" class=\"dataframe\">\n",
              "  <thead>\n",
              "    <tr style=\"text-align: right;\">\n",
              "      <th></th>\n",
              "      <th>ID</th>\n",
              "      <th>PJ名</th>\n",
              "      <th>第2カテゴリー</th>\n",
              "      <th>第1カテゴリー</th>\n",
              "      <th>通貨</th>\n",
              "      <th>締切日</th>\n",
              "      <th>goal</th>\n",
              "      <th>開始日</th>\n",
              "      <th>pledged</th>\n",
              "      <th>成否</th>\n",
              "      <th>支援者数</th>\n",
              "      <th>国</th>\n",
              "      <th>usd pledged</th>\n",
              "      <th>支援額</th>\n",
              "      <th>目標額</th>\n",
              "    </tr>\n",
              "  </thead>\n",
              "  <tbody>\n",
              "    <tr>\n",
              "      <th>0</th>\n",
              "      <td>1000002330</td>\n",
              "      <td>The Songs of Adelaide &amp; Abullah</td>\n",
              "      <td>Poetry</td>\n",
              "      <td>Publishing</td>\n",
              "      <td>GBP</td>\n",
              "      <td>2015-10-09</td>\n",
              "      <td>1000.0</td>\n",
              "      <td>2015-08-11 12:12:28</td>\n",
              "      <td>0.0</td>\n",
              "      <td>failed</td>\n",
              "      <td>0</td>\n",
              "      <td>GB</td>\n",
              "      <td>0.0</td>\n",
              "      <td>0.0</td>\n",
              "      <td>1533.95</td>\n",
              "    </tr>\n",
              "    <tr>\n",
              "      <th>1</th>\n",
              "      <td>1000003930</td>\n",
              "      <td>Greeting From Earth: ZGAC Arts Capsule For ET</td>\n",
              "      <td>Narrative Film</td>\n",
              "      <td>Film &amp; Video</td>\n",
              "      <td>USD</td>\n",
              "      <td>2017-11-01</td>\n",
              "      <td>30000.0</td>\n",
              "      <td>2017-09-02 04:43:57</td>\n",
              "      <td>2421.0</td>\n",
              "      <td>failed</td>\n",
              "      <td>15</td>\n",
              "      <td>US</td>\n",
              "      <td>100.0</td>\n",
              "      <td>2421.0</td>\n",
              "      <td>30000.00</td>\n",
              "    </tr>\n",
              "    <tr>\n",
              "      <th>2</th>\n",
              "      <td>1000004038</td>\n",
              "      <td>Where is Hank?</td>\n",
              "      <td>Narrative Film</td>\n",
              "      <td>Film &amp; Video</td>\n",
              "      <td>USD</td>\n",
              "      <td>2013-02-26</td>\n",
              "      <td>45000.0</td>\n",
              "      <td>2013-01-12 00:20:50</td>\n",
              "      <td>220.0</td>\n",
              "      <td>failed</td>\n",
              "      <td>3</td>\n",
              "      <td>US</td>\n",
              "      <td>220.0</td>\n",
              "      <td>220.0</td>\n",
              "      <td>45000.00</td>\n",
              "    </tr>\n",
              "    <tr>\n",
              "      <th>3</th>\n",
              "      <td>1000007540</td>\n",
              "      <td>ToshiCapital Rekordz Needs Help to Complete Album</td>\n",
              "      <td>Music</td>\n",
              "      <td>Music</td>\n",
              "      <td>USD</td>\n",
              "      <td>2012-04-16</td>\n",
              "      <td>5000.0</td>\n",
              "      <td>2012-03-17 03:24:11</td>\n",
              "      <td>1.0</td>\n",
              "      <td>failed</td>\n",
              "      <td>1</td>\n",
              "      <td>US</td>\n",
              "      <td>1.0</td>\n",
              "      <td>1.0</td>\n",
              "      <td>5000.00</td>\n",
              "    </tr>\n",
              "    <tr>\n",
              "      <th>4</th>\n",
              "      <td>1000011046</td>\n",
              "      <td>Community Film Project: The Art of Neighborhoo...</td>\n",
              "      <td>Film &amp; Video</td>\n",
              "      <td>Film &amp; Video</td>\n",
              "      <td>USD</td>\n",
              "      <td>2015-08-29</td>\n",
              "      <td>19500.0</td>\n",
              "      <td>2015-07-04 08:35:03</td>\n",
              "      <td>1283.0</td>\n",
              "      <td>canceled</td>\n",
              "      <td>14</td>\n",
              "      <td>US</td>\n",
              "      <td>1283.0</td>\n",
              "      <td>1283.0</td>\n",
              "      <td>19500.00</td>\n",
              "    </tr>\n",
              "  </tbody>\n",
              "</table>\n",
              "</div>"
            ],
            "text/plain": [
              "           ID  ...       目標額\n",
              "0  1000002330  ...   1533.95\n",
              "1  1000003930  ...  30000.00\n",
              "2  1000004038  ...  45000.00\n",
              "3  1000007540  ...   5000.00\n",
              "4  1000011046  ...  19500.00\n",
              "\n",
              "[5 rows x 15 columns]"
            ]
          },
          "metadata": {},
          "execution_count": 34
        }
      ]
    },
    {
      "cell_type": "code",
      "metadata": {
        "id": "H6CyAoJEifoX"
      },
      "source": [
        "df = df.drop(['ID','goal','pledged','usd pledged'],axis=1)"
      ],
      "execution_count": 35,
      "outputs": []
    },
    {
      "cell_type": "code",
      "metadata": {
        "colab": {
          "base_uri": "https://localhost:8080/",
          "height": 649
        },
        "id": "JQqXDN3BilYu",
        "outputId": "56e9a1d4-f4c9-4b7d-95ad-58aaea0670ca"
      },
      "source": [
        "df"
      ],
      "execution_count": 36,
      "outputs": [
        {
          "output_type": "execute_result",
          "data": {
            "text/html": [
              "<div>\n",
              "<style scoped>\n",
              "    .dataframe tbody tr th:only-of-type {\n",
              "        vertical-align: middle;\n",
              "    }\n",
              "\n",
              "    .dataframe tbody tr th {\n",
              "        vertical-align: top;\n",
              "    }\n",
              "\n",
              "    .dataframe thead th {\n",
              "        text-align: right;\n",
              "    }\n",
              "</style>\n",
              "<table border=\"1\" class=\"dataframe\">\n",
              "  <thead>\n",
              "    <tr style=\"text-align: right;\">\n",
              "      <th></th>\n",
              "      <th>PJ名</th>\n",
              "      <th>第2カテゴリー</th>\n",
              "      <th>第1カテゴリー</th>\n",
              "      <th>通貨</th>\n",
              "      <th>締切日</th>\n",
              "      <th>開始日</th>\n",
              "      <th>成否</th>\n",
              "      <th>支援者数</th>\n",
              "      <th>国</th>\n",
              "      <th>支援額</th>\n",
              "      <th>目標額</th>\n",
              "    </tr>\n",
              "  </thead>\n",
              "  <tbody>\n",
              "    <tr>\n",
              "      <th>0</th>\n",
              "      <td>The Songs of Adelaide &amp; Abullah</td>\n",
              "      <td>Poetry</td>\n",
              "      <td>Publishing</td>\n",
              "      <td>GBP</td>\n",
              "      <td>2015-10-09</td>\n",
              "      <td>2015-08-11 12:12:28</td>\n",
              "      <td>failed</td>\n",
              "      <td>0</td>\n",
              "      <td>GB</td>\n",
              "      <td>0.0</td>\n",
              "      <td>1533.95</td>\n",
              "    </tr>\n",
              "    <tr>\n",
              "      <th>1</th>\n",
              "      <td>Greeting From Earth: ZGAC Arts Capsule For ET</td>\n",
              "      <td>Narrative Film</td>\n",
              "      <td>Film &amp; Video</td>\n",
              "      <td>USD</td>\n",
              "      <td>2017-11-01</td>\n",
              "      <td>2017-09-02 04:43:57</td>\n",
              "      <td>failed</td>\n",
              "      <td>15</td>\n",
              "      <td>US</td>\n",
              "      <td>2421.0</td>\n",
              "      <td>30000.00</td>\n",
              "    </tr>\n",
              "    <tr>\n",
              "      <th>2</th>\n",
              "      <td>Where is Hank?</td>\n",
              "      <td>Narrative Film</td>\n",
              "      <td>Film &amp; Video</td>\n",
              "      <td>USD</td>\n",
              "      <td>2013-02-26</td>\n",
              "      <td>2013-01-12 00:20:50</td>\n",
              "      <td>failed</td>\n",
              "      <td>3</td>\n",
              "      <td>US</td>\n",
              "      <td>220.0</td>\n",
              "      <td>45000.00</td>\n",
              "    </tr>\n",
              "    <tr>\n",
              "      <th>3</th>\n",
              "      <td>ToshiCapital Rekordz Needs Help to Complete Album</td>\n",
              "      <td>Music</td>\n",
              "      <td>Music</td>\n",
              "      <td>USD</td>\n",
              "      <td>2012-04-16</td>\n",
              "      <td>2012-03-17 03:24:11</td>\n",
              "      <td>failed</td>\n",
              "      <td>1</td>\n",
              "      <td>US</td>\n",
              "      <td>1.0</td>\n",
              "      <td>5000.00</td>\n",
              "    </tr>\n",
              "    <tr>\n",
              "      <th>4</th>\n",
              "      <td>Community Film Project: The Art of Neighborhoo...</td>\n",
              "      <td>Film &amp; Video</td>\n",
              "      <td>Film &amp; Video</td>\n",
              "      <td>USD</td>\n",
              "      <td>2015-08-29</td>\n",
              "      <td>2015-07-04 08:35:03</td>\n",
              "      <td>canceled</td>\n",
              "      <td>14</td>\n",
              "      <td>US</td>\n",
              "      <td>1283.0</td>\n",
              "      <td>19500.00</td>\n",
              "    </tr>\n",
              "    <tr>\n",
              "      <th>...</th>\n",
              "      <td>...</td>\n",
              "      <td>...</td>\n",
              "      <td>...</td>\n",
              "      <td>...</td>\n",
              "      <td>...</td>\n",
              "      <td>...</td>\n",
              "      <td>...</td>\n",
              "      <td>...</td>\n",
              "      <td>...</td>\n",
              "      <td>...</td>\n",
              "      <td>...</td>\n",
              "    </tr>\n",
              "    <tr>\n",
              "      <th>378656</th>\n",
              "      <td>ChknTruk Nationwide Charity Drive 2014 (Canceled)</td>\n",
              "      <td>Documentary</td>\n",
              "      <td>Film &amp; Video</td>\n",
              "      <td>USD</td>\n",
              "      <td>2014-10-17</td>\n",
              "      <td>2014-09-17 02:35:30</td>\n",
              "      <td>canceled</td>\n",
              "      <td>1</td>\n",
              "      <td>US</td>\n",
              "      <td>25.0</td>\n",
              "      <td>50000.00</td>\n",
              "    </tr>\n",
              "    <tr>\n",
              "      <th>378657</th>\n",
              "      <td>The Tribe</td>\n",
              "      <td>Narrative Film</td>\n",
              "      <td>Film &amp; Video</td>\n",
              "      <td>USD</td>\n",
              "      <td>2011-07-19</td>\n",
              "      <td>2011-06-22 03:35:14</td>\n",
              "      <td>failed</td>\n",
              "      <td>5</td>\n",
              "      <td>US</td>\n",
              "      <td>155.0</td>\n",
              "      <td>1500.00</td>\n",
              "    </tr>\n",
              "    <tr>\n",
              "      <th>378658</th>\n",
              "      <td>Walls of Remedy- New lesbian Romantic Comedy f...</td>\n",
              "      <td>Narrative Film</td>\n",
              "      <td>Film &amp; Video</td>\n",
              "      <td>USD</td>\n",
              "      <td>2010-08-16</td>\n",
              "      <td>2010-07-01 19:40:30</td>\n",
              "      <td>failed</td>\n",
              "      <td>1</td>\n",
              "      <td>US</td>\n",
              "      <td>20.0</td>\n",
              "      <td>15000.00</td>\n",
              "    </tr>\n",
              "    <tr>\n",
              "      <th>378659</th>\n",
              "      <td>BioDefense Education Kit</td>\n",
              "      <td>Technology</td>\n",
              "      <td>Technology</td>\n",
              "      <td>USD</td>\n",
              "      <td>2016-02-13</td>\n",
              "      <td>2016-01-13 18:13:53</td>\n",
              "      <td>failed</td>\n",
              "      <td>6</td>\n",
              "      <td>US</td>\n",
              "      <td>200.0</td>\n",
              "      <td>15000.00</td>\n",
              "    </tr>\n",
              "    <tr>\n",
              "      <th>378660</th>\n",
              "      <td>Nou Renmen Ayiti!  We Love Haiti!</td>\n",
              "      <td>Performance Art</td>\n",
              "      <td>Art</td>\n",
              "      <td>USD</td>\n",
              "      <td>2011-08-16</td>\n",
              "      <td>2011-07-19 09:07:47</td>\n",
              "      <td>failed</td>\n",
              "      <td>17</td>\n",
              "      <td>US</td>\n",
              "      <td>524.0</td>\n",
              "      <td>2000.00</td>\n",
              "    </tr>\n",
              "  </tbody>\n",
              "</table>\n",
              "<p>378661 rows × 11 columns</p>\n",
              "</div>"
            ],
            "text/plain": [
              "                                                      PJ名  ...       目標額\n",
              "0                         The Songs of Adelaide & Abullah  ...   1533.95\n",
              "1           Greeting From Earth: ZGAC Arts Capsule For ET  ...  30000.00\n",
              "2                                          Where is Hank?  ...  45000.00\n",
              "3       ToshiCapital Rekordz Needs Help to Complete Album  ...   5000.00\n",
              "4       Community Film Project: The Art of Neighborhoo...  ...  19500.00\n",
              "...                                                   ...  ...       ...\n",
              "378656  ChknTruk Nationwide Charity Drive 2014 (Canceled)  ...  50000.00\n",
              "378657                                          The Tribe  ...   1500.00\n",
              "378658  Walls of Remedy- New lesbian Romantic Comedy f...  ...  15000.00\n",
              "378659                           BioDefense Education Kit  ...  15000.00\n",
              "378660                  Nou Renmen Ayiti!  We Love Haiti!  ...   2000.00\n",
              "\n",
              "[378661 rows x 11 columns]"
            ]
          },
          "metadata": {},
          "execution_count": 36
        }
      ]
    },
    {
      "cell_type": "markdown",
      "metadata": {
        "id": "PSt6eUarB8DR"
      },
      "source": [
        "## 2-2-4.欠損データの確認"
      ]
    },
    {
      "cell_type": "code",
      "metadata": {
        "colab": {
          "base_uri": "https://localhost:8080/"
        },
        "id": "R82uvfSfLOcY",
        "outputId": "2d07a5dc-8762-443e-8b93-d87f4850c60c"
      },
      "source": [
        "df.info()"
      ],
      "execution_count": 37,
      "outputs": [
        {
          "output_type": "stream",
          "name": "stdout",
          "text": [
            "<class 'pandas.core.frame.DataFrame'>\n",
            "RangeIndex: 378661 entries, 0 to 378660\n",
            "Data columns (total 11 columns):\n",
            " #   Column   Non-Null Count   Dtype  \n",
            "---  ------   --------------   -----  \n",
            " 0   PJ名      378657 non-null  object \n",
            " 1   第2カテゴリー  378661 non-null  object \n",
            " 2   第1カテゴリー  378661 non-null  object \n",
            " 3   通貨       378661 non-null  object \n",
            " 4   締切日      378661 non-null  object \n",
            " 5   開始日      378661 non-null  object \n",
            " 6   成否       378661 non-null  object \n",
            " 7   支援者数     378661 non-null  int64  \n",
            " 8   国        378661 non-null  object \n",
            " 9   支援額      378661 non-null  float64\n",
            " 10  目標額      378661 non-null  float64\n",
            "dtypes: float64(2), int64(1), object(8)\n",
            "memory usage: 31.8+ MB\n"
          ]
        }
      ]
    },
    {
      "cell_type": "code",
      "metadata": {
        "colab": {
          "base_uri": "https://localhost:8080/"
        },
        "id": "u0NAIcEyLyCh",
        "outputId": "7ff26f56-7f97-40a5-91ad-cdadfe2b60d0"
      },
      "source": [
        "df.shape"
      ],
      "execution_count": 38,
      "outputs": [
        {
          "output_type": "execute_result",
          "data": {
            "text/plain": [
              "(378661, 11)"
            ]
          },
          "metadata": {},
          "execution_count": 38
        }
      ]
    },
    {
      "cell_type": "markdown",
      "metadata": {
        "id": "GEFssB1gOKhK"
      },
      "source": [
        "全体数がわかる。\n",
        "もっっと簡易的に欠損値をみたい場合は以下"
      ]
    },
    {
      "cell_type": "code",
      "metadata": {
        "colab": {
          "base_uri": "https://localhost:8080/"
        },
        "id": "5ydMEls_Lo8_",
        "outputId": "be072594-618f-472a-d1c9-b1052ea8e34e"
      },
      "source": [
        "df.isnull().sum()"
      ],
      "execution_count": 39,
      "outputs": [
        {
          "output_type": "execute_result",
          "data": {
            "text/plain": [
              "PJ名        4\n",
              "第2カテゴリー    0\n",
              "第1カテゴリー    0\n",
              "通貨         0\n",
              "締切日        0\n",
              "開始日        0\n",
              "成否         0\n",
              "支援者数       0\n",
              "国          0\n",
              "支援額        0\n",
              "目標額        0\n",
              "dtype: int64"
            ]
          },
          "metadata": {},
          "execution_count": 39
        }
      ]
    },
    {
      "cell_type": "code",
      "metadata": {
        "id": "Yx6-TsReOZAs",
        "colab": {
          "base_uri": "https://localhost:8080/"
        },
        "outputId": "584bab8f-739a-4b97-e9db-7e905c1c258f"
      },
      "source": [
        "# 妥当性も考慮して、割合で見るなら\n",
        "1-(df.isnull().sum()/378661)"
      ],
      "execution_count": 40,
      "outputs": [
        {
          "output_type": "execute_result",
          "data": {
            "text/plain": [
              "PJ名        0.999989\n",
              "第2カテゴリー    1.000000\n",
              "第1カテゴリー    1.000000\n",
              "通貨         1.000000\n",
              "締切日        1.000000\n",
              "開始日        1.000000\n",
              "成否         1.000000\n",
              "支援者数       1.000000\n",
              "国          1.000000\n",
              "支援額        1.000000\n",
              "目標額        1.000000\n",
              "dtype: float64"
            ]
          },
          "metadata": {},
          "execution_count": 40
        }
      ]
    },
    {
      "cell_type": "markdown",
      "metadata": {
        "id": "bUwe4ysAO9Rl"
      },
      "source": [
        "#### 文法:カラムについて詳しく見る 欠損のみ表示する"
      ]
    },
    {
      "cell_type": "code",
      "metadata": {
        "id": "fgXRVmOmPoP7",
        "colab": {
          "base_uri": "https://localhost:8080/"
        },
        "outputId": "6a85cb2c-afec-40d9-b31e-29616e4b6d7e"
      },
      "source": [
        "df['PJ名'].isnull()\n",
        "# この中で欠損していることを示すTrueの行のみを表示させたい場合、下記コードを実行します。"
      ],
      "execution_count": 43,
      "outputs": [
        {
          "output_type": "execute_result",
          "data": {
            "text/plain": [
              "0         False\n",
              "1         False\n",
              "2         False\n",
              "3         False\n",
              "4         False\n",
              "          ...  \n",
              "378656    False\n",
              "378657    False\n",
              "378658    False\n",
              "378659    False\n",
              "378660    False\n",
              "Name: PJ名, Length: 378661, dtype: bool"
            ]
          },
          "metadata": {},
          "execution_count": 43
        }
      ]
    },
    {
      "cell_type": "code",
      "metadata": {
        "colab": {
          "base_uri": "https://localhost:8080/",
          "height": 175
        },
        "id": "9sZK0vGFPCzZ",
        "outputId": "19b5aa4d-4e6b-44a7-e4a5-602dd5080d1d"
      },
      "source": [
        "df[df['PJ名'].isnull()]"
      ],
      "execution_count": 45,
      "outputs": [
        {
          "output_type": "execute_result",
          "data": {
            "text/html": [
              "<div>\n",
              "<style scoped>\n",
              "    .dataframe tbody tr th:only-of-type {\n",
              "        vertical-align: middle;\n",
              "    }\n",
              "\n",
              "    .dataframe tbody tr th {\n",
              "        vertical-align: top;\n",
              "    }\n",
              "\n",
              "    .dataframe thead th {\n",
              "        text-align: right;\n",
              "    }\n",
              "</style>\n",
              "<table border=\"1\" class=\"dataframe\">\n",
              "  <thead>\n",
              "    <tr style=\"text-align: right;\">\n",
              "      <th></th>\n",
              "      <th>PJ名</th>\n",
              "      <th>第2カテゴリー</th>\n",
              "      <th>第1カテゴリー</th>\n",
              "      <th>通貨</th>\n",
              "      <th>締切日</th>\n",
              "      <th>開始日</th>\n",
              "      <th>成否</th>\n",
              "      <th>支援者数</th>\n",
              "      <th>国</th>\n",
              "      <th>支援額</th>\n",
              "      <th>目標額</th>\n",
              "    </tr>\n",
              "  </thead>\n",
              "  <tbody>\n",
              "    <tr>\n",
              "      <th>166851</th>\n",
              "      <td>NaN</td>\n",
              "      <td>Narrative Film</td>\n",
              "      <td>Film &amp; Video</td>\n",
              "      <td>USD</td>\n",
              "      <td>2012-02-29</td>\n",
              "      <td>2012-01-01 12:35:31</td>\n",
              "      <td>failed</td>\n",
              "      <td>1</td>\n",
              "      <td>US</td>\n",
              "      <td>100.00</td>\n",
              "      <td>200000.00</td>\n",
              "    </tr>\n",
              "    <tr>\n",
              "      <th>307234</th>\n",
              "      <td>NaN</td>\n",
              "      <td>Video Games</td>\n",
              "      <td>Games</td>\n",
              "      <td>GBP</td>\n",
              "      <td>2013-01-06</td>\n",
              "      <td>2012-12-19 23:57:48</td>\n",
              "      <td>failed</td>\n",
              "      <td>12</td>\n",
              "      <td>GB</td>\n",
              "      <td>316.05</td>\n",
              "      <td>3224.97</td>\n",
              "    </tr>\n",
              "    <tr>\n",
              "      <th>309991</th>\n",
              "      <td>NaN</td>\n",
              "      <td>Product Design</td>\n",
              "      <td>Design</td>\n",
              "      <td>USD</td>\n",
              "      <td>2016-07-18</td>\n",
              "      <td>2016-06-18 05:01:47</td>\n",
              "      <td>suspended</td>\n",
              "      <td>0</td>\n",
              "      <td>US</td>\n",
              "      <td>0.00</td>\n",
              "      <td>2500.00</td>\n",
              "    </tr>\n",
              "    <tr>\n",
              "      <th>338931</th>\n",
              "      <td>NaN</td>\n",
              "      <td>Painting</td>\n",
              "      <td>Art</td>\n",
              "      <td>USD</td>\n",
              "      <td>2011-12-05</td>\n",
              "      <td>2011-11-06 23:55:55</td>\n",
              "      <td>failed</td>\n",
              "      <td>5</td>\n",
              "      <td>US</td>\n",
              "      <td>220.00</td>\n",
              "      <td>35000.00</td>\n",
              "    </tr>\n",
              "  </tbody>\n",
              "</table>\n",
              "</div>"
            ],
            "text/plain": [
              "        PJ名         第2カテゴリー       第1カテゴリー   通貨  ... 支援者数   国     支援額        目標額\n",
              "166851  NaN  Narrative Film  Film & Video  USD  ...    1  US  100.00  200000.00\n",
              "307234  NaN     Video Games         Games  GBP  ...   12  GB  316.05    3224.97\n",
              "309991  NaN  Product Design        Design  USD  ...    0  US    0.00    2500.00\n",
              "338931  NaN        Painting           Art  USD  ...    5  US  220.00   35000.00\n",
              "\n",
              "[4 rows x 11 columns]"
            ]
          },
          "metadata": {},
          "execution_count": 45
        }
      ]
    },
    {
      "cell_type": "markdown",
      "metadata": {
        "id": "HWR3OX57Px0o"
      },
      "source": [
        "\n",
        "\n",
        "```\n",
        "🟡ここの考え方わからない\n",
        "　　　かっこの意味は？それぞれの違いは？\n",
        "\n",
        "```\n",
        "\n"
      ]
    },
    {
      "cell_type": "markdown",
      "metadata": {
        "id": "CAOT8y-6CBPT"
      },
      "source": [
        "## 2-2-5.欠損データをどう処理すべきか考える"
      ]
    },
    {
      "cell_type": "markdown",
      "metadata": {
        "id": "qZJYTSD9RUKJ"
      },
      "source": [
        "現在、PJ名のカラムに欠損値がある\n",
        "方法としては\n",
        "\n",
        "1.   補う\n",
        "2.   消去\n",
        "\n",
        "判断の基準はについて\n",
        "\n",
        "*データ分析者本人にゴールまでの道筋が駄ねられている*\n",
        "\n",
        "**目標、ゴールを明確にすると**\n",
        "\n",
        "> 「クラウドファンディングでの資金調達成功プロジェクトの特徴、もしくは資金調達失敗プロジェクトの特徴を掴む」\n",
        "\n",
        "\n",
        "それを踏まえて、\n",
        "\n",
        "```\n",
        "df[df['PJ名'].isnull()]\n",
        "```\n",
        "でデータの中身を確認した。\n",
        "名前自体に意味はなく、他のデータが目標に向けては十分使えるものとなっているため\n",
        "**「補って使うべき」**。\n",
        "\n",
        "\n",
        "---\n",
        "\n",
        "```\n",
        "補足、思ったこと\n",
        "  あまり関係ないが、PJ名をちゃんと設定していない場合の達成率とかを分析したいなら、補うPJ名を「PJ名がないのはやる気ない？」など仮設をぶっこんどくと想起できていいかも\n",
        "\n",
        "  そして今は四件しかないため、もっと集めて来るか、PJ名がかぶっているもので分析のできそう。\n",
        "```\n",
        "\n",
        "\n"
      ]
    },
    {
      "cell_type": "markdown",
      "metadata": {
        "id": "gS4ORIbdCO-P"
      },
      "source": [
        "## 2-2-6.欠損部に値を代入"
      ]
    },
    {
      "cell_type": "code",
      "metadata": {
        "colab": {
          "base_uri": "https://localhost:8080/",
          "height": 262
        },
        "id": "vD6t8kC1Waqd",
        "outputId": "9875f9bd-f685-4e10-a289-fb6bc7247dd0"
      },
      "source": [
        "# 中身を確認\n",
        "df.loc[[166851, 307234, 309991, 338931]]"
      ],
      "execution_count": 51,
      "outputs": [
        {
          "output_type": "execute_result",
          "data": {
            "text/html": [
              "<div>\n",
              "<style scoped>\n",
              "    .dataframe tbody tr th:only-of-type {\n",
              "        vertical-align: middle;\n",
              "    }\n",
              "\n",
              "    .dataframe tbody tr th {\n",
              "        vertical-align: top;\n",
              "    }\n",
              "\n",
              "    .dataframe thead th {\n",
              "        text-align: right;\n",
              "    }\n",
              "</style>\n",
              "<table border=\"1\" class=\"dataframe\">\n",
              "  <thead>\n",
              "    <tr style=\"text-align: right;\">\n",
              "      <th></th>\n",
              "      <th>PJ名</th>\n",
              "      <th>第2カテゴリー</th>\n",
              "      <th>第1カテゴリー</th>\n",
              "      <th>通貨</th>\n",
              "      <th>締切日</th>\n",
              "      <th>開始日</th>\n",
              "      <th>成否</th>\n",
              "      <th>支援者数</th>\n",
              "      <th>国</th>\n",
              "      <th>支援額</th>\n",
              "      <th>目標額</th>\n",
              "    </tr>\n",
              "  </thead>\n",
              "  <tbody>\n",
              "    <tr>\n",
              "      <th>166851</th>\n",
              "      <td>no_name</td>\n",
              "      <td>Narrative Film</td>\n",
              "      <td>Film &amp; Video</td>\n",
              "      <td>USD</td>\n",
              "      <td>2012-02-29</td>\n",
              "      <td>2012-01-01 12:35:31</td>\n",
              "      <td>failed</td>\n",
              "      <td>1</td>\n",
              "      <td>US</td>\n",
              "      <td>100.00</td>\n",
              "      <td>200000.00</td>\n",
              "    </tr>\n",
              "    <tr>\n",
              "      <th>307234</th>\n",
              "      <td>no_name</td>\n",
              "      <td>Video Games</td>\n",
              "      <td>Games</td>\n",
              "      <td>GBP</td>\n",
              "      <td>2013-01-06</td>\n",
              "      <td>2012-12-19 23:57:48</td>\n",
              "      <td>failed</td>\n",
              "      <td>12</td>\n",
              "      <td>GB</td>\n",
              "      <td>316.05</td>\n",
              "      <td>3224.97</td>\n",
              "    </tr>\n",
              "    <tr>\n",
              "      <th>309991</th>\n",
              "      <td>no_name</td>\n",
              "      <td>Product Design</td>\n",
              "      <td>Design</td>\n",
              "      <td>USD</td>\n",
              "      <td>2016-07-18</td>\n",
              "      <td>2016-06-18 05:01:47</td>\n",
              "      <td>suspended</td>\n",
              "      <td>0</td>\n",
              "      <td>US</td>\n",
              "      <td>0.00</td>\n",
              "      <td>2500.00</td>\n",
              "    </tr>\n",
              "    <tr>\n",
              "      <th>338931</th>\n",
              "      <td>no_name</td>\n",
              "      <td>Painting</td>\n",
              "      <td>Art</td>\n",
              "      <td>USD</td>\n",
              "      <td>2011-12-05</td>\n",
              "      <td>2011-11-06 23:55:55</td>\n",
              "      <td>failed</td>\n",
              "      <td>5</td>\n",
              "      <td>US</td>\n",
              "      <td>220.00</td>\n",
              "      <td>35000.00</td>\n",
              "    </tr>\n",
              "  </tbody>\n",
              "</table>\n",
              "</div>"
            ],
            "text/plain": [
              "            PJ名         第2カテゴリー       第1カテゴリー   通貨  ... 支援者数   国     支援額        目標額\n",
              "166851  no_name  Narrative Film  Film & Video  USD  ...    1  US  100.00  200000.00\n",
              "307234  no_name     Video Games         Games  GBP  ...   12  GB  316.05    3224.97\n",
              "309991  no_name  Product Design        Design  USD  ...    0  US    0.00    2500.00\n",
              "338931  no_name        Painting           Art  USD  ...    5  US  220.00   35000.00\n",
              "\n",
              "[4 rows x 11 columns]"
            ]
          },
          "metadata": {},
          "execution_count": 51
        }
      ]
    },
    {
      "cell_type": "code",
      "metadata": {
        "id": "n6W3XEObDY7J",
        "colab": {
          "base_uri": "https://localhost:8080/"
        },
        "outputId": "17291885-f55f-48e7-bbdb-fccacfa45ff6"
      },
      "source": [
        "df['PJ名'].fillna('no_name')\n",
        "\n",
        "# これは中身の変更を反映させられているかの確認ができるだけ。中身の変更はされない。"
      ],
      "execution_count": 46,
      "outputs": [
        {
          "output_type": "execute_result",
          "data": {
            "text/plain": [
              "0                           The Songs of Adelaide & Abullah\n",
              "1             Greeting From Earth: ZGAC Arts Capsule For ET\n",
              "2                                            Where is Hank?\n",
              "3         ToshiCapital Rekordz Needs Help to Complete Album\n",
              "4         Community Film Project: The Art of Neighborhoo...\n",
              "                                ...                        \n",
              "378656    ChknTruk Nationwide Charity Drive 2014 (Canceled)\n",
              "378657                                            The Tribe\n",
              "378658    Walls of Remedy- New lesbian Romantic Comedy f...\n",
              "378659                             BioDefense Education Kit\n",
              "378660                    Nou Renmen Ayiti!  We Love Haiti!\n",
              "Name: PJ名, Length: 378661, dtype: object"
            ]
          },
          "metadata": {},
          "execution_count": 46
        }
      ]
    },
    {
      "cell_type": "code",
      "metadata": {
        "id": "KldNG8cCWQlO"
      },
      "source": [
        "# 中身を変更\n",
        "df['PJ名'] = df['PJ名'].fillna('no_name')"
      ],
      "execution_count": 52,
      "outputs": []
    },
    {
      "cell_type": "markdown",
      "metadata": {
        "id": "zN2DlscpXRIA"
      },
      "source": [
        "```\n",
        "`df ＝　 `じゃダメなのか？\n",
        "fillnaのメソッドの反映の動きがわからない\n",
        "\n"
      ]
    },
    {
      "cell_type": "code",
      "metadata": {
        "colab": {
          "base_uri": "https://localhost:8080/",
          "height": 262
        },
        "id": "8Ml1GU6xXpno",
        "outputId": "c51e04f4-f949-4e7a-a8bb-22bdf034b150"
      },
      "source": [
        "df.loc[[166851, 307234, 309991, 338931]]"
      ],
      "execution_count": 53,
      "outputs": [
        {
          "output_type": "execute_result",
          "data": {
            "text/html": [
              "<div>\n",
              "<style scoped>\n",
              "    .dataframe tbody tr th:only-of-type {\n",
              "        vertical-align: middle;\n",
              "    }\n",
              "\n",
              "    .dataframe tbody tr th {\n",
              "        vertical-align: top;\n",
              "    }\n",
              "\n",
              "    .dataframe thead th {\n",
              "        text-align: right;\n",
              "    }\n",
              "</style>\n",
              "<table border=\"1\" class=\"dataframe\">\n",
              "  <thead>\n",
              "    <tr style=\"text-align: right;\">\n",
              "      <th></th>\n",
              "      <th>PJ名</th>\n",
              "      <th>第2カテゴリー</th>\n",
              "      <th>第1カテゴリー</th>\n",
              "      <th>通貨</th>\n",
              "      <th>締切日</th>\n",
              "      <th>開始日</th>\n",
              "      <th>成否</th>\n",
              "      <th>支援者数</th>\n",
              "      <th>国</th>\n",
              "      <th>支援額</th>\n",
              "      <th>目標額</th>\n",
              "    </tr>\n",
              "  </thead>\n",
              "  <tbody>\n",
              "    <tr>\n",
              "      <th>166851</th>\n",
              "      <td>no_name</td>\n",
              "      <td>Narrative Film</td>\n",
              "      <td>Film &amp; Video</td>\n",
              "      <td>USD</td>\n",
              "      <td>2012-02-29</td>\n",
              "      <td>2012-01-01 12:35:31</td>\n",
              "      <td>failed</td>\n",
              "      <td>1</td>\n",
              "      <td>US</td>\n",
              "      <td>100.00</td>\n",
              "      <td>200000.00</td>\n",
              "    </tr>\n",
              "    <tr>\n",
              "      <th>307234</th>\n",
              "      <td>no_name</td>\n",
              "      <td>Video Games</td>\n",
              "      <td>Games</td>\n",
              "      <td>GBP</td>\n",
              "      <td>2013-01-06</td>\n",
              "      <td>2012-12-19 23:57:48</td>\n",
              "      <td>failed</td>\n",
              "      <td>12</td>\n",
              "      <td>GB</td>\n",
              "      <td>316.05</td>\n",
              "      <td>3224.97</td>\n",
              "    </tr>\n",
              "    <tr>\n",
              "      <th>309991</th>\n",
              "      <td>no_name</td>\n",
              "      <td>Product Design</td>\n",
              "      <td>Design</td>\n",
              "      <td>USD</td>\n",
              "      <td>2016-07-18</td>\n",
              "      <td>2016-06-18 05:01:47</td>\n",
              "      <td>suspended</td>\n",
              "      <td>0</td>\n",
              "      <td>US</td>\n",
              "      <td>0.00</td>\n",
              "      <td>2500.00</td>\n",
              "    </tr>\n",
              "    <tr>\n",
              "      <th>338931</th>\n",
              "      <td>no_name</td>\n",
              "      <td>Painting</td>\n",
              "      <td>Art</td>\n",
              "      <td>USD</td>\n",
              "      <td>2011-12-05</td>\n",
              "      <td>2011-11-06 23:55:55</td>\n",
              "      <td>failed</td>\n",
              "      <td>5</td>\n",
              "      <td>US</td>\n",
              "      <td>220.00</td>\n",
              "      <td>35000.00</td>\n",
              "    </tr>\n",
              "  </tbody>\n",
              "</table>\n",
              "</div>"
            ],
            "text/plain": [
              "            PJ名         第2カテゴリー       第1カテゴリー   通貨  ... 支援者数   国     支援額        目標額\n",
              "166851  no_name  Narrative Film  Film & Video  USD  ...    1  US  100.00  200000.00\n",
              "307234  no_name     Video Games         Games  GBP  ...   12  GB  316.05    3224.97\n",
              "309991  no_name  Product Design        Design  USD  ...    0  US    0.00    2500.00\n",
              "338931  no_name        Painting           Art  USD  ...    5  US  220.00   35000.00\n",
              "\n",
              "[4 rows x 11 columns]"
            ]
          },
          "metadata": {},
          "execution_count": 53
        }
      ]
    },
    {
      "cell_type": "markdown",
      "metadata": {
        "id": "xQLtyxcKYnQq"
      },
      "source": [
        "🟡[[]]になってるが、ここの捉え方よくわからん"
      ]
    },
    {
      "cell_type": "code",
      "metadata": {
        "colab": {
          "base_uri": "https://localhost:8080/"
        },
        "id": "OARExus7YRqM",
        "outputId": "39cf69a7-c196-4136-ad16-08ea45ea68e8"
      },
      "source": [
        "# 中身の確認\n",
        "# df.isnullではtrue faulsが帰ってくるだけのため以下で実行\n",
        "df.isnull().sum()"
      ],
      "execution_count": 50,
      "outputs": [
        {
          "output_type": "execute_result",
          "data": {
            "text/plain": [
              "PJ名        0\n",
              "第2カテゴリー    0\n",
              "第1カテゴリー    0\n",
              "通貨         0\n",
              "締切日        0\n",
              "開始日        0\n",
              "成否         0\n",
              "支援者数       0\n",
              "国          0\n",
              "支援額        0\n",
              "目標額        0\n",
              "dtype: int64"
            ]
          },
          "metadata": {},
          "execution_count": 50
        }
      ]
    },
    {
      "cell_type": "markdown",
      "metadata": {
        "id": "OtY3XJy5Zidl"
      },
      "source": [
        "# 2-3 データクレンジング 不要データの消去"
      ]
    },
    {
      "cell_type": "markdown",
      "metadata": {
        "id": "kTF0zwAFaNK2"
      },
      "source": [
        "## 2-3-1 第2カテゴリーカラムのデータクレンジング"
      ]
    },
    {
      "cell_type": "code",
      "metadata": {
        "colab": {
          "base_uri": "https://localhost:8080/"
        },
        "id": "zPXD3235b2lF",
        "outputId": "4f0e77ba-1518-45fe-eca4-cfce7c81c3eb"
      },
      "source": [
        "df['第2カテゴリー']\n",
        "# これは重複がある。１対１でデータが出てくる"
      ],
      "execution_count": 54,
      "outputs": [
        {
          "output_type": "execute_result",
          "data": {
            "text/plain": [
              "0                  Poetry\n",
              "1          Narrative Film\n",
              "2          Narrative Film\n",
              "3                   Music\n",
              "4            Film & Video\n",
              "               ...       \n",
              "378656        Documentary\n",
              "378657     Narrative Film\n",
              "378658     Narrative Film\n",
              "378659         Technology\n",
              "378660    Performance Art\n",
              "Name: 第2カテゴリー, Length: 378661, dtype: object"
            ]
          },
          "metadata": {},
          "execution_count": 54
        }
      ]
    },
    {
      "cell_type": "markdown",
      "metadata": {
        "id": "x6HX7os4cd3e"
      },
      "source": [
        "#### setメソッド"
      ]
    },
    {
      "cell_type": "code",
      "metadata": {
        "colab": {
          "base_uri": "https://localhost:8080/"
        },
        "id": "fUOSI_5ibvth",
        "outputId": "05af7b10-f707-4489-c055-340660ee0a1d"
      },
      "source": [
        "set(df['第2カテゴリー'])"
      ],
      "execution_count": 58,
      "outputs": [
        {
          "output_type": "execute_result",
          "data": {
            "text/plain": [
              "{'3D Printing',\n",
              " 'Academic',\n",
              " 'Accessories',\n",
              " 'Action',\n",
              " 'Animals',\n",
              " 'Animation',\n",
              " 'Anthologies',\n",
              " 'Apparel',\n",
              " 'Apps',\n",
              " 'Architecture',\n",
              " 'Art',\n",
              " 'Art Books',\n",
              " 'Audio',\n",
              " 'Bacon',\n",
              " 'Blues',\n",
              " 'Calendars',\n",
              " 'Camera Equipment',\n",
              " 'Candles',\n",
              " 'Ceramics',\n",
              " \"Children's Books\",\n",
              " 'Childrenswear',\n",
              " 'Chiptune',\n",
              " 'Civic Design',\n",
              " 'Classical Music',\n",
              " 'Comedy',\n",
              " 'Comic Books',\n",
              " 'Comics',\n",
              " 'Community Gardens',\n",
              " 'Conceptual Art',\n",
              " 'Cookbooks',\n",
              " 'Country & Folk',\n",
              " 'Couture',\n",
              " 'Crafts',\n",
              " 'Crochet',\n",
              " 'DIY',\n",
              " 'DIY Electronics',\n",
              " 'Dance',\n",
              " 'Design',\n",
              " 'Digital Art',\n",
              " 'Documentary',\n",
              " 'Drama',\n",
              " 'Drinks',\n",
              " 'Electronic Music',\n",
              " 'Embroidery',\n",
              " 'Events',\n",
              " 'Experimental',\n",
              " 'Fabrication Tools',\n",
              " 'Faith',\n",
              " 'Family',\n",
              " 'Fantasy',\n",
              " \"Farmer's Markets\",\n",
              " 'Farms',\n",
              " 'Fashion',\n",
              " 'Festivals',\n",
              " 'Fiction',\n",
              " 'Film & Video',\n",
              " 'Fine Art',\n",
              " 'Flight',\n",
              " 'Food',\n",
              " 'Food Trucks',\n",
              " 'Footwear',\n",
              " 'Gadgets',\n",
              " 'Games',\n",
              " 'Gaming Hardware',\n",
              " 'Glass',\n",
              " 'Graphic Design',\n",
              " 'Graphic Novels',\n",
              " 'Hardware',\n",
              " 'Hip-Hop',\n",
              " 'Horror',\n",
              " 'Illustration',\n",
              " 'Immersive',\n",
              " 'Indie Rock',\n",
              " 'Installations',\n",
              " 'Interactive Design',\n",
              " 'Jazz',\n",
              " 'Jewelry',\n",
              " 'Journalism',\n",
              " 'Kids',\n",
              " 'Knitting',\n",
              " 'Latin',\n",
              " 'Letterpress',\n",
              " 'Literary Journals',\n",
              " 'Literary Spaces',\n",
              " 'Live Games',\n",
              " 'Makerspaces',\n",
              " 'Metal',\n",
              " 'Mixed Media',\n",
              " 'Mobile Games',\n",
              " 'Movie Theaters',\n",
              " 'Music',\n",
              " 'Music Videos',\n",
              " 'Musical',\n",
              " 'Narrative Film',\n",
              " 'Nature',\n",
              " 'Nonfiction',\n",
              " 'Painting',\n",
              " 'People',\n",
              " 'Performance Art',\n",
              " 'Performances',\n",
              " 'Periodicals',\n",
              " 'Pet Fashion',\n",
              " 'Photo',\n",
              " 'Photobooks',\n",
              " 'Photography',\n",
              " 'Places',\n",
              " 'Playing Cards',\n",
              " 'Plays',\n",
              " 'Poetry',\n",
              " 'Pop',\n",
              " 'Pottery',\n",
              " 'Print',\n",
              " 'Printing',\n",
              " 'Product Design',\n",
              " 'Public Art',\n",
              " 'Publishing',\n",
              " 'Punk',\n",
              " 'Puzzles',\n",
              " 'Quilts',\n",
              " 'R&B',\n",
              " 'Radio & Podcasts',\n",
              " 'Ready-to-wear',\n",
              " 'Residencies',\n",
              " 'Restaurants',\n",
              " 'Robots',\n",
              " 'Rock',\n",
              " 'Romance',\n",
              " 'Science Fiction',\n",
              " 'Sculpture',\n",
              " 'Shorts',\n",
              " 'Small Batch',\n",
              " 'Software',\n",
              " 'Sound',\n",
              " 'Space Exploration',\n",
              " 'Spaces',\n",
              " 'Stationery',\n",
              " 'Tabletop Games',\n",
              " 'Taxidermy',\n",
              " 'Technology',\n",
              " 'Television',\n",
              " 'Textiles',\n",
              " 'Theater',\n",
              " 'Thrillers',\n",
              " 'Translations',\n",
              " 'Typography',\n",
              " 'Vegan',\n",
              " 'Video',\n",
              " 'Video Art',\n",
              " 'Video Games',\n",
              " 'Wearables',\n",
              " 'Weaving',\n",
              " 'Web',\n",
              " 'Webcomics',\n",
              " 'Webseries',\n",
              " 'Woodworking',\n",
              " 'Workshops',\n",
              " 'World Music',\n",
              " 'Young Adult',\n",
              " 'Zines'}"
            ]
          },
          "metadata": {},
          "execution_count": 58
        }
      ]
    },
    {
      "cell_type": "markdown",
      "metadata": {
        "id": "HgcbSidJczPq"
      },
      "source": [
        "#### lenメソッド\n",
        "カラムを配列としてみた時の長さがわかる。\n",
        "\n",
        "infoとの違いは？"
      ]
    },
    {
      "cell_type": "code",
      "metadata": {
        "colab": {
          "base_uri": "https://localhost:8080/"
        },
        "id": "M271DDQhcqUN",
        "outputId": "b27c9d89-52a6-40a3-f8d8-0b0270b9e23a"
      },
      "source": [
        "len(set(df['第2カテゴリー']))"
      ],
      "execution_count": 59,
      "outputs": [
        {
          "output_type": "execute_result",
          "data": {
            "text/plain": [
              "159"
            ]
          },
          "metadata": {},
          "execution_count": 59
        }
      ]
    },
    {
      "cell_type": "code",
      "metadata": {
        "id": "oynnYezXdkDA",
        "colab": {
          "base_uri": "https://localhost:8080/"
        },
        "outputId": "d5e97784-db07-4874-caeb-89dece963ce8"
      },
      "source": [
        "df.info()"
      ],
      "execution_count": 60,
      "outputs": [
        {
          "output_type": "stream",
          "name": "stdout",
          "text": [
            "<class 'pandas.core.frame.DataFrame'>\n",
            "RangeIndex: 378661 entries, 0 to 378660\n",
            "Data columns (total 11 columns):\n",
            " #   Column   Non-Null Count   Dtype  \n",
            "---  ------   --------------   -----  \n",
            " 0   PJ名      378661 non-null  object \n",
            " 1   第2カテゴリー  378661 non-null  object \n",
            " 2   第1カテゴリー  378661 non-null  object \n",
            " 3   通貨       378661 non-null  object \n",
            " 4   締切日      378661 non-null  object \n",
            " 5   開始日      378661 non-null  object \n",
            " 6   成否       378661 non-null  object \n",
            " 7   支援者数     378661 non-null  int64  \n",
            " 8   国        378661 non-null  object \n",
            " 9   支援額      378661 non-null  float64\n",
            " 10  目標額      378661 non-null  float64\n",
            "dtypes: float64(2), int64(1), object(8)\n",
            "memory usage: 31.8+ MB\n"
          ]
        }
      ]
    },
    {
      "cell_type": "markdown",
      "metadata": {
        "id": "x8-7eMARaW6f"
      },
      "source": [
        "## 2-3-2 第1カテゴリーカラムのデータクレンジング\n",
        "\n"
      ]
    },
    {
      "cell_type": "code",
      "metadata": {
        "colab": {
          "base_uri": "https://localhost:8080/"
        },
        "id": "HyGAwTi5jOcS",
        "outputId": "a6e8bfa9-17b0-47a0-a2f4-903b4cdc2a38"
      },
      "source": [
        "df['第1カテゴリー']"
      ],
      "execution_count": 61,
      "outputs": [
        {
          "output_type": "execute_result",
          "data": {
            "text/plain": [
              "0           Publishing\n",
              "1         Film & Video\n",
              "2         Film & Video\n",
              "3                Music\n",
              "4         Film & Video\n",
              "              ...     \n",
              "378656    Film & Video\n",
              "378657    Film & Video\n",
              "378658    Film & Video\n",
              "378659      Technology\n",
              "378660             Art\n",
              "Name: 第1カテゴリー, Length: 378661, dtype: object"
            ]
          },
          "metadata": {},
          "execution_count": 61
        }
      ]
    },
    {
      "cell_type": "code",
      "metadata": {
        "colab": {
          "base_uri": "https://localhost:8080/"
        },
        "id": "l7H-u2O_jUpM",
        "outputId": "3a8c48b9-3048-4005-9f70-7ec8580d0944"
      },
      "source": [
        "set(df['第1カテゴリー'])"
      ],
      "execution_count": 62,
      "outputs": [
        {
          "output_type": "execute_result",
          "data": {
            "text/plain": [
              "{'Art',\n",
              " 'Comics',\n",
              " 'Crafts',\n",
              " 'Dance',\n",
              " 'Design',\n",
              " 'Fashion',\n",
              " 'Film & Video',\n",
              " 'Food',\n",
              " 'Games',\n",
              " 'Journalism',\n",
              " 'Music',\n",
              " 'Photography',\n",
              " 'Publishing',\n",
              " 'Technology',\n",
              " 'Theater'}"
            ]
          },
          "metadata": {},
          "execution_count": 62
        }
      ]
    },
    {
      "cell_type": "code",
      "metadata": {
        "colab": {
          "base_uri": "https://localhost:8080/"
        },
        "id": "RAUeAp5xjZYS",
        "outputId": "c2e1fe56-1e35-43c3-bbe3-ba2959fe9798"
      },
      "source": [
        "len(set(df['第1カテゴリー']))\n",
        "# 他の方法は？\n",
        "# df.count_value('第1カテゴリー')　　×🟡🟦\n",
        "# df['第1カテゴリー'].value_counts()"
      ],
      "execution_count": 77,
      "outputs": [
        {
          "output_type": "execute_result",
          "data": {
            "text/plain": [
              "15"
            ]
          },
          "metadata": {},
          "execution_count": 77
        }
      ]
    },
    {
      "cell_type": "markdown",
      "metadata": {
        "id": "bMsnufAVl2Xw"
      },
      "source": [
        "`# df['第1カテゴリー'].value_counts()`はlengthを数えなきゃならんからあんまりよろしくない\n"
      ]
    },
    {
      "cell_type": "markdown",
      "metadata": {
        "id": "V0UqdQsdmPFN"
      },
      "source": [
        "---\n",
        "### Serbornライブラリのcountplotメソッド\n",
        "\n",
        "**を使うと、データの種類ごとの件数を集計してヒストグラムとして出力**\n",
        "\n",
        "\n",
        "```\n",
        "sns.countplot(集計対象のカラム名, data = データを格納している変数名)\n",
        "```\n",
        "の形\n",
        "\n",
        "[リンク１](https://note.nkmk.me/seaborn/)\n",
        "\n",
        "[PythonのライブラリSeabornの使い方【後編】\n",
        "](https://obgynai.com/python-seaborn-exercise2/)\n"
      ]
    },
    {
      "cell_type": "code",
      "metadata": {
        "colab": {
          "base_uri": "https://localhost:8080/",
          "height": 750
        },
        "id": "goBu30rxmWQs",
        "outputId": "944d21b4-d4f7-41e7-f04b-1d1defcd11de"
      },
      "source": [
        "\n",
        "sns.countplot('第1カテゴリー',data = df)"
      ],
      "execution_count": 78,
      "outputs": [
        {
          "output_type": "stream",
          "name": "stderr",
          "text": [
            "/usr/local/lib/python3.7/dist-packages/seaborn/_decorators.py:43: FutureWarning: Pass the following variable as a keyword arg: x. From version 0.12, the only valid positional argument will be `data`, and passing other arguments without an explicit keyword will result in an error or misinterpretation.\n",
            "  FutureWarning\n"
          ]
        },
        {
          "output_type": "execute_result",
          "data": {
            "text/plain": [
              "<matplotlib.axes._subplots.AxesSubplot at 0x7fc5ebcab090>"
            ]
          },
          "metadata": {},
          "execution_count": 78
        },
        {
          "output_type": "stream",
          "name": "stderr",
          "text": [
            "/usr/local/lib/python3.7/dist-packages/matplotlib/backends/backend_agg.py:214: RuntimeWarning: Glyph 31532 missing from current font.\n",
            "  font.set_text(s, 0.0, flags=flags)\n",
            "/usr/local/lib/python3.7/dist-packages/matplotlib/backends/backend_agg.py:214: RuntimeWarning: Glyph 12459 missing from current font.\n",
            "  font.set_text(s, 0.0, flags=flags)\n",
            "/usr/local/lib/python3.7/dist-packages/matplotlib/backends/backend_agg.py:214: RuntimeWarning: Glyph 12486 missing from current font.\n",
            "  font.set_text(s, 0.0, flags=flags)\n",
            "/usr/local/lib/python3.7/dist-packages/matplotlib/backends/backend_agg.py:214: RuntimeWarning: Glyph 12468 missing from current font.\n",
            "  font.set_text(s, 0.0, flags=flags)\n",
            "/usr/local/lib/python3.7/dist-packages/matplotlib/backends/backend_agg.py:214: RuntimeWarning: Glyph 12522 missing from current font.\n",
            "  font.set_text(s, 0.0, flags=flags)\n",
            "/usr/local/lib/python3.7/dist-packages/matplotlib/backends/backend_agg.py:214: RuntimeWarning: Glyph 12540 missing from current font.\n",
            "  font.set_text(s, 0.0, flags=flags)\n",
            "/usr/local/lib/python3.7/dist-packages/matplotlib/backends/backend_agg.py:183: RuntimeWarning: Glyph 31532 missing from current font.\n",
            "  font.set_text(s, 0, flags=flags)\n",
            "/usr/local/lib/python3.7/dist-packages/matplotlib/backends/backend_agg.py:183: RuntimeWarning: Glyph 12459 missing from current font.\n",
            "  font.set_text(s, 0, flags=flags)\n",
            "/usr/local/lib/python3.7/dist-packages/matplotlib/backends/backend_agg.py:183: RuntimeWarning: Glyph 12486 missing from current font.\n",
            "  font.set_text(s, 0, flags=flags)\n",
            "/usr/local/lib/python3.7/dist-packages/matplotlib/backends/backend_agg.py:183: RuntimeWarning: Glyph 12468 missing from current font.\n",
            "  font.set_text(s, 0, flags=flags)\n",
            "/usr/local/lib/python3.7/dist-packages/matplotlib/backends/backend_agg.py:183: RuntimeWarning: Glyph 12522 missing from current font.\n",
            "  font.set_text(s, 0, flags=flags)\n",
            "/usr/local/lib/python3.7/dist-packages/matplotlib/backends/backend_agg.py:183: RuntimeWarning: Glyph 12540 missing from current font.\n",
            "  font.set_text(s, 0, flags=flags)\n"
          ]
        },
        {
          "output_type": "display_data",
          "data": {
            "image/png": "[encoded data removed]",
            "text/plain": [
              "<Figure size 432x288 with 1 Axes>"
            ]
          },
          "metadata": {
            "needs_background": "light"
          }
        }
      ]
    },
    {
      "cell_type": "markdown",
      "metadata": {
        "id": "F4aryC-TokZm"
      },
      "source": [
        "### 表示の変え方　　Seaborn.countplot(.set_xticklabels()\n",
        "\n",
        "重なって見えないので斜めになるよう表示の形式を変える\n",
        "\n",
        "\n",
        "**解説**\n",
        "\n",
        "※rotationオプションで回転角度、haオプションで項目名のどの位置を棒グラフの中心とそろえるかを指定できます。\n",
        "\n"
      ]
    },
    {
      "cell_type": "code",
      "metadata": {
        "colab": {
          "base_uri": "https://localhost:8080/",
          "height": 630
        },
        "id": "0UUj65Lypztb",
        "outputId": "8aae58fc-2774-48b5-e7b5-ca8e18778a49"
      },
      "source": [
        "fig = sns.countplot('第1カテゴリー', data = df)\n",
        "fig.set_xticklabels(fig.get_xticklabels(), rotation = 40, ha = 'right')"
      ],
      "execution_count": 81,
      "outputs": [
        {
          "output_type": "stream",
          "name": "stderr",
          "text": [
            "/usr/local/lib/python3.7/dist-packages/seaborn/_decorators.py:43: FutureWarning: Pass the following variable as a keyword arg: x. From version 0.12, the only valid positional argument will be `data`, and passing other arguments without an explicit keyword will result in an error or misinterpretation.\n",
            "  FutureWarning\n"
          ]
        },
        {
          "output_type": "execute_result",
          "data": {
            "text/plain": [
              "[Text(0, 0, 'Publishing'),\n",
              " Text(0, 0, 'Film & Video'),\n",
              " Text(0, 0, 'Music'),\n",
              " Text(0, 0, 'Food'),\n",
              " Text(0, 0, 'Design'),\n",
              " Text(0, 0, 'Crafts'),\n",
              " Text(0, 0, 'Games'),\n",
              " Text(0, 0, 'Comics'),\n",
              " Text(0, 0, 'Fashion'),\n",
              " Text(0, 0, 'Theater'),\n",
              " Text(0, 0, 'Art'),\n",
              " Text(0, 0, 'Photography'),\n",
              " Text(0, 0, 'Technology'),\n",
              " Text(0, 0, 'Dance'),\n",
              " Text(0, 0, 'Journalism')]"
            ]
          },
          "metadata": {},
          "execution_count": 81
        },
        {
          "output_type": "display_data",
          "data": {
            "image/png": "[encoded data removed]",
            "text/plain": [
              "<Figure size 432x288 with 1 Axes>"
            ]
          },
          "metadata": {
            "needs_background": "light"
          }
        }
      ]
    },
    {
      "cell_type": "markdown",
      "metadata": {
        "id": "4YCunr2anSbN"
      },
      "source": [
        "### 文字化けの変更\n",
        "\n",
        "物理名が日本語であり、グラフの横軸に文字化けがあるので日本語化に必要なライブラリをインポート\n",
        "\n",
        "※pip installはLinuxコマンドの一種で、コマンドの前に!をつけることで、pythonコードではなくLinuxコマンドであるとGoogle Colaboratoryが認識してくれます。\n",
        "\n"
      ]
    },
    {
      "cell_type": "code",
      "metadata": {
        "colab": {
          "base_uri": "https://localhost:8080/"
        },
        "id": "uJPJFC5Gnj8O",
        "outputId": "26776034-a99e-4740-90cb-9da6f2f197ec"
      },
      "source": [
        "!pip install japanize-matplotlib"
      ],
      "execution_count": 79,
      "outputs": [
        {
          "output_type": "stream",
          "name": "stdout",
          "text": [
            "Collecting japanize-matplotlib\n",
            "  Downloading japanize-matplotlib-1.1.3.tar.gz (4.1 MB)\n",
            "\u001b[K     |████████████████████████████████| 4.1 MB 5.2 MB/s \n",
            "\u001b[?25hRequirement already satisfied: matplotlib in /usr/local/lib/python3.7/dist-packages (from japanize-matplotlib) (3.2.2)\n",
            "Requirement already satisfied: pyparsing!=2.0.4,!=2.1.2,!=2.1.6,>=2.0.1 in /usr/local/lib/python3.7/dist-packages (from matplotlib->japanize-matplotlib) (3.0.6)\n",
            "Requirement already satisfied: kiwisolver>=1.0.1 in /usr/local/lib/python3.7/dist-packages (from matplotlib->japanize-matplotlib) (1.3.2)\n",
            "Requirement already satisfied: numpy>=1.11 in /usr/local/lib/python3.7/dist-packages (from matplotlib->japanize-matplotlib) (1.19.5)\n",
            "Requirement already satisfied: python-dateutil>=2.1 in /usr/local/lib/python3.7/dist-packages (from matplotlib->japanize-matplotlib) (2.8.2)\n",
            "Requirement already satisfied: cycler>=0.10 in /usr/local/lib/python3.7/dist-packages (from matplotlib->japanize-matplotlib) (0.11.0)\n",
            "Requirement already satisfied: six>=1.5 in /usr/local/lib/python3.7/dist-packages (from python-dateutil>=2.1->matplotlib->japanize-matplotlib) (1.15.0)\n",
            "Building wheels for collected packages: japanize-matplotlib\n",
            "  Building wheel for japanize-matplotlib (setup.py) ... \u001b[?25l\u001b[?25hdone\n",
            "  Created wheel for japanize-matplotlib: filename=japanize_matplotlib-1.1.3-py3-none-any.whl size=4120274 sha256=25282046e5320592a53d9e4eb435ea6f58f73a260294c72c82f6b5168a0e18b2\n",
            "  Stored in directory: /root/.cache/pip/wheels/83/97/6b/e9e0cde099cc40f972b8dd23367308f7705ae06cd6d4714658\n",
            "Successfully built japanize-matplotlib\n",
            "Installing collected packages: japanize-matplotlib\n",
            "Successfully installed japanize-matplotlib-1.1.3\n"
          ]
        }
      ]
    },
    {
      "cell_type": "code",
      "metadata": {
        "colab": {
          "base_uri": "https://localhost:8080/",
          "height": 350
        },
        "id": "32SSCBEpnwOM",
        "outputId": "e0aaa77c-6e7a-49c8-b866-8f239620ac42"
      },
      "source": [
        "# インストールしたものをインポート\n",
        "import japanize_matplotlib\n",
        "sns.countplot('第1カテゴリー', data = df)"
      ],
      "execution_count": 80,
      "outputs": [
        {
          "output_type": "stream",
          "name": "stderr",
          "text": [
            "/usr/local/lib/python3.7/dist-packages/seaborn/_decorators.py:43: FutureWarning: Pass the following variable as a keyword arg: x. From version 0.12, the only valid positional argument will be `data`, and passing other arguments without an explicit keyword will result in an error or misinterpretation.\n",
            "  FutureWarning\n"
          ]
        },
        {
          "output_type": "execute_result",
          "data": {
            "text/plain": [
              "<matplotlib.axes._subplots.AxesSubplot at 0x7fc5ebb80b90>"
            ]
          },
          "metadata": {},
          "execution_count": 80
        },
        {
          "output_type": "display_data",
          "data": {
            "image/png": "[encoded data removed]",
            "text/plain": [
              "<Figure size 432x288 with 1 Axes>"
            ]
          },
          "metadata": {
            "needs_background": "light"
          }
        }
      ]
    },
    {
      "cell_type": "code",
      "metadata": {
        "colab": {
          "base_uri": "https://localhost:8080/",
          "height": 630
        },
        "id": "5VjcvVh8qQDZ",
        "outputId": "ca546feb-7502-4023-d346-f19ac6d4ebe0"
      },
      "source": [
        "fig = sns.countplot('第1カテゴリー', data = df)\n",
        "fig.set_xticklabels(fig.get_xticklabels(), rotation = 40, ha = 'right')"
      ],
      "execution_count": 83,
      "outputs": [
        {
          "output_type": "stream",
          "name": "stderr",
          "text": [
            "/usr/local/lib/python3.7/dist-packages/seaborn/_decorators.py:43: FutureWarning: Pass the following variable as a keyword arg: x. From version 0.12, the only valid positional argument will be `data`, and passing other arguments without an explicit keyword will result in an error or misinterpretation.\n",
            "  FutureWarning\n"
          ]
        },
        {
          "output_type": "execute_result",
          "data": {
            "text/plain": [
              "[Text(0, 0, 'Publishing'),\n",
              " Text(0, 0, 'Film & Video'),\n",
              " Text(0, 0, 'Music'),\n",
              " Text(0, 0, 'Food'),\n",
              " Text(0, 0, 'Design'),\n",
              " Text(0, 0, 'Crafts'),\n",
              " Text(0, 0, 'Games'),\n",
              " Text(0, 0, 'Comics'),\n",
              " Text(0, 0, 'Fashion'),\n",
              " Text(0, 0, 'Theater'),\n",
              " Text(0, 0, 'Art'),\n",
              " Text(0, 0, 'Photography'),\n",
              " Text(0, 0, 'Technology'),\n",
              " Text(0, 0, 'Dance'),\n",
              " Text(0, 0, 'Journalism')]"
            ]
          },
          "metadata": {},
          "execution_count": 83
        },
        {
          "output_type": "display_data",
          "data": {
            "image/png": "[encoded data removed]",
            "text/plain": [
              "<Figure size 432x288 with 1 Axes>"
            ]
          },
          "metadata": {
            "needs_background": "light"
          }
        }
      ]
    },
    {
      "cell_type": "markdown",
      "metadata": {
        "id": "_6rxEVSSrZAA"
      },
      "source": [
        "一つだけめちゃめくちゃ少ないなど、目標達成に関係する異常なデータはないため大丈夫。\n",
        "\n",
        "大丈夫とは？ここからさらにできることは？？\n"
      ]
    },
    {
      "cell_type": "markdown",
      "metadata": {
        "id": "SIGC9ul6aXbr"
      },
      "source": [
        "## 2-3-3 通貨カラムのデータクレンジング\n"
      ]
    },
    {
      "cell_type": "markdown",
      "metadata": {
        "id": "lEY10EPWaWbQ"
      },
      "source": [
        ""
      ]
    },
    {
      "cell_type": "code",
      "metadata": {
        "id": "-2qQrI90Y4SF"
      },
      "source": [
        ""
      ],
      "execution_count": 57,
      "outputs": []
    }
  ]
}